{
  "nbformat": 4,
  "nbformat_minor": 0,
  "metadata": {
    "colab": {
      "provenance": [],
      "toc_visible": true
    },
    "kernelspec": {
      "name": "python3",
      "display_name": "Python 3"
    },
    "language_info": {
      "name": "python"
    }
  },
  "cells": [
    {
      "cell_type": "markdown",
      "source": [
        "# Installation & Setup"
      ],
      "metadata": {
        "id": "bvF2LUKURqhS"
      }
    },
    {
      "cell_type": "code",
      "source": [
        "%%capture\n",
        "!pip install nltk\n",
        "!pip install transformers\n",
        "!pip install datasets\n",
        "!pip install srt\n",
        "!pip install gdown\n",
        "!apt install ffmpeg\n",
        "!pip install deepmultilingualpunctuation\n",
        "!pip install silero-vad\n",
        "!pip install spacy\n",
        "!pip install pytextrank\n",
        "!pip install pydub\n",
        "\n",
        "!pip install git+https://github.com/m-bain/whisperX.git"
      ],
      "metadata": {
        "id": "MaAi3yOUWxq0"
      },
      "execution_count": 83,
      "outputs": []
    },
    {
      "cell_type": "code",
      "source": [
        "import os\n",
        "import numpy as np\n",
        "import pandas as pd\n",
        "from google.colab import files\n",
        "import tarfile\n",
        "import gdown\n",
        "import nltk\n",
        "from nltk.tokenize import sent_tokenize\n",
        "import spacy\n",
        "import srt\n",
        "from functools import reduce\n",
        "from pydub import AudioSegment\n",
        "\n",
        "from datasets import load_dataset\n",
        "import torch\n",
        "import torchaudio\n",
        "import torch.nn.functional as F\n",
        "from transformers import \\\n",
        "LongformerTokenizer, LongformerModel, LongformerForSequenceClassification, LongformerConfig, \\\n",
        "RobertaTokenizer, RobertaForTokenClassification, Trainer, TrainingArguments, \\\n",
        "LEDTokenizer, LEDForConditionalGeneration\n",
        "\n",
        "# Text\n",
        "import pytextrank\n",
        "\n",
        "# Audio\n",
        "import whisperx\n",
        "import silero_vad\n",
        "from silero_vad import load_silero_vad, read_audio, get_speech_timestamps\n",
        "\n",
        "# Video"
      ],
      "metadata": {
        "id": "oiFdk6oSYg8w"
      },
      "execution_count": 122,
      "outputs": []
    },
    {
      "cell_type": "code",
      "source": [
        "%%capture\n",
        "# NLTK\n",
        "nltk.download('punkt')\n",
        "nltk.download('punkt_tab')"
      ],
      "metadata": {
        "id": "uezzF1YfwZ8S",
        "outputId": "6fd3395c-241c-438b-c955-07fb078c6f5f",
        "colab": {
          "base_uri": "https://localhost:8080/"
        }
      },
      "execution_count": 3,
      "outputs": [
        {
          "output_type": "stream",
          "name": "stderr",
          "text": [
            "[nltk_data] Downloading package punkt to /root/nltk_data...\n",
            "[nltk_data]   Package punkt is already up-to-date!\n",
            "[nltk_data] Downloading package punkt_tab to /root/nltk_data...\n",
            "[nltk_data]   Package punkt_tab is already up-to-date!\n"
          ]
        }
      ]
    },
    {
      "cell_type": "code",
      "source": [
        "# Notebook config\n",
        "os.environ[\"WANDB_DISABLED\"] = \"true\""
      ],
      "metadata": {
        "id": "oHj-ew8rbyYB"
      },
      "execution_count": 4,
      "outputs": []
    },
    {
      "cell_type": "markdown",
      "source": [
        "# Variables"
      ],
      "metadata": {
        "id": "LYkbiBtust3v"
      }
    },
    {
      "cell_type": "code",
      "source": [
        "video_input = \"dataset/teamwork in the classroom.mov\"\n",
        "\n",
        "full_base = os.path.dirname(video_input)\n",
        "path_dataset = full_base\n",
        "filename = os.path.basename(video_input)\n",
        "filename_without_extension = os.path.splitext(filename)[0]\n",
        "\n",
        "filename_video_input = filename\n",
        "filename_subtitles_output = filename_without_extension + \".srt\"\n",
        "filename_audio_output = filename_without_extension + \".wav\"\n",
        "\n",
        "subtitles_output = os.path.join(full_base, filename_subtitles_output)\n",
        "audio_output = os.path.join(full_base, filename_audio_output)\n",
        "\n",
        "video = ''\n",
        "audio = ''\n",
        "subtitles = ''\n",
        "sentences = ''"
      ],
      "metadata": {
        "id": "5qOwE-2vstJc"
      },
      "execution_count": 5,
      "outputs": []
    },
    {
      "cell_type": "code",
      "source": [
        "# Download\n",
        "# files.download(audio_output)"
      ],
      "metadata": {
        "colab": {
          "base_uri": "https://localhost:8080/",
          "height": 17
        },
        "id": "xx1C6Lk35JbV",
        "outputId": "307bc19d-098d-4bb7-fe98-71c8d88e7377"
      },
      "execution_count": 123,
      "outputs": [
        {
          "output_type": "display_data",
          "data": {
            "text/plain": [
              "<IPython.core.display.Javascript object>"
            ],
            "application/javascript": [
              "\n",
              "    async function download(id, filename, size) {\n",
              "      if (!google.colab.kernel.accessAllowed) {\n",
              "        return;\n",
              "      }\n",
              "      const div = document.createElement('div');\n",
              "      const label = document.createElement('label');\n",
              "      label.textContent = `Downloading \"${filename}\": `;\n",
              "      div.appendChild(label);\n",
              "      const progress = document.createElement('progress');\n",
              "      progress.max = size;\n",
              "      div.appendChild(progress);\n",
              "      document.body.appendChild(div);\n",
              "\n",
              "      const buffers = [];\n",
              "      let downloaded = 0;\n",
              "\n",
              "      const channel = await google.colab.kernel.comms.open(id);\n",
              "      // Send a message to notify the kernel that we're ready.\n",
              "      channel.send({})\n",
              "\n",
              "      for await (const message of channel.messages) {\n",
              "        // Send a message to notify the kernel that we're ready.\n",
              "        channel.send({})\n",
              "        if (message.buffers) {\n",
              "          for (const buffer of message.buffers) {\n",
              "            buffers.push(buffer);\n",
              "            downloaded += buffer.byteLength;\n",
              "            progress.value = downloaded;\n",
              "          }\n",
              "        }\n",
              "      }\n",
              "      const blob = new Blob(buffers, {type: 'application/binary'});\n",
              "      const a = document.createElement('a');\n",
              "      a.href = window.URL.createObjectURL(blob);\n",
              "      a.download = filename;\n",
              "      div.appendChild(a);\n",
              "      a.click();\n",
              "      div.remove();\n",
              "    }\n",
              "  "
            ]
          },
          "metadata": {}
        },
        {
          "output_type": "display_data",
          "data": {
            "text/plain": [
              "<IPython.core.display.Javascript object>"
            ],
            "application/javascript": [
              "download(\"download_07459712-cac2-4920-bc97-af45d1dbd296\", \"teamwork in the classroom.wav\", 62371358)"
            ]
          },
          "metadata": {}
        }
      ]
    },
    {
      "cell_type": "markdown",
      "source": [
        "# Datasets"
      ],
      "metadata": {
        "id": "0E33VpXsRdq2"
      }
    },
    {
      "cell_type": "code",
      "source": [
        "# Google Drive Dataset Location\n",
        "folder_id = '1k7DLJPl1xz9lpU4l3dZYtPe1XawhrXeC' # taken from drive.google.com/drive/u/1/folders/1k7D...(this part)\n",
        "gdown.download_folder(id=folder_id, quiet=False, use_cookies=False)"
      ],
      "metadata": {
        "colab": {
          "base_uri": "https://localhost:8080/"
        },
        "id": "G3N4G0ODPvfr",
        "outputId": "34241153-ce80-4c1a-a7f0-16064056da14"
      },
      "execution_count": 7,
      "outputs": [
        {
          "output_type": "stream",
          "name": "stderr",
          "text": [
            "Retrieving folder contents\n"
          ]
        },
        {
          "output_type": "stream",
          "name": "stdout",
          "text": [
            "Processing file 1vuIW3CVm2p_Ig-_srJ5sIwUxzTGqdGHp assessing students without exams.mov\n",
            "Processing file 1OP3zzSmpKJ0RDPasl9AGQD2yNeCEXtoR flipped learning basics.mov\n",
            "Processing file 1wslcvTNd88FQMXJgvGbKR3sjwXORR6xt teamwork in the classroom.mov\n"
          ]
        },
        {
          "output_type": "stream",
          "name": "stderr",
          "text": [
            "Retrieving folder contents completed\n",
            "Building directory structure\n",
            "Building directory structure completed\n",
            "Downloading...\n",
            "From (original): https://drive.google.com/uc?id=1vuIW3CVm2p_Ig-_srJ5sIwUxzTGqdGHp\n",
            "From (redirected): https://drive.google.com/uc?id=1vuIW3CVm2p_Ig-_srJ5sIwUxzTGqdGHp&confirm=t&uuid=19df07d6-2d86-4e16-a7fe-66bf3650c43d\n",
            "To: /content/dataset/assessing students without exams.mov\n",
            "100%|██████████| 875M/875M [00:11<00:00, 78.2MB/s]\n",
            "Downloading...\n",
            "From (original): https://drive.google.com/uc?id=1OP3zzSmpKJ0RDPasl9AGQD2yNeCEXtoR\n",
            "From (redirected): https://drive.google.com/uc?id=1OP3zzSmpKJ0RDPasl9AGQD2yNeCEXtoR&confirm=t&uuid=956ab9f8-6d62-4814-b5f8-fd72055b1f65\n",
            "To: /content/dataset/flipped learning basics.mov\n",
            "100%|██████████| 399M/399M [00:12<00:00, 32.0MB/s]\n",
            "Downloading...\n",
            "From (original): https://drive.google.com/uc?id=1wslcvTNd88FQMXJgvGbKR3sjwXORR6xt\n",
            "From (redirected): https://drive.google.com/uc?id=1wslcvTNd88FQMXJgvGbKR3sjwXORR6xt&confirm=t&uuid=c160edb0-a1de-4b1d-b36b-d7823cf0a38a\n",
            "To: /content/dataset/teamwork in the classroom.mov\n",
            "100%|██████████| 202M/202M [00:02<00:00, 80.3MB/s]\n",
            "Download completed\n"
          ]
        },
        {
          "output_type": "execute_result",
          "data": {
            "text/plain": [
              "['/content/dataset/assessing students without exams.mov',\n",
              " '/content/dataset/flipped learning basics.mov',\n",
              " '/content/dataset/teamwork in the classroom.mov']"
            ]
          },
          "metadata": {},
          "execution_count": 7
        }
      ]
    },
    {
      "cell_type": "code",
      "source": [
        "# Simple Test Dataset:\n",
        "paragrah_simple = \"Renewable energy is crucial for reducing carbon emissions. Solar power, in particular, is sustainable and abundant. Interestingly, solar panels were first invented in 1954. With continued advancements, solar energy is becoming more accessible in everyday life.\"\n",
        "paragraph_simple_unpunct = \"Renewable energy is crucial for reducing carbon emissions  Solar power, in particular, is sustainable and abundant Interestingly, solar panels were first invented in 1954 With continued advancements, solar energy is becoming more accessible in everyday life\"\n",
        "\n",
        "# Other: CNN/Daily Mail\n",
        "# dataset_news = load_dataset(\"cnn_dailymail\", \"3.0.0\")\n",
        "# paragraph_news = dataset_news['train']['article'][0]\n",
        "# summary_news = dataset_news['train']['highlights'][0]"
      ],
      "metadata": {
        "id": "KIZL57wtPiYb"
      },
      "execution_count": 8,
      "outputs": []
    },
    {
      "cell_type": "markdown",
      "source": [
        "SRT  \n",
        "each **`subtitle`** in the subtitles array has the following properties:\n",
        "\n",
        "1. **`index`**\n",
        "   - The sequential number of the subtitle within the SRT file.\n",
        "   - `1`, `2`, `3`, etc. (Integer)\n",
        "2. **`start`**\n",
        "   - The time (in milliseconds) when the subtitle should appear on the screen.\n",
        "   - `00:00:05,000` (String representing HH:MM:SS,SSS)\n",
        "3. **`end`**\n",
        "   - The time (in milliseconds) when the subtitle should disappear from the screen.\n",
        "   - `00:00:10,000` (String representing HH:MM:SS,SSS)\n",
        "4. **`content`**\n",
        "   - The actual text of the subtitle that will be displayed.\n",
        "   - \"Hello, world!\" (String)\n",
        "5. **`proprietary`**\n",
        "   - This field holds any additional data or formatting specific to the SRT file or software used to create it. Often empty and can usually be ignored.\n",
        "   - `''` (Empty string, or sometimes contains specific formatting codes)"
      ],
      "metadata": {
        "id": "tCtO9Rg6J5Dz"
      }
    },
    {
      "cell_type": "markdown",
      "source": [
        "# Preprocessing"
      ],
      "metadata": {
        "id": "7dsF0AmX2pt9"
      }
    },
    {
      "cell_type": "markdown",
      "source": [
        "## Audio - Load"
      ],
      "metadata": {
        "id": "_zukAoWW7Ia0"
      }
    },
    {
      "cell_type": "code",
      "source": [
        "%%capture\n",
        "# Extract audio (wav) from video\n",
        "!ffmpeg -y -i \"$video_input\" -vn -acodec pcm_s16le -ar 44100 -ac 2 \"$audio_output\""
      ],
      "metadata": {
        "id": "N_E3vUnK7GYc"
      },
      "execution_count": 41,
      "outputs": []
    },
    {
      "cell_type": "markdown",
      "source": [
        "## Audio - SRT Generation"
      ],
      "metadata": {
        "id": "-aWRBu9h7XkF"
      }
    },
    {
      "cell_type": "markdown",
      "source": [
        "##### Time Taken: ~4min"
      ],
      "metadata": {
        "id": "p9DVWtXh79zY"
      }
    },
    {
      "cell_type": "code",
      "source": [
        "# Select device (GPU if available, otherwise CPU)\n",
        "device = \"cuda\" if torch.cuda.is_available() else \"cpu\"\n",
        "language=\"en\"\n",
        "compute_type=\"int8\"\n",
        "\n",
        "# Model WhisperX\n",
        "model = whisperx.load_model(\"base\", device=device, language=language, compute_type=compute_type) # Choose \"base\" or \"large\" model\n",
        "\n",
        "# Transcribe audio\n",
        "result = model.transcribe(audio_output)\n",
        "\n",
        "# Align with forced alignment\n",
        "alignment_model, metadata = whisperx.load_align_model(language_code=result[\"language\"], device=device)\n",
        "result = whisperx.align(result[\"segments\"], alignment_model, metadata, audio_output, device)\n",
        "\n",
        "# Generate SRT file with aligned sentences\n",
        "with open(subtitles_output, \"w\") as f:\n",
        "    for i, segment in enumerate(result[\"segments\"], 1):\n",
        "        # Get start and end times in SRT format\n",
        "        start_time = whisperx.utils.format_timestamp(segment[\"start\"])\n",
        "        end_time = whisperx.utils.format_timestamp(segment[\"end\"])\n",
        "\n",
        "        # Write SRT entry\n",
        "        f.write(f\"{i}\\n{start_time} --> {end_time}\\n{segment['text']}\\n\\n\")\n",
        "\n",
        "print(f\"SRT file generated: {subtitles_output}\")"
      ],
      "metadata": {
        "colab": {
          "base_uri": "https://localhost:8080/"
        },
        "id": "gG9mX-np7hl5",
        "outputId": "50e8b0a1-1359-468a-cfb8-f2e0208e78f1"
      },
      "execution_count": 92,
      "outputs": [
        {
          "output_type": "stream",
          "name": "stderr",
          "text": [
            "INFO:pytorch_lightning.utilities.migration.utils:Lightning automatically upgraded your loaded checkpoint from v1.5.4 to v2.4.0. To apply the upgrade to your files permanently, run `python -m pytorch_lightning.utilities.upgrade_checkpoint ../root/.cache/torch/whisperx-vad-segmentation.bin`\n"
          ]
        },
        {
          "output_type": "stream",
          "name": "stdout",
          "text": [
            "Model was trained with pyannote.audio 0.0.1, yours is 3.1.1. Bad things might happen unless you revert pyannote.audio to 0.x.\n",
            "Model was trained with torch 1.10.0+cu102, yours is 2.5.0+cu121. Bad things might happen unless you revert torch to 1.x.\n",
            "SRT file generated: dataset/teamwork in the classroom.srt\n"
          ]
        }
      ]
    },
    {
      "cell_type": "markdown",
      "source": [
        "## Text - Sentence Segmentation"
      ],
      "metadata": {
        "id": "Dgaty2bZ-4HZ"
      }
    },
    {
      "cell_type": "code",
      "source": [
        "sentences = []\n",
        "for i, segment in enumerate(result[\"segments\"], 1):\n",
        "    start_time = whisperx.utils.format_timestamp(segment[\"start\"])\n",
        "    end_time = whisperx.utils.format_timestamp(segment[\"end\"])\n",
        "    sentences.append({\n",
        "        'base_idx': i-1,\n",
        "        'start_time': start_time,\n",
        "        'end_time': end_time,\n",
        "        'sentence': segment['text']\n",
        "    })\n",
        "\n",
        "df_sentences = pd.DataFrame(sentences)\n",
        "sentences = df_sentences['sentence'].tolist()\n",
        "\n",
        "display(df_sentences)"
      ],
      "metadata": {
        "id": "72E_kMUVUN6b",
        "colab": {
          "base_uri": "https://localhost:8080/",
          "height": 424
        },
        "outputId": "1cebb331-eeb7-4bcd-a02d-f829e4648378"
      },
      "execution_count": 137,
      "outputs": [
        {
          "output_type": "display_data",
          "data": {
            "text/plain": [
              "    base_idx start_time   end_time  \\\n",
              "0          0  00:01.274  00:08.685   \n",
              "1          1  00:11.058  00:13.319   \n",
              "2          2  00:13.359  00:17.480   \n",
              "3          3  00:17.700  00:20.061   \n",
              "4          4  00:20.621  00:23.862   \n",
              "..       ...        ...        ...   \n",
              "69        69  05:46.624  05:48.245   \n",
              "70        70  05:48.385  05:49.406   \n",
              "71        71  05:49.526  05:50.266   \n",
              "72        72  05:50.547  05:51.487   \n",
              "73        73  05:51.707  05:52.308   \n",
              "\n",
              "                                             sentence  \n",
              "0    Hello, this is Lino Cordia and today I want t...  \n",
              "1    So why is teamwork in the classroom so import...  \n",
              "2   Well, for our students, it allows them to deve...  \n",
              "3   Communication skills, leadership skills, et ce...  \n",
              "4   Also, when you're working with a team, you get...  \n",
              "..                                                ...  \n",
              "69                        And yeah, please reach out.  \n",
              "70                     I would love to hear from you.  \n",
              "71                                 Thank you so much.  \n",
              "72                                  I am Lino Cordia.  \n",
              "73                                 See you next time.  \n",
              "\n",
              "[74 rows x 4 columns]"
            ],
            "text/html": [
              "\n",
              "  <div id=\"df-2166f867-5ea4-4f17-9e52-a78d37c877bb\" class=\"colab-df-container\">\n",
              "    <div>\n",
              "<style scoped>\n",
              "    .dataframe tbody tr th:only-of-type {\n",
              "        vertical-align: middle;\n",
              "    }\n",
              "\n",
              "    .dataframe tbody tr th {\n",
              "        vertical-align: top;\n",
              "    }\n",
              "\n",
              "    .dataframe thead th {\n",
              "        text-align: right;\n",
              "    }\n",
              "</style>\n",
              "<table border=\"1\" class=\"dataframe\">\n",
              "  <thead>\n",
              "    <tr style=\"text-align: right;\">\n",
              "      <th></th>\n",
              "      <th>base_idx</th>\n",
              "      <th>start_time</th>\n",
              "      <th>end_time</th>\n",
              "      <th>sentence</th>\n",
              "    </tr>\n",
              "  </thead>\n",
              "  <tbody>\n",
              "    <tr>\n",
              "      <th>0</th>\n",
              "      <td>0</td>\n",
              "      <td>00:01.274</td>\n",
              "      <td>00:08.685</td>\n",
              "      <td>Hello, this is Lino Cordia and today I want t...</td>\n",
              "    </tr>\n",
              "    <tr>\n",
              "      <th>1</th>\n",
              "      <td>1</td>\n",
              "      <td>00:11.058</td>\n",
              "      <td>00:13.319</td>\n",
              "      <td>So why is teamwork in the classroom so import...</td>\n",
              "    </tr>\n",
              "    <tr>\n",
              "      <th>2</th>\n",
              "      <td>2</td>\n",
              "      <td>00:13.359</td>\n",
              "      <td>00:17.480</td>\n",
              "      <td>Well, for our students, it allows them to deve...</td>\n",
              "    </tr>\n",
              "    <tr>\n",
              "      <th>3</th>\n",
              "      <td>3</td>\n",
              "      <td>00:17.700</td>\n",
              "      <td>00:20.061</td>\n",
              "      <td>Communication skills, leadership skills, et ce...</td>\n",
              "    </tr>\n",
              "    <tr>\n",
              "      <th>4</th>\n",
              "      <td>4</td>\n",
              "      <td>00:20.621</td>\n",
              "      <td>00:23.862</td>\n",
              "      <td>Also, when you're working with a team, you get...</td>\n",
              "    </tr>\n",
              "    <tr>\n",
              "      <th>...</th>\n",
              "      <td>...</td>\n",
              "      <td>...</td>\n",
              "      <td>...</td>\n",
              "      <td>...</td>\n",
              "    </tr>\n",
              "    <tr>\n",
              "      <th>69</th>\n",
              "      <td>69</td>\n",
              "      <td>05:46.624</td>\n",
              "      <td>05:48.245</td>\n",
              "      <td>And yeah, please reach out.</td>\n",
              "    </tr>\n",
              "    <tr>\n",
              "      <th>70</th>\n",
              "      <td>70</td>\n",
              "      <td>05:48.385</td>\n",
              "      <td>05:49.406</td>\n",
              "      <td>I would love to hear from you.</td>\n",
              "    </tr>\n",
              "    <tr>\n",
              "      <th>71</th>\n",
              "      <td>71</td>\n",
              "      <td>05:49.526</td>\n",
              "      <td>05:50.266</td>\n",
              "      <td>Thank you so much.</td>\n",
              "    </tr>\n",
              "    <tr>\n",
              "      <th>72</th>\n",
              "      <td>72</td>\n",
              "      <td>05:50.547</td>\n",
              "      <td>05:51.487</td>\n",
              "      <td>I am Lino Cordia.</td>\n",
              "    </tr>\n",
              "    <tr>\n",
              "      <th>73</th>\n",
              "      <td>73</td>\n",
              "      <td>05:51.707</td>\n",
              "      <td>05:52.308</td>\n",
              "      <td>See you next time.</td>\n",
              "    </tr>\n",
              "  </tbody>\n",
              "</table>\n",
              "<p>74 rows × 4 columns</p>\n",
              "</div>\n",
              "    <div class=\"colab-df-buttons\">\n",
              "\n",
              "  <div class=\"colab-df-container\">\n",
              "    <button class=\"colab-df-convert\" onclick=\"convertToInteractive('df-2166f867-5ea4-4f17-9e52-a78d37c877bb')\"\n",
              "            title=\"Convert this dataframe to an interactive table.\"\n",
              "            style=\"display:none;\">\n",
              "\n",
              "  <svg xmlns=\"http://www.w3.org/2000/svg\" height=\"24px\" viewBox=\"0 -960 960 960\">\n",
              "    <path d=\"M120-120v-720h720v720H120Zm60-500h600v-160H180v160Zm220 220h160v-160H400v160Zm0 220h160v-160H400v160ZM180-400h160v-160H180v160Zm440 0h160v-160H620v160ZM180-180h160v-160H180v160Zm440 0h160v-160H620v160Z\"/>\n",
              "  </svg>\n",
              "    </button>\n",
              "\n",
              "  <style>\n",
              "    .colab-df-container {\n",
              "      display:flex;\n",
              "      gap: 12px;\n",
              "    }\n",
              "\n",
              "    .colab-df-convert {\n",
              "      background-color: #E8F0FE;\n",
              "      border: none;\n",
              "      border-radius: 50%;\n",
              "      cursor: pointer;\n",
              "      display: none;\n",
              "      fill: #1967D2;\n",
              "      height: 32px;\n",
              "      padding: 0 0 0 0;\n",
              "      width: 32px;\n",
              "    }\n",
              "\n",
              "    .colab-df-convert:hover {\n",
              "      background-color: #E2EBFA;\n",
              "      box-shadow: 0px 1px 2px rgba(60, 64, 67, 0.3), 0px 1px 3px 1px rgba(60, 64, 67, 0.15);\n",
              "      fill: #174EA6;\n",
              "    }\n",
              "\n",
              "    .colab-df-buttons div {\n",
              "      margin-bottom: 4px;\n",
              "    }\n",
              "\n",
              "    [theme=dark] .colab-df-convert {\n",
              "      background-color: #3B4455;\n",
              "      fill: #D2E3FC;\n",
              "    }\n",
              "\n",
              "    [theme=dark] .colab-df-convert:hover {\n",
              "      background-color: #434B5C;\n",
              "      box-shadow: 0px 1px 3px 1px rgba(0, 0, 0, 0.15);\n",
              "      filter: drop-shadow(0px 1px 2px rgba(0, 0, 0, 0.3));\n",
              "      fill: #FFFFFF;\n",
              "    }\n",
              "  </style>\n",
              "\n",
              "    <script>\n",
              "      const buttonEl =\n",
              "        document.querySelector('#df-2166f867-5ea4-4f17-9e52-a78d37c877bb button.colab-df-convert');\n",
              "      buttonEl.style.display =\n",
              "        google.colab.kernel.accessAllowed ? 'block' : 'none';\n",
              "\n",
              "      async function convertToInteractive(key) {\n",
              "        const element = document.querySelector('#df-2166f867-5ea4-4f17-9e52-a78d37c877bb');\n",
              "        const dataTable =\n",
              "          await google.colab.kernel.invokeFunction('convertToInteractive',\n",
              "                                                    [key], {});\n",
              "        if (!dataTable) return;\n",
              "\n",
              "        const docLinkHtml = 'Like what you see? Visit the ' +\n",
              "          '<a target=\"_blank\" href=https://colab.research.google.com/notebooks/data_table.ipynb>data table notebook</a>'\n",
              "          + ' to learn more about interactive tables.';\n",
              "        element.innerHTML = '';\n",
              "        dataTable['output_type'] = 'display_data';\n",
              "        await google.colab.output.renderOutput(dataTable, element);\n",
              "        const docLink = document.createElement('div');\n",
              "        docLink.innerHTML = docLinkHtml;\n",
              "        element.appendChild(docLink);\n",
              "      }\n",
              "    </script>\n",
              "  </div>\n",
              "\n",
              "\n",
              "<div id=\"df-085f52cb-badf-4103-8489-a01d5a89a10c\">\n",
              "  <button class=\"colab-df-quickchart\" onclick=\"quickchart('df-085f52cb-badf-4103-8489-a01d5a89a10c')\"\n",
              "            title=\"Suggest charts\"\n",
              "            style=\"display:none;\">\n",
              "\n",
              "<svg xmlns=\"http://www.w3.org/2000/svg\" height=\"24px\"viewBox=\"0 0 24 24\"\n",
              "     width=\"24px\">\n",
              "    <g>\n",
              "        <path d=\"M19 3H5c-1.1 0-2 .9-2 2v14c0 1.1.9 2 2 2h14c1.1 0 2-.9 2-2V5c0-1.1-.9-2-2-2zM9 17H7v-7h2v7zm4 0h-2V7h2v10zm4 0h-2v-4h2v4z\"/>\n",
              "    </g>\n",
              "</svg>\n",
              "  </button>\n",
              "\n",
              "<style>\n",
              "  .colab-df-quickchart {\n",
              "      --bg-color: #E8F0FE;\n",
              "      --fill-color: #1967D2;\n",
              "      --hover-bg-color: #E2EBFA;\n",
              "      --hover-fill-color: #174EA6;\n",
              "      --disabled-fill-color: #AAA;\n",
              "      --disabled-bg-color: #DDD;\n",
              "  }\n",
              "\n",
              "  [theme=dark] .colab-df-quickchart {\n",
              "      --bg-color: #3B4455;\n",
              "      --fill-color: #D2E3FC;\n",
              "      --hover-bg-color: #434B5C;\n",
              "      --hover-fill-color: #FFFFFF;\n",
              "      --disabled-bg-color: #3B4455;\n",
              "      --disabled-fill-color: #666;\n",
              "  }\n",
              "\n",
              "  .colab-df-quickchart {\n",
              "    background-color: var(--bg-color);\n",
              "    border: none;\n",
              "    border-radius: 50%;\n",
              "    cursor: pointer;\n",
              "    display: none;\n",
              "    fill: var(--fill-color);\n",
              "    height: 32px;\n",
              "    padding: 0;\n",
              "    width: 32px;\n",
              "  }\n",
              "\n",
              "  .colab-df-quickchart:hover {\n",
              "    background-color: var(--hover-bg-color);\n",
              "    box-shadow: 0 1px 2px rgba(60, 64, 67, 0.3), 0 1px 3px 1px rgba(60, 64, 67, 0.15);\n",
              "    fill: var(--button-hover-fill-color);\n",
              "  }\n",
              "\n",
              "  .colab-df-quickchart-complete:disabled,\n",
              "  .colab-df-quickchart-complete:disabled:hover {\n",
              "    background-color: var(--disabled-bg-color);\n",
              "    fill: var(--disabled-fill-color);\n",
              "    box-shadow: none;\n",
              "  }\n",
              "\n",
              "  .colab-df-spinner {\n",
              "    border: 2px solid var(--fill-color);\n",
              "    border-color: transparent;\n",
              "    border-bottom-color: var(--fill-color);\n",
              "    animation:\n",
              "      spin 1s steps(1) infinite;\n",
              "  }\n",
              "\n",
              "  @keyframes spin {\n",
              "    0% {\n",
              "      border-color: transparent;\n",
              "      border-bottom-color: var(--fill-color);\n",
              "      border-left-color: var(--fill-color);\n",
              "    }\n",
              "    20% {\n",
              "      border-color: transparent;\n",
              "      border-left-color: var(--fill-color);\n",
              "      border-top-color: var(--fill-color);\n",
              "    }\n",
              "    30% {\n",
              "      border-color: transparent;\n",
              "      border-left-color: var(--fill-color);\n",
              "      border-top-color: var(--fill-color);\n",
              "      border-right-color: var(--fill-color);\n",
              "    }\n",
              "    40% {\n",
              "      border-color: transparent;\n",
              "      border-right-color: var(--fill-color);\n",
              "      border-top-color: var(--fill-color);\n",
              "    }\n",
              "    60% {\n",
              "      border-color: transparent;\n",
              "      border-right-color: var(--fill-color);\n",
              "    }\n",
              "    80% {\n",
              "      border-color: transparent;\n",
              "      border-right-color: var(--fill-color);\n",
              "      border-bottom-color: var(--fill-color);\n",
              "    }\n",
              "    90% {\n",
              "      border-color: transparent;\n",
              "      border-bottom-color: var(--fill-color);\n",
              "    }\n",
              "  }\n",
              "</style>\n",
              "\n",
              "  <script>\n",
              "    async function quickchart(key) {\n",
              "      const quickchartButtonEl =\n",
              "        document.querySelector('#' + key + ' button');\n",
              "      quickchartButtonEl.disabled = true;  // To prevent multiple clicks.\n",
              "      quickchartButtonEl.classList.add('colab-df-spinner');\n",
              "      try {\n",
              "        const charts = await google.colab.kernel.invokeFunction(\n",
              "            'suggestCharts', [key], {});\n",
              "      } catch (error) {\n",
              "        console.error('Error during call to suggestCharts:', error);\n",
              "      }\n",
              "      quickchartButtonEl.classList.remove('colab-df-spinner');\n",
              "      quickchartButtonEl.classList.add('colab-df-quickchart-complete');\n",
              "    }\n",
              "    (() => {\n",
              "      let quickchartButtonEl =\n",
              "        document.querySelector('#df-085f52cb-badf-4103-8489-a01d5a89a10c button');\n",
              "      quickchartButtonEl.style.display =\n",
              "        google.colab.kernel.accessAllowed ? 'block' : 'none';\n",
              "    })();\n",
              "  </script>\n",
              "</div>\n",
              "\n",
              "  <div id=\"id_07451752-3b45-46ce-873a-0a62a85f68a7\">\n",
              "    <style>\n",
              "      .colab-df-generate {\n",
              "        background-color: #E8F0FE;\n",
              "        border: none;\n",
              "        border-radius: 50%;\n",
              "        cursor: pointer;\n",
              "        display: none;\n",
              "        fill: #1967D2;\n",
              "        height: 32px;\n",
              "        padding: 0 0 0 0;\n",
              "        width: 32px;\n",
              "      }\n",
              "\n",
              "      .colab-df-generate:hover {\n",
              "        background-color: #E2EBFA;\n",
              "        box-shadow: 0px 1px 2px rgba(60, 64, 67, 0.3), 0px 1px 3px 1px rgba(60, 64, 67, 0.15);\n",
              "        fill: #174EA6;\n",
              "      }\n",
              "\n",
              "      [theme=dark] .colab-df-generate {\n",
              "        background-color: #3B4455;\n",
              "        fill: #D2E3FC;\n",
              "      }\n",
              "\n",
              "      [theme=dark] .colab-df-generate:hover {\n",
              "        background-color: #434B5C;\n",
              "        box-shadow: 0px 1px 3px 1px rgba(0, 0, 0, 0.15);\n",
              "        filter: drop-shadow(0px 1px 2px rgba(0, 0, 0, 0.3));\n",
              "        fill: #FFFFFF;\n",
              "      }\n",
              "    </style>\n",
              "    <button class=\"colab-df-generate\" onclick=\"generateWithVariable('df_sentences')\"\n",
              "            title=\"Generate code using this dataframe.\"\n",
              "            style=\"display:none;\">\n",
              "\n",
              "  <svg xmlns=\"http://www.w3.org/2000/svg\" height=\"24px\"viewBox=\"0 0 24 24\"\n",
              "       width=\"24px\">\n",
              "    <path d=\"M7,19H8.4L18.45,9,17,7.55,7,17.6ZM5,21V16.75L18.45,3.32a2,2,0,0,1,2.83,0l1.4,1.43a1.91,1.91,0,0,1,.58,1.4,1.91,1.91,0,0,1-.58,1.4L9.25,21ZM18.45,9,17,7.55Zm-12,3A5.31,5.31,0,0,0,4.9,8.1,5.31,5.31,0,0,0,1,6.5,5.31,5.31,0,0,0,4.9,4.9,5.31,5.31,0,0,0,6.5,1,5.31,5.31,0,0,0,8.1,4.9,5.31,5.31,0,0,0,12,6.5,5.46,5.46,0,0,0,6.5,12Z\"/>\n",
              "  </svg>\n",
              "    </button>\n",
              "    <script>\n",
              "      (() => {\n",
              "      const buttonEl =\n",
              "        document.querySelector('#id_07451752-3b45-46ce-873a-0a62a85f68a7 button.colab-df-generate');\n",
              "      buttonEl.style.display =\n",
              "        google.colab.kernel.accessAllowed ? 'block' : 'none';\n",
              "\n",
              "      buttonEl.onclick = () => {\n",
              "        google.colab.notebook.generateWithVariable('df_sentences');\n",
              "      }\n",
              "      })();\n",
              "    </script>\n",
              "  </div>\n",
              "\n",
              "    </div>\n",
              "  </div>\n"
            ],
            "application/vnd.google.colaboratory.intrinsic+json": {
              "type": "dataframe",
              "variable_name": "df_sentences",
              "summary": "{\n  \"name\": \"df_sentences\",\n  \"rows\": 74,\n  \"fields\": [\n    {\n      \"column\": \"base_idx\",\n      \"properties\": {\n        \"dtype\": \"number\",\n        \"std\": 21,\n        \"min\": 0,\n        \"max\": 73,\n        \"num_unique_values\": 74,\n        \"samples\": [\n          4,\n          63,\n          18\n        ],\n        \"semantic_type\": \"\",\n        \"description\": \"\"\n      }\n    },\n    {\n      \"column\": \"start_time\",\n      \"properties\": {\n        \"dtype\": \"object\",\n        \"num_unique_values\": 74,\n        \"samples\": [\n          \"00:20.621\",\n          \"05:20.497\",\n          \"01:17.152\"\n        ],\n        \"semantic_type\": \"\",\n        \"description\": \"\"\n      }\n    },\n    {\n      \"column\": \"end_time\",\n      \"properties\": {\n        \"dtype\": \"object\",\n        \"num_unique_values\": 74,\n        \"samples\": [\n          \"00:23.862\",\n          \"05:26.404\",\n          \"01:24.495\"\n        ],\n        \"semantic_type\": \"\",\n        \"description\": \"\"\n      }\n    },\n    {\n      \"column\": \"sentence\",\n      \"properties\": {\n        \"dtype\": \"string\",\n        \"num_unique_values\": 74,\n        \"samples\": [\n          \"Also, when you're working with a team, you get different perspectives.\",\n          \"It's easy also for them for communication purposes, and this is what has worked for me.\",\n          \"I'm going to be working all night while this guy is like doing something else that is not teamwork and things like that.\"\n        ],\n        \"semantic_type\": \"\",\n        \"description\": \"\"\n      }\n    }\n  ]\n}"
            }
          },
          "metadata": {}
        }
      ]
    },
    {
      "cell_type": "markdown",
      "source": [
        "## Text - Paragraph\n",
        "combination of all subtitle parts.  \n",
        "\n",
        "WhisperAI enhances transcription with basic punctuation."
      ],
      "metadata": {
        "id": "7vSt5ElqS2bK"
      }
    },
    {
      "cell_type": "code",
      "source": [
        "# Assuming aligned_segments is your WhisperX alignment output\n",
        "paragraph = reduce(lambda acc, seg: acc + seg['text'].strip() + ' ', aligned_segments['segments'], '')\n",
        "\n",
        "# Print the paragraph\n",
        "print(paragraph)"
      ],
      "metadata": {
        "id": "OFMXfndjQPGs",
        "colab": {
          "base_uri": "https://localhost:8080/"
        },
        "outputId": "aaa408ea-1d03-4b3f-c9bd-6b53565ae4fb"
      },
      "execution_count": 99,
      "outputs": [
        {
          "output_type": "stream",
          "name": "stdout",
          "text": [
            "Hello, this is Lino Cordia and today I want to talk to you about a very important topic, challenging topic, teamwork in the classroom. So why is teamwork in the classroom so important? Well, for our students, it allows them to develop a bunch of new skills, right? Communication skills, leadership skills, et cetera. Also, when you're working with a team, you get different perspectives. Ideally, you are part of a team that has people with different genders, people with different age groups, people with different academic backgrounds, right? So when you're talking to them, you get all these fresh perspectives that inform your the task that you're trying to solve. Also teams will motivate you, they will support you, you will feel empowered by them ideally, right? This is like the things that should happen. And also this is how the world works, right? Pretty much everything we do, we need to do it as a team. Now here's the thing about teamwork in the classroom. Students hate it. But why do they hate it? Well, these are the things that I can identify. They don't know their teammates or they do know their teammates, but they don't like them. They're also concerned about an even workload, right? I'm going to be working all night while this guy is like doing something else that is not teamwork and things like that. They're also concerned about their grades. They're concerned because A lot of it is out of their control. It doesn't matter how hard I work, if my teammates are not doing enough work, it's going to impact my own grade. And so, yeah, all of these things are legitimate concerns. So what can we do as professors? These are the things that I do. I explain to my students why teamwork is so important. I tell them about my own life experiences. I am positive, but realistic. When I talk about teamwork, I acknowledge that it's challenging. And then once I have created Teams, it's important to assign class time for team building exercises. Now, if this team is going to work together for 10 minutes every week, then maybe you just need a short icebreaker. right so that they know each other and they can start working together. If you are going to have this team work together for the entire semester, it doesn't hurt to use one of your two hour lectures for stronger, longer, more comprehensive team building exercise. And the first time you give your students a task as a team, make it a low-stake task, right? Something that doesn't really impact their grade or if it does, it's tiny, it's minimal. And ideally, the first time they work together as a team, they do this in person. Working together in person always creates a stronger connection than if you do this virtually. Now, this is the best thing that I have learned about teamwork. I had this class and my students were working in teams. And after a few weeks, I saw that this team was working really well together. And so I approached them and say, why do you get along so well as a team? And their answer was we had dinner together. And so this is my advice to every team. Go and grab a coffee, go and get lunch together, something like that is going to help you connect. as a team you're going to see everybody as a person and you're going to know each other and yeah it's going to be better trust me. Now when I create teams if it's a short collaboration and by this I mean they're going to be working together about 10 minutes every every class Then you can randomly assign them, and especially if it's a large class, it's going to be a good strategy. Sometimes, especially after they know each other for a month or so, you can also let them choose their own teammates and just pick your team. If it's a long collaboration, sometimes self-selection works. I have a final project and I tell them you get to pick whoever you can work with anybody that you want. That works. But sometimes it's important that you choose a team based on the skills that the team has or based on their interest. You need to determine when is a good idea for self-selection or when is a good idea to think of. interest or skills when created a team depends on the goals of that exercise of that project, things like that. Now the size of the team, again, this is not what you should do. This is what I do. For sure collaborations, usually I create four member teams. And this is also because of the structure of the classrooms where I work. There's tables with four chairs, right? So make sense that we don't need to disrupt the classroom destroy things, move around furniture too much. But if it is one month or one semester project, I usually create teams of two or three members. I find that it's easy to identify what each member has done. It's easy also for them for communication purposes, and this is what has worked for me. But what are your strategies? I would love to learn. I'm not an expert in team building, right? I'm just sharing what I've done, what has worked for me, and what I have learned from my students. But I would love to hear your experiences, your strategies, your solutions to this teamwork issue. And yeah, please reach out. I would love to hear from you. Thank you so much. I am Lino Cordia. See you next time. \n"
          ]
        }
      ]
    },
    {
      "cell_type": "markdown",
      "source": [
        "## Text - Paragraph Summarized"
      ],
      "metadata": {
        "id": "R-DIsC5NRn3b"
      }
    },
    {
      "cell_type": "markdown",
      "source": [
        "##### Time Taken: ~1min"
      ],
      "metadata": {
        "id": "VZSi_e-h0BLV"
      }
    },
    {
      "cell_type": "code",
      "source": [
        "# Model: Longformer Encoder-Decoder\n",
        "model_name = \"allenai/led-base-16384\"\n",
        "tokenizer = LEDTokenizer.from_pretrained(model_name)\n",
        "model = LEDForConditionalGeneration.from_pretrained(model_name)\n",
        "text = paragraph\n",
        "\n",
        "# Tokenization\n",
        "inputs = tokenizer(text, return_tensors=\"pt\", max_length=4096, truncation=True)\n",
        "\n",
        "# Summary Generation\n",
        "summary_ids = model.generate(inputs[\"input_ids\"], max_length=150, min_length=30, length_penalty=2.0, num_beams=4, early_stopping=True)\n",
        "paragraph_summarized = tokenizer.decode(summary_ids[0], skip_special_tokens=True)"
      ],
      "metadata": {
        "colab": {
          "base_uri": "https://localhost:8080/"
        },
        "id": "9h82EUpYU1uU",
        "outputId": "30a13160-504c-418c-e6a8-66bdfdd19468"
      },
      "execution_count": 103,
      "outputs": [
        {
          "output_type": "stream",
          "name": "stderr",
          "text": [
            "/usr/local/lib/python3.10/dist-packages/huggingface_hub/file_download.py:1150: FutureWarning: `resume_download` is deprecated and will be removed in version 1.0.0. Downloads always resume when possible. If you want to force a new download, use `force_download=True`.\n",
            "  warnings.warn(\n",
            "Input ids are automatically padded from 1141 to 2048 to be a multiple of `config.attention_window`: 1024\n"
          ]
        }
      ]
    },
    {
      "cell_type": "markdown",
      "source": [
        "# Text"
      ],
      "metadata": {
        "id": "NqhKyoOO3voB"
      }
    },
    {
      "cell_type": "code",
      "source": [
        "# Simple Metrics\n",
        "original_length = len(paragraph)\n",
        "summary_length = len(paragraph_summarized)\n",
        "\n",
        "print(f\"original length: {original_length}\")\n",
        "print(f\"summary length: {summary_length}\")\n",
        "\n",
        "compression_ratio = (original_length - summary_length) / original_length\n",
        "print(f\"auto-summary compression ratio: {compression_ratio:.2f}\")"
      ],
      "metadata": {
        "colab": {
          "base_uri": "https://localhost:8080/"
        },
        "id": "83D8Px3ZZ25D",
        "outputId": "7790c8ce-cabd-465c-ebbf-cd8a9d138b1b"
      },
      "execution_count": 105,
      "outputs": [
        {
          "output_type": "stream",
          "name": "stdout",
          "text": [
            "original length: 5209\n",
            "summary length: 708\n",
            "auto-summary compression ratio: 0.86\n"
          ]
        }
      ]
    },
    {
      "cell_type": "markdown",
      "source": [
        "## Metric 1: Sentence- Summarized Paragraph Relevancy (Cosine Similarity)"
      ],
      "metadata": {
        "id": "_8gMAZOaQKNJ"
      }
    },
    {
      "cell_type": "code",
      "source": [
        "%%capture\n",
        "# config\n",
        "attention_window = 256\n",
        "config = LongformerConfig.from_pretrained('allenai/longformer-base-4096', attention_window=attention_window)\n",
        "\n",
        "# model: Longformer\n",
        "model_lf = LongformerModel.from_pretrained('allenai/longformer-base-4096', config=config)\n",
        "tokenizer_lf = LongformerTokenizer.from_pretrained('allenai/longformer-base-4096', model_max_length=attention_window)"
      ],
      "metadata": {
        "id": "kGDOM_LzxmeM"
      },
      "execution_count": 115,
      "outputs": []
    },
    {
      "cell_type": "code",
      "source": [
        "# 2: Tokenization\n",
        "paragraph_tokens = tokenizer_lf(paragraph_summarized, return_tensors='pt')\n",
        "# sentence_tokens = [tokenizer_lf(sentence, return_tensors='pt') for sentence in sentences]\n",
        "\n",
        "sentence_tokens = tokenizer_lf(sentences, padding=True, truncation=True, return_tensors='pt')"
      ],
      "metadata": {
        "id": "c_FszsOCzf02"
      },
      "execution_count": 138,
      "outputs": []
    },
    {
      "cell_type": "markdown",
      "source": [
        "Embedding Explanation  \n",
        "The [CLS] (classification) token is often used in transformer models to represent the overall meaning or summary of the input sequence. By extracting its embedding, you're essentially obtaining a representation that captures the main point or essence of the paragraph."
      ],
      "metadata": {
        "id": "bBHu-QLj6kq9"
      }
    },
    {
      "cell_type": "markdown",
      "source": [
        "##### Time Taken: ~2min"
      ],
      "metadata": {
        "id": "FBhdvFmpM5wG"
      }
    },
    {
      "cell_type": "code",
      "source": [
        "# 3: Embedding\n",
        "with torch.no_grad():  # Disable gradient computation for efficiency\n",
        "    paragraph_embedding = model_lf(**paragraph_tokens).last_hidden_state[:, 0, :]  # Get the [CLS] token embedding\n",
        "\n",
        "    # Process batched sentence tokens\n",
        "    sentence_embeddings = model_lf(**sentence_tokens).last_hidden_state[:, 0, :]"
      ],
      "metadata": {
        "id": "7RBG1chM0B8x",
        "colab": {
          "base_uri": "https://localhost:8080/"
        },
        "outputId": "e426a999-26c6-4850-9d85-8826833b5889"
      },
      "execution_count": 140,
      "outputs": [
        {
          "output_type": "stream",
          "name": "stderr",
          "text": [
            "Input ids are automatically padded from 40 to 256 to be a multiple of `config.attention_window`: 256\n"
          ]
        }
      ]
    },
    {
      "cell_type": "code",
      "source": [
        "# 4: Relevance scores\n",
        "relevance_scores = [torch.cosine_similarity(paragraph_embedding, sentence_embedding).item() for sentence_embedding in sentence_embeddings]\n",
        "\n",
        "# Normalization: min-max normalization\n",
        "min_score = min(relevance_scores)\n",
        "max_score = max(relevance_scores)\n",
        "normalized_scores = [(score - min_score) / (max_score - min_score) for score in relevance_scores]\n",
        "\n",
        "# round\n",
        "normalized_scores = [np.format_float_positional(score, precision=2, unique=False, fractional=False, trim='k') for score in normalized_scores]"
      ],
      "metadata": {
        "id": "9BwrHjKc4Tge"
      },
      "execution_count": 141,
      "outputs": []
    },
    {
      "cell_type": "code",
      "source": [
        "# 5: Display Results\n",
        "df_sentences.insert(0, \"metric_1_score\", normalized_scores)\n",
        "\n",
        "display(df_sentences)"
      ],
      "metadata": {
        "id": "CNLoAh9FWssQ",
        "colab": {
          "base_uri": "https://localhost:8080/",
          "height": 424
        },
        "outputId": "cfa6e52f-710f-4e5e-e884-6cf083c44758"
      },
      "execution_count": 142,
      "outputs": [
        {
          "output_type": "display_data",
          "data": {
            "text/plain": [
              "   metric_1_score  base_idx start_time   end_time  \\\n",
              "0             1.0         0  00:01.274  00:08.685   \n",
              "1            0.45         1  00:11.058  00:13.319   \n",
              "2            0.57         2  00:13.359  00:17.480   \n",
              "3            0.47         3  00:17.700  00:20.061   \n",
              "4            0.53         4  00:20.621  00:23.862   \n",
              "..            ...       ...        ...        ...   \n",
              "69           0.39        69  05:46.624  05:48.245   \n",
              "70           0.33        70  05:48.385  05:49.406   \n",
              "71           0.51        71  05:49.526  05:50.266   \n",
              "72           0.25        72  05:50.547  05:51.487   \n",
              "73           0.37        73  05:51.707  05:52.308   \n",
              "\n",
              "                                             sentence  \n",
              "0    Hello, this is Lino Cordia and today I want t...  \n",
              "1    So why is teamwork in the classroom so import...  \n",
              "2   Well, for our students, it allows them to deve...  \n",
              "3   Communication skills, leadership skills, et ce...  \n",
              "4   Also, when you're working with a team, you get...  \n",
              "..                                                ...  \n",
              "69                        And yeah, please reach out.  \n",
              "70                     I would love to hear from you.  \n",
              "71                                 Thank you so much.  \n",
              "72                                  I am Lino Cordia.  \n",
              "73                                 See you next time.  \n",
              "\n",
              "[74 rows x 5 columns]"
            ],
            "text/html": [
              "\n",
              "  <div id=\"df-8fe7505a-7c23-4e16-bce2-1972d015b09f\" class=\"colab-df-container\">\n",
              "    <div>\n",
              "<style scoped>\n",
              "    .dataframe tbody tr th:only-of-type {\n",
              "        vertical-align: middle;\n",
              "    }\n",
              "\n",
              "    .dataframe tbody tr th {\n",
              "        vertical-align: top;\n",
              "    }\n",
              "\n",
              "    .dataframe thead th {\n",
              "        text-align: right;\n",
              "    }\n",
              "</style>\n",
              "<table border=\"1\" class=\"dataframe\">\n",
              "  <thead>\n",
              "    <tr style=\"text-align: right;\">\n",
              "      <th></th>\n",
              "      <th>metric_1_score</th>\n",
              "      <th>base_idx</th>\n",
              "      <th>start_time</th>\n",
              "      <th>end_time</th>\n",
              "      <th>sentence</th>\n",
              "    </tr>\n",
              "  </thead>\n",
              "  <tbody>\n",
              "    <tr>\n",
              "      <th>0</th>\n",
              "      <td>1.0</td>\n",
              "      <td>0</td>\n",
              "      <td>00:01.274</td>\n",
              "      <td>00:08.685</td>\n",
              "      <td>Hello, this is Lino Cordia and today I want t...</td>\n",
              "    </tr>\n",
              "    <tr>\n",
              "      <th>1</th>\n",
              "      <td>0.45</td>\n",
              "      <td>1</td>\n",
              "      <td>00:11.058</td>\n",
              "      <td>00:13.319</td>\n",
              "      <td>So why is teamwork in the classroom so import...</td>\n",
              "    </tr>\n",
              "    <tr>\n",
              "      <th>2</th>\n",
              "      <td>0.57</td>\n",
              "      <td>2</td>\n",
              "      <td>00:13.359</td>\n",
              "      <td>00:17.480</td>\n",
              "      <td>Well, for our students, it allows them to deve...</td>\n",
              "    </tr>\n",
              "    <tr>\n",
              "      <th>3</th>\n",
              "      <td>0.47</td>\n",
              "      <td>3</td>\n",
              "      <td>00:17.700</td>\n",
              "      <td>00:20.061</td>\n",
              "      <td>Communication skills, leadership skills, et ce...</td>\n",
              "    </tr>\n",
              "    <tr>\n",
              "      <th>4</th>\n",
              "      <td>0.53</td>\n",
              "      <td>4</td>\n",
              "      <td>00:20.621</td>\n",
              "      <td>00:23.862</td>\n",
              "      <td>Also, when you're working with a team, you get...</td>\n",
              "    </tr>\n",
              "    <tr>\n",
              "      <th>...</th>\n",
              "      <td>...</td>\n",
              "      <td>...</td>\n",
              "      <td>...</td>\n",
              "      <td>...</td>\n",
              "      <td>...</td>\n",
              "    </tr>\n",
              "    <tr>\n",
              "      <th>69</th>\n",
              "      <td>0.39</td>\n",
              "      <td>69</td>\n",
              "      <td>05:46.624</td>\n",
              "      <td>05:48.245</td>\n",
              "      <td>And yeah, please reach out.</td>\n",
              "    </tr>\n",
              "    <tr>\n",
              "      <th>70</th>\n",
              "      <td>0.33</td>\n",
              "      <td>70</td>\n",
              "      <td>05:48.385</td>\n",
              "      <td>05:49.406</td>\n",
              "      <td>I would love to hear from you.</td>\n",
              "    </tr>\n",
              "    <tr>\n",
              "      <th>71</th>\n",
              "      <td>0.51</td>\n",
              "      <td>71</td>\n",
              "      <td>05:49.526</td>\n",
              "      <td>05:50.266</td>\n",
              "      <td>Thank you so much.</td>\n",
              "    </tr>\n",
              "    <tr>\n",
              "      <th>72</th>\n",
              "      <td>0.25</td>\n",
              "      <td>72</td>\n",
              "      <td>05:50.547</td>\n",
              "      <td>05:51.487</td>\n",
              "      <td>I am Lino Cordia.</td>\n",
              "    </tr>\n",
              "    <tr>\n",
              "      <th>73</th>\n",
              "      <td>0.37</td>\n",
              "      <td>73</td>\n",
              "      <td>05:51.707</td>\n",
              "      <td>05:52.308</td>\n",
              "      <td>See you next time.</td>\n",
              "    </tr>\n",
              "  </tbody>\n",
              "</table>\n",
              "<p>74 rows × 5 columns</p>\n",
              "</div>\n",
              "    <div class=\"colab-df-buttons\">\n",
              "\n",
              "  <div class=\"colab-df-container\">\n",
              "    <button class=\"colab-df-convert\" onclick=\"convertToInteractive('df-8fe7505a-7c23-4e16-bce2-1972d015b09f')\"\n",
              "            title=\"Convert this dataframe to an interactive table.\"\n",
              "            style=\"display:none;\">\n",
              "\n",
              "  <svg xmlns=\"http://www.w3.org/2000/svg\" height=\"24px\" viewBox=\"0 -960 960 960\">\n",
              "    <path d=\"M120-120v-720h720v720H120Zm60-500h600v-160H180v160Zm220 220h160v-160H400v160Zm0 220h160v-160H400v160ZM180-400h160v-160H180v160Zm440 0h160v-160H620v160ZM180-180h160v-160H180v160Zm440 0h160v-160H620v160Z\"/>\n",
              "  </svg>\n",
              "    </button>\n",
              "\n",
              "  <style>\n",
              "    .colab-df-container {\n",
              "      display:flex;\n",
              "      gap: 12px;\n",
              "    }\n",
              "\n",
              "    .colab-df-convert {\n",
              "      background-color: #E8F0FE;\n",
              "      border: none;\n",
              "      border-radius: 50%;\n",
              "      cursor: pointer;\n",
              "      display: none;\n",
              "      fill: #1967D2;\n",
              "      height: 32px;\n",
              "      padding: 0 0 0 0;\n",
              "      width: 32px;\n",
              "    }\n",
              "\n",
              "    .colab-df-convert:hover {\n",
              "      background-color: #E2EBFA;\n",
              "      box-shadow: 0px 1px 2px rgba(60, 64, 67, 0.3), 0px 1px 3px 1px rgba(60, 64, 67, 0.15);\n",
              "      fill: #174EA6;\n",
              "    }\n",
              "\n",
              "    .colab-df-buttons div {\n",
              "      margin-bottom: 4px;\n",
              "    }\n",
              "\n",
              "    [theme=dark] .colab-df-convert {\n",
              "      background-color: #3B4455;\n",
              "      fill: #D2E3FC;\n",
              "    }\n",
              "\n",
              "    [theme=dark] .colab-df-convert:hover {\n",
              "      background-color: #434B5C;\n",
              "      box-shadow: 0px 1px 3px 1px rgba(0, 0, 0, 0.15);\n",
              "      filter: drop-shadow(0px 1px 2px rgba(0, 0, 0, 0.3));\n",
              "      fill: #FFFFFF;\n",
              "    }\n",
              "  </style>\n",
              "\n",
              "    <script>\n",
              "      const buttonEl =\n",
              "        document.querySelector('#df-8fe7505a-7c23-4e16-bce2-1972d015b09f button.colab-df-convert');\n",
              "      buttonEl.style.display =\n",
              "        google.colab.kernel.accessAllowed ? 'block' : 'none';\n",
              "\n",
              "      async function convertToInteractive(key) {\n",
              "        const element = document.querySelector('#df-8fe7505a-7c23-4e16-bce2-1972d015b09f');\n",
              "        const dataTable =\n",
              "          await google.colab.kernel.invokeFunction('convertToInteractive',\n",
              "                                                    [key], {});\n",
              "        if (!dataTable) return;\n",
              "\n",
              "        const docLinkHtml = 'Like what you see? Visit the ' +\n",
              "          '<a target=\"_blank\" href=https://colab.research.google.com/notebooks/data_table.ipynb>data table notebook</a>'\n",
              "          + ' to learn more about interactive tables.';\n",
              "        element.innerHTML = '';\n",
              "        dataTable['output_type'] = 'display_data';\n",
              "        await google.colab.output.renderOutput(dataTable, element);\n",
              "        const docLink = document.createElement('div');\n",
              "        docLink.innerHTML = docLinkHtml;\n",
              "        element.appendChild(docLink);\n",
              "      }\n",
              "    </script>\n",
              "  </div>\n",
              "\n",
              "\n",
              "<div id=\"df-c39493d8-a012-44ca-829b-932c6694fdf7\">\n",
              "  <button class=\"colab-df-quickchart\" onclick=\"quickchart('df-c39493d8-a012-44ca-829b-932c6694fdf7')\"\n",
              "            title=\"Suggest charts\"\n",
              "            style=\"display:none;\">\n",
              "\n",
              "<svg xmlns=\"http://www.w3.org/2000/svg\" height=\"24px\"viewBox=\"0 0 24 24\"\n",
              "     width=\"24px\">\n",
              "    <g>\n",
              "        <path d=\"M19 3H5c-1.1 0-2 .9-2 2v14c0 1.1.9 2 2 2h14c1.1 0 2-.9 2-2V5c0-1.1-.9-2-2-2zM9 17H7v-7h2v7zm4 0h-2V7h2v10zm4 0h-2v-4h2v4z\"/>\n",
              "    </g>\n",
              "</svg>\n",
              "  </button>\n",
              "\n",
              "<style>\n",
              "  .colab-df-quickchart {\n",
              "      --bg-color: #E8F0FE;\n",
              "      --fill-color: #1967D2;\n",
              "      --hover-bg-color: #E2EBFA;\n",
              "      --hover-fill-color: #174EA6;\n",
              "      --disabled-fill-color: #AAA;\n",
              "      --disabled-bg-color: #DDD;\n",
              "  }\n",
              "\n",
              "  [theme=dark] .colab-df-quickchart {\n",
              "      --bg-color: #3B4455;\n",
              "      --fill-color: #D2E3FC;\n",
              "      --hover-bg-color: #434B5C;\n",
              "      --hover-fill-color: #FFFFFF;\n",
              "      --disabled-bg-color: #3B4455;\n",
              "      --disabled-fill-color: #666;\n",
              "  }\n",
              "\n",
              "  .colab-df-quickchart {\n",
              "    background-color: var(--bg-color);\n",
              "    border: none;\n",
              "    border-radius: 50%;\n",
              "    cursor: pointer;\n",
              "    display: none;\n",
              "    fill: var(--fill-color);\n",
              "    height: 32px;\n",
              "    padding: 0;\n",
              "    width: 32px;\n",
              "  }\n",
              "\n",
              "  .colab-df-quickchart:hover {\n",
              "    background-color: var(--hover-bg-color);\n",
              "    box-shadow: 0 1px 2px rgba(60, 64, 67, 0.3), 0 1px 3px 1px rgba(60, 64, 67, 0.15);\n",
              "    fill: var(--button-hover-fill-color);\n",
              "  }\n",
              "\n",
              "  .colab-df-quickchart-complete:disabled,\n",
              "  .colab-df-quickchart-complete:disabled:hover {\n",
              "    background-color: var(--disabled-bg-color);\n",
              "    fill: var(--disabled-fill-color);\n",
              "    box-shadow: none;\n",
              "  }\n",
              "\n",
              "  .colab-df-spinner {\n",
              "    border: 2px solid var(--fill-color);\n",
              "    border-color: transparent;\n",
              "    border-bottom-color: var(--fill-color);\n",
              "    animation:\n",
              "      spin 1s steps(1) infinite;\n",
              "  }\n",
              "\n",
              "  @keyframes spin {\n",
              "    0% {\n",
              "      border-color: transparent;\n",
              "      border-bottom-color: var(--fill-color);\n",
              "      border-left-color: var(--fill-color);\n",
              "    }\n",
              "    20% {\n",
              "      border-color: transparent;\n",
              "      border-left-color: var(--fill-color);\n",
              "      border-top-color: var(--fill-color);\n",
              "    }\n",
              "    30% {\n",
              "      border-color: transparent;\n",
              "      border-left-color: var(--fill-color);\n",
              "      border-top-color: var(--fill-color);\n",
              "      border-right-color: var(--fill-color);\n",
              "    }\n",
              "    40% {\n",
              "      border-color: transparent;\n",
              "      border-right-color: var(--fill-color);\n",
              "      border-top-color: var(--fill-color);\n",
              "    }\n",
              "    60% {\n",
              "      border-color: transparent;\n",
              "      border-right-color: var(--fill-color);\n",
              "    }\n",
              "    80% {\n",
              "      border-color: transparent;\n",
              "      border-right-color: var(--fill-color);\n",
              "      border-bottom-color: var(--fill-color);\n",
              "    }\n",
              "    90% {\n",
              "      border-color: transparent;\n",
              "      border-bottom-color: var(--fill-color);\n",
              "    }\n",
              "  }\n",
              "</style>\n",
              "\n",
              "  <script>\n",
              "    async function quickchart(key) {\n",
              "      const quickchartButtonEl =\n",
              "        document.querySelector('#' + key + ' button');\n",
              "      quickchartButtonEl.disabled = true;  // To prevent multiple clicks.\n",
              "      quickchartButtonEl.classList.add('colab-df-spinner');\n",
              "      try {\n",
              "        const charts = await google.colab.kernel.invokeFunction(\n",
              "            'suggestCharts', [key], {});\n",
              "      } catch (error) {\n",
              "        console.error('Error during call to suggestCharts:', error);\n",
              "      }\n",
              "      quickchartButtonEl.classList.remove('colab-df-spinner');\n",
              "      quickchartButtonEl.classList.add('colab-df-quickchart-complete');\n",
              "    }\n",
              "    (() => {\n",
              "      let quickchartButtonEl =\n",
              "        document.querySelector('#df-c39493d8-a012-44ca-829b-932c6694fdf7 button');\n",
              "      quickchartButtonEl.style.display =\n",
              "        google.colab.kernel.accessAllowed ? 'block' : 'none';\n",
              "    })();\n",
              "  </script>\n",
              "</div>\n",
              "\n",
              "  <div id=\"id_9c270ec9-8938-454d-a3e5-09e8d6326b76\">\n",
              "    <style>\n",
              "      .colab-df-generate {\n",
              "        background-color: #E8F0FE;\n",
              "        border: none;\n",
              "        border-radius: 50%;\n",
              "        cursor: pointer;\n",
              "        display: none;\n",
              "        fill: #1967D2;\n",
              "        height: 32px;\n",
              "        padding: 0 0 0 0;\n",
              "        width: 32px;\n",
              "      }\n",
              "\n",
              "      .colab-df-generate:hover {\n",
              "        background-color: #E2EBFA;\n",
              "        box-shadow: 0px 1px 2px rgba(60, 64, 67, 0.3), 0px 1px 3px 1px rgba(60, 64, 67, 0.15);\n",
              "        fill: #174EA6;\n",
              "      }\n",
              "\n",
              "      [theme=dark] .colab-df-generate {\n",
              "        background-color: #3B4455;\n",
              "        fill: #D2E3FC;\n",
              "      }\n",
              "\n",
              "      [theme=dark] .colab-df-generate:hover {\n",
              "        background-color: #434B5C;\n",
              "        box-shadow: 0px 1px 3px 1px rgba(0, 0, 0, 0.15);\n",
              "        filter: drop-shadow(0px 1px 2px rgba(0, 0, 0, 0.3));\n",
              "        fill: #FFFFFF;\n",
              "      }\n",
              "    </style>\n",
              "    <button class=\"colab-df-generate\" onclick=\"generateWithVariable('df_sentences')\"\n",
              "            title=\"Generate code using this dataframe.\"\n",
              "            style=\"display:none;\">\n",
              "\n",
              "  <svg xmlns=\"http://www.w3.org/2000/svg\" height=\"24px\"viewBox=\"0 0 24 24\"\n",
              "       width=\"24px\">\n",
              "    <path d=\"M7,19H8.4L18.45,9,17,7.55,7,17.6ZM5,21V16.75L18.45,3.32a2,2,0,0,1,2.83,0l1.4,1.43a1.91,1.91,0,0,1,.58,1.4,1.91,1.91,0,0,1-.58,1.4L9.25,21ZM18.45,9,17,7.55Zm-12,3A5.31,5.31,0,0,0,4.9,8.1,5.31,5.31,0,0,0,1,6.5,5.31,5.31,0,0,0,4.9,4.9,5.31,5.31,0,0,0,6.5,1,5.31,5.31,0,0,0,8.1,4.9,5.31,5.31,0,0,0,12,6.5,5.46,5.46,0,0,0,6.5,12Z\"/>\n",
              "  </svg>\n",
              "    </button>\n",
              "    <script>\n",
              "      (() => {\n",
              "      const buttonEl =\n",
              "        document.querySelector('#id_9c270ec9-8938-454d-a3e5-09e8d6326b76 button.colab-df-generate');\n",
              "      buttonEl.style.display =\n",
              "        google.colab.kernel.accessAllowed ? 'block' : 'none';\n",
              "\n",
              "      buttonEl.onclick = () => {\n",
              "        google.colab.notebook.generateWithVariable('df_sentences');\n",
              "      }\n",
              "      })();\n",
              "    </script>\n",
              "  </div>\n",
              "\n",
              "    </div>\n",
              "  </div>\n"
            ],
            "application/vnd.google.colaboratory.intrinsic+json": {
              "type": "dataframe",
              "variable_name": "df_sentences",
              "summary": "{\n  \"name\": \"df_sentences\",\n  \"rows\": 74,\n  \"fields\": [\n    {\n      \"column\": \"metric_1_score\",\n      \"properties\": {\n        \"dtype\": \"string\",\n        \"num_unique_values\": 46,\n        \"samples\": [\n          \"0.27\",\n          \"0.30\",\n          \"0.60\"\n        ],\n        \"semantic_type\": \"\",\n        \"description\": \"\"\n      }\n    },\n    {\n      \"column\": \"base_idx\",\n      \"properties\": {\n        \"dtype\": \"number\",\n        \"std\": 21,\n        \"min\": 0,\n        \"max\": 73,\n        \"num_unique_values\": 74,\n        \"samples\": [\n          4,\n          63,\n          18\n        ],\n        \"semantic_type\": \"\",\n        \"description\": \"\"\n      }\n    },\n    {\n      \"column\": \"start_time\",\n      \"properties\": {\n        \"dtype\": \"object\",\n        \"num_unique_values\": 74,\n        \"samples\": [\n          \"00:20.621\",\n          \"05:20.497\",\n          \"01:17.152\"\n        ],\n        \"semantic_type\": \"\",\n        \"description\": \"\"\n      }\n    },\n    {\n      \"column\": \"end_time\",\n      \"properties\": {\n        \"dtype\": \"object\",\n        \"num_unique_values\": 74,\n        \"samples\": [\n          \"00:23.862\",\n          \"05:26.404\",\n          \"01:24.495\"\n        ],\n        \"semantic_type\": \"\",\n        \"description\": \"\"\n      }\n    },\n    {\n      \"column\": \"sentence\",\n      \"properties\": {\n        \"dtype\": \"string\",\n        \"num_unique_values\": 74,\n        \"samples\": [\n          \"Also, when you're working with a team, you get different perspectives.\",\n          \"It's easy also for them for communication purposes, and this is what has worked for me.\",\n          \"I'm going to be working all night while this guy is like doing something else that is not teamwork and things like that.\"\n        ],\n        \"semantic_type\": \"\",\n        \"description\": \"\"\n      }\n    }\n  ]\n}"
            }
          },
          "metadata": {}
        }
      ]
    },
    {
      "cell_type": "markdown",
      "source": [
        "## Metric 2: Intra-sentence relevancy\n",
        "Score by if current sentence is needded by adjacent sentences."
      ],
      "metadata": {
        "id": "mtycqPqJfA_u"
      }
    },
    {
      "cell_type": "code",
      "source": [
        "from transformers import BertForSequenceClassification, BertTokenizer\n",
        "\n",
        "# Load pre-trained model and tokenizer\n",
        "model = BertForSequenceClassification.from_pretrained('bert-base-uncased', num_labels=2)\n",
        "tokenizer = BertTokenizer.from_pretrained('bert-base-uncased')\n",
        "\n",
        "# Store predictions for each sentence\n",
        "predictions = []\n",
        "\n",
        "# Iterate through sentence pairs\n",
        "for i in range(len(sentences) - 1):\n",
        "    sentence1 = sentences[i]\n",
        "    sentence2 = sentences[i + 1]\n",
        "\n",
        "    # Tokenize and prepare input\n",
        "    inputs = tokenizer(sentence1, sentence2, return_tensors='pt', truncation=True, padding=True, add_special_tokens=True)\n",
        "\n",
        "    # Get model prediction\n",
        "    outputs = model(**inputs)\n",
        "    prediction = torch.argmax(outputs.logits).item()\n",
        "\n",
        "    # Store prediction\n",
        "    predictions.append(prediction)\n",
        "\n",
        "# Handle last sentence (no next sentence)\n",
        "predictions.append(0)  # Assume last sentence doesn't need a next sentence"
      ],
      "metadata": {
        "id": "OGX8E0UOaTjo"
      },
      "execution_count": null,
      "outputs": []
    },
    {
      "cell_type": "code",
      "source": [
        "# Add predictions to DataFrame\n",
        "df_sentences = df_sentences.assign(**{\"Previous Sentence Needed\": predictions})\n",
        "\n",
        "display(df_sentences)"
      ],
      "metadata": {
        "id": "XE9fi5WTbSnX"
      },
      "execution_count": null,
      "outputs": []
    },
    {
      "cell_type": "markdown",
      "source": [
        "## Metric 3: Intelligent Sentence-Paragraph Relevancy"
      ],
      "metadata": {
        "id": "KDpPsygPOoZx"
      }
    },
    {
      "cell_type": "markdown",
      "source": [
        "##### Time Taken: 13min - 26min"
      ],
      "metadata": {
        "id": "ej1h8aIMQOfG"
      }
    },
    {
      "cell_type": "code",
      "source": [
        "tokenizer = LongformerTokenizer.from_pretrained(\"allenai/longformer-base-4096\")\n",
        "model = LongformerForSequenceClassification.from_pretrained(\"allenai/longformer-base-4096\")\n",
        "\n",
        "# Ensure the model is in evaluation mode\n",
        "model.eval()\n",
        "\n",
        "# Example usage\n",
        "body_paragraph = paragraph\n",
        "\n",
        "relevance_scores = []\n",
        "\n",
        "for sentence in sentences:\n",
        "    # Prepare the input for Longformer\n",
        "    inputs = tokenizer(\n",
        "        body_paragraph,\n",
        "        sentence,\n",
        "        return_tensors='pt',\n",
        "        max_length=4096,\n",
        "        truncation=True,\n",
        "        padding='max_length'  # Pad to max length to avoid issues with model input size\n",
        "    )\n",
        "\n",
        "    # Get model predictions\n",
        "    with torch.no_grad():\n",
        "        outputs = model(**inputs)\n",
        "\n",
        "    # Assuming binary classification (relevant/not relevant)\n",
        "    relevance_score = torch.softmax(outputs.logits, dim=1)[0][1].item()  # Probability of being relevant\n",
        "    relevance_scores.append((sentence, relevance_score))\n",
        "\n",
        "# Sort sentences based on relevance scores\n",
        "sorted_sentences = sorted(relevance_scores, key=lambda x: x[1], reverse=True)\n",
        "ranked_sentences = [sentence for sentence, score in sorted_sentences]"
      ],
      "metadata": {
        "id": "hOtvxn7cOsNE"
      },
      "execution_count": null,
      "outputs": []
    },
    {
      "cell_type": "code",
      "source": [
        "relevance_scores[0]"
      ],
      "metadata": {
        "id": "j0z-kFNeX1WH"
      },
      "execution_count": null,
      "outputs": []
    },
    {
      "cell_type": "code",
      "source": [
        "sentence_indices = list(range(len(relevance_scores)))\n",
        "scores = [score for sentence, score in relevance_scores]\n",
        "sentences_text = [sentence for sentence, score in relevance_scores]\n",
        "\n",
        "df_relevance = pd.DataFrame({'Sentence Index': sentence_indices, 'Score': scores, 'Sentence': sentences_text})\n",
        "df_relevance"
      ],
      "metadata": {
        "id": "bkdGS6xYYSEW"
      },
      "execution_count": null,
      "outputs": []
    },
    {
      "cell_type": "markdown",
      "source": [
        "## Metric 4: Keyword extraction and Ranking\n",
        "using TextRank"
      ],
      "metadata": {
        "id": "BZlo75xBc3b1"
      }
    },
    {
      "cell_type": "code",
      "source": [
        "# Load a spaCy model\n",
        "nlp = spacy.load(\"en_core_web_sm\")\n",
        "\n",
        "# Add the pytextrank pipeline component to spaCy\n",
        "nlp.add_pipe(\"textrank\")\n",
        "\n",
        "phrase_data = []\n",
        "\n",
        "# Process the text\n",
        "doc = nlp(paragraph)\n",
        "\n",
        "for phrase in doc._.phrases:\n",
        "  phrase_data.append([phrase.text, phrase.rank, phrase.count])\n",
        "\n",
        "df_phrases = pd.DataFrame(phrase_data, columns=['Phrase', 'Rank', 'Count'])\n",
        "df_phrases.sort_values(by=['Rank'], ascending=False, inplace=True)\n",
        "\n",
        "display(df_phrases)"
      ],
      "metadata": {
        "id": "g6sGPwmqbscu"
      },
      "execution_count": null,
      "outputs": []
    },
    {
      "cell_type": "markdown",
      "source": [
        "# Audio"
      ],
      "metadata": {
        "id": "aJQglUy2Pz3N"
      }
    },
    {
      "cell_type": "markdown",
      "source": [
        "## Metric 5: Silence Detection\n",
        "* From the Paragraph boundaries, get the time in aduio that we care about\n",
        "* For each time in audio we care about, analyze if they are low volume\n",
        "\n",
        "OR\n",
        "* analyze all potential sentence boundaries first\n",
        "* match with end of sentences"
      ],
      "metadata": {
        "id": "LqKPixxmxvqk"
      }
    },
    {
      "cell_type": "code",
      "source": [
        "# 0: Load audio, extract timestamps\n",
        "\n",
        "SAMPLING_RATE = 16000 # 16 kHz\n",
        "\n",
        "model = load_silero_vad()\n",
        "wav = read_audio(audio_output)\n",
        "speech_timestamps = get_speech_timestamps(wav, model)\n",
        "\n",
        "# Check the shape of the wav tensor\n",
        "print(f\"Audio shape: {wav.shape}\")\n",
        "print(f\"Audio length (seconds): {len(wav) / SAMPLING_RATE:.2f}\")"
      ],
      "metadata": {
        "colab": {
          "base_uri": "https://localhost:8080/"
        },
        "id": "bEjw2zzdMxz8",
        "outputId": "e140b3b3-7d4f-464c-8293-bb1f1751b9bc"
      },
      "execution_count": 118,
      "outputs": [
        {
          "output_type": "stream",
          "name": "stdout",
          "text": [
            "Audio shape: torch.Size([5657259])\n",
            "Audio length (seconds): 353.58\n"
          ]
        }
      ]
    },
    {
      "cell_type": "code",
      "source": [
        "# Speech Intervals\n",
        "speech_intervals = []\n",
        "for i in range(0, len(speech_timestamps)-1):\n",
        "    speech_intervals.append((speech_timestamps[i]['start'] / SAMPLING_RATE, speech_timestamps[i+1]['end'] / SAMPLING_RATE))\n",
        "\n",
        "# Silence Intervals\n",
        "silence_intervals = []\n",
        "for i in range(1, len(speech_timestamps)):\n",
        "    silence_start = speech_timestamps[i-1]['end']  # End of previous speech segment\n",
        "    silence_end = speech_timestamps[i]['start']     # Start of current speech segment\n",
        "    silence_intervals.append((silence_start / SAMPLING_RATE, silence_end / SAMPLING_RATE))"
      ],
      "metadata": {
        "id": "aXomQWsy4_0e"
      },
      "execution_count": 119,
      "outputs": []
    },
    {
      "cell_type": "code",
      "source": [
        "print(speech_timestamps[0:3])\n",
        "print(speech_intervals[0:3])\n",
        "print(silence_intervals[0:3])"
      ],
      "metadata": {
        "colab": {
          "base_uri": "https://localhost:8080/"
        },
        "id": "8ela8OxwFsjR",
        "outputId": "269cc154-18b9-4ad1-90c1-cdd3fcc52467"
      },
      "execution_count": 120,
      "outputs": [
        {
          "output_type": "stream",
          "name": "stdout",
          "text": [
            "[{'start': 20000, 'end': 113120}, {'start': 116768, 'end': 140256}, {'start': 176672, 'end': 219104}]\n",
            "[(1.25, 8.766), (7.298, 13.694), (11.042, 20.382)]\n",
            "[(7.07, 7.298), (8.766, 11.042), (13.694, 14.05)]\n"
          ]
        }
      ]
    },
    {
      "cell_type": "markdown",
      "source": [
        "# Video"
      ],
      "metadata": {
        "id": "rJ-tgGS8Sr5P"
      }
    },
    {
      "cell_type": "code",
      "source": [],
      "metadata": {
        "id": "_1NCpG3SStHp"
      },
      "execution_count": null,
      "outputs": []
    },
    {
      "cell_type": "markdown",
      "source": [
        "# PostProcessing"
      ],
      "metadata": {
        "id": "xlckTwsoxVqd"
      }
    },
    {
      "cell_type": "code",
      "source": [],
      "metadata": {
        "id": "69OugA4Q7ACk",
        "outputId": "f05f839c-ec7d-4d1f-e73e-f8053eeca797",
        "colab": {
          "base_uri": "https://localhost:8080/",
          "height": 424
        }
      },
      "execution_count": 124,
      "outputs": [
        {
          "output_type": "execute_result",
          "data": {
            "text/plain": [
              "   metric_1_score  base_idx                                           sentence\n",
              "0             1.0         0  Hello, this is Lino Cordia and today I want to...\n",
              "1            0.41         1  So why is teamwork in the classroom so important?\n",
              "2            0.57         2  Well, for our students, it allows them to deve...\n",
              "3            0.48         3  Communication skills, leadership skills, et ce...\n",
              "4            0.55         4  Also, when you're working with a team, you get...\n",
              "..            ...       ...                                                ...\n",
              "66           0.42        66                        And yeah, please reach out.\n",
              "67           0.34        67                     I would love to hear from you.\n",
              "68           0.54        68                                 Thank you so much.\n",
              "69           0.25        69                                  I am Lino Cordia.\n",
              "70           0.38        70                                 See you next time.\n",
              "\n",
              "[71 rows x 3 columns]"
            ],
            "text/html": [
              "\n",
              "  <div id=\"df-131b7785-6f42-4558-ae3b-9f8748f45378\" class=\"colab-df-container\">\n",
              "    <div>\n",
              "<style scoped>\n",
              "    .dataframe tbody tr th:only-of-type {\n",
              "        vertical-align: middle;\n",
              "    }\n",
              "\n",
              "    .dataframe tbody tr th {\n",
              "        vertical-align: top;\n",
              "    }\n",
              "\n",
              "    .dataframe thead th {\n",
              "        text-align: right;\n",
              "    }\n",
              "</style>\n",
              "<table border=\"1\" class=\"dataframe\">\n",
              "  <thead>\n",
              "    <tr style=\"text-align: right;\">\n",
              "      <th></th>\n",
              "      <th>metric_1_score</th>\n",
              "      <th>base_idx</th>\n",
              "      <th>sentence</th>\n",
              "    </tr>\n",
              "  </thead>\n",
              "  <tbody>\n",
              "    <tr>\n",
              "      <th>0</th>\n",
              "      <td>1.0</td>\n",
              "      <td>0</td>\n",
              "      <td>Hello, this is Lino Cordia and today I want to...</td>\n",
              "    </tr>\n",
              "    <tr>\n",
              "      <th>1</th>\n",
              "      <td>0.41</td>\n",
              "      <td>1</td>\n",
              "      <td>So why is teamwork in the classroom so important?</td>\n",
              "    </tr>\n",
              "    <tr>\n",
              "      <th>2</th>\n",
              "      <td>0.57</td>\n",
              "      <td>2</td>\n",
              "      <td>Well, for our students, it allows them to deve...</td>\n",
              "    </tr>\n",
              "    <tr>\n",
              "      <th>3</th>\n",
              "      <td>0.48</td>\n",
              "      <td>3</td>\n",
              "      <td>Communication skills, leadership skills, et ce...</td>\n",
              "    </tr>\n",
              "    <tr>\n",
              "      <th>4</th>\n",
              "      <td>0.55</td>\n",
              "      <td>4</td>\n",
              "      <td>Also, when you're working with a team, you get...</td>\n",
              "    </tr>\n",
              "    <tr>\n",
              "      <th>...</th>\n",
              "      <td>...</td>\n",
              "      <td>...</td>\n",
              "      <td>...</td>\n",
              "    </tr>\n",
              "    <tr>\n",
              "      <th>66</th>\n",
              "      <td>0.42</td>\n",
              "      <td>66</td>\n",
              "      <td>And yeah, please reach out.</td>\n",
              "    </tr>\n",
              "    <tr>\n",
              "      <th>67</th>\n",
              "      <td>0.34</td>\n",
              "      <td>67</td>\n",
              "      <td>I would love to hear from you.</td>\n",
              "    </tr>\n",
              "    <tr>\n",
              "      <th>68</th>\n",
              "      <td>0.54</td>\n",
              "      <td>68</td>\n",
              "      <td>Thank you so much.</td>\n",
              "    </tr>\n",
              "    <tr>\n",
              "      <th>69</th>\n",
              "      <td>0.25</td>\n",
              "      <td>69</td>\n",
              "      <td>I am Lino Cordia.</td>\n",
              "    </tr>\n",
              "    <tr>\n",
              "      <th>70</th>\n",
              "      <td>0.38</td>\n",
              "      <td>70</td>\n",
              "      <td>See you next time.</td>\n",
              "    </tr>\n",
              "  </tbody>\n",
              "</table>\n",
              "<p>71 rows × 3 columns</p>\n",
              "</div>\n",
              "    <div class=\"colab-df-buttons\">\n",
              "\n",
              "  <div class=\"colab-df-container\">\n",
              "    <button class=\"colab-df-convert\" onclick=\"convertToInteractive('df-131b7785-6f42-4558-ae3b-9f8748f45378')\"\n",
              "            title=\"Convert this dataframe to an interactive table.\"\n",
              "            style=\"display:none;\">\n",
              "\n",
              "  <svg xmlns=\"http://www.w3.org/2000/svg\" height=\"24px\" viewBox=\"0 -960 960 960\">\n",
              "    <path d=\"M120-120v-720h720v720H120Zm60-500h600v-160H180v160Zm220 220h160v-160H400v160Zm0 220h160v-160H400v160ZM180-400h160v-160H180v160Zm440 0h160v-160H620v160ZM180-180h160v-160H180v160Zm440 0h160v-160H620v160Z\"/>\n",
              "  </svg>\n",
              "    </button>\n",
              "\n",
              "  <style>\n",
              "    .colab-df-container {\n",
              "      display:flex;\n",
              "      gap: 12px;\n",
              "    }\n",
              "\n",
              "    .colab-df-convert {\n",
              "      background-color: #E8F0FE;\n",
              "      border: none;\n",
              "      border-radius: 50%;\n",
              "      cursor: pointer;\n",
              "      display: none;\n",
              "      fill: #1967D2;\n",
              "      height: 32px;\n",
              "      padding: 0 0 0 0;\n",
              "      width: 32px;\n",
              "    }\n",
              "\n",
              "    .colab-df-convert:hover {\n",
              "      background-color: #E2EBFA;\n",
              "      box-shadow: 0px 1px 2px rgba(60, 64, 67, 0.3), 0px 1px 3px 1px rgba(60, 64, 67, 0.15);\n",
              "      fill: #174EA6;\n",
              "    }\n",
              "\n",
              "    .colab-df-buttons div {\n",
              "      margin-bottom: 4px;\n",
              "    }\n",
              "\n",
              "    [theme=dark] .colab-df-convert {\n",
              "      background-color: #3B4455;\n",
              "      fill: #D2E3FC;\n",
              "    }\n",
              "\n",
              "    [theme=dark] .colab-df-convert:hover {\n",
              "      background-color: #434B5C;\n",
              "      box-shadow: 0px 1px 3px 1px rgba(0, 0, 0, 0.15);\n",
              "      filter: drop-shadow(0px 1px 2px rgba(0, 0, 0, 0.3));\n",
              "      fill: #FFFFFF;\n",
              "    }\n",
              "  </style>\n",
              "\n",
              "    <script>\n",
              "      const buttonEl =\n",
              "        document.querySelector('#df-131b7785-6f42-4558-ae3b-9f8748f45378 button.colab-df-convert');\n",
              "      buttonEl.style.display =\n",
              "        google.colab.kernel.accessAllowed ? 'block' : 'none';\n",
              "\n",
              "      async function convertToInteractive(key) {\n",
              "        const element = document.querySelector('#df-131b7785-6f42-4558-ae3b-9f8748f45378');\n",
              "        const dataTable =\n",
              "          await google.colab.kernel.invokeFunction('convertToInteractive',\n",
              "                                                    [key], {});\n",
              "        if (!dataTable) return;\n",
              "\n",
              "        const docLinkHtml = 'Like what you see? Visit the ' +\n",
              "          '<a target=\"_blank\" href=https://colab.research.google.com/notebooks/data_table.ipynb>data table notebook</a>'\n",
              "          + ' to learn more about interactive tables.';\n",
              "        element.innerHTML = '';\n",
              "        dataTable['output_type'] = 'display_data';\n",
              "        await google.colab.output.renderOutput(dataTable, element);\n",
              "        const docLink = document.createElement('div');\n",
              "        docLink.innerHTML = docLinkHtml;\n",
              "        element.appendChild(docLink);\n",
              "      }\n",
              "    </script>\n",
              "  </div>\n",
              "\n",
              "\n",
              "<div id=\"df-ca5a4076-de3a-483f-bc53-1a1d41d0c329\">\n",
              "  <button class=\"colab-df-quickchart\" onclick=\"quickchart('df-ca5a4076-de3a-483f-bc53-1a1d41d0c329')\"\n",
              "            title=\"Suggest charts\"\n",
              "            style=\"display:none;\">\n",
              "\n",
              "<svg xmlns=\"http://www.w3.org/2000/svg\" height=\"24px\"viewBox=\"0 0 24 24\"\n",
              "     width=\"24px\">\n",
              "    <g>\n",
              "        <path d=\"M19 3H5c-1.1 0-2 .9-2 2v14c0 1.1.9 2 2 2h14c1.1 0 2-.9 2-2V5c0-1.1-.9-2-2-2zM9 17H7v-7h2v7zm4 0h-2V7h2v10zm4 0h-2v-4h2v4z\"/>\n",
              "    </g>\n",
              "</svg>\n",
              "  </button>\n",
              "\n",
              "<style>\n",
              "  .colab-df-quickchart {\n",
              "      --bg-color: #E8F0FE;\n",
              "      --fill-color: #1967D2;\n",
              "      --hover-bg-color: #E2EBFA;\n",
              "      --hover-fill-color: #174EA6;\n",
              "      --disabled-fill-color: #AAA;\n",
              "      --disabled-bg-color: #DDD;\n",
              "  }\n",
              "\n",
              "  [theme=dark] .colab-df-quickchart {\n",
              "      --bg-color: #3B4455;\n",
              "      --fill-color: #D2E3FC;\n",
              "      --hover-bg-color: #434B5C;\n",
              "      --hover-fill-color: #FFFFFF;\n",
              "      --disabled-bg-color: #3B4455;\n",
              "      --disabled-fill-color: #666;\n",
              "  }\n",
              "\n",
              "  .colab-df-quickchart {\n",
              "    background-color: var(--bg-color);\n",
              "    border: none;\n",
              "    border-radius: 50%;\n",
              "    cursor: pointer;\n",
              "    display: none;\n",
              "    fill: var(--fill-color);\n",
              "    height: 32px;\n",
              "    padding: 0;\n",
              "    width: 32px;\n",
              "  }\n",
              "\n",
              "  .colab-df-quickchart:hover {\n",
              "    background-color: var(--hover-bg-color);\n",
              "    box-shadow: 0 1px 2px rgba(60, 64, 67, 0.3), 0 1px 3px 1px rgba(60, 64, 67, 0.15);\n",
              "    fill: var(--button-hover-fill-color);\n",
              "  }\n",
              "\n",
              "  .colab-df-quickchart-complete:disabled,\n",
              "  .colab-df-quickchart-complete:disabled:hover {\n",
              "    background-color: var(--disabled-bg-color);\n",
              "    fill: var(--disabled-fill-color);\n",
              "    box-shadow: none;\n",
              "  }\n",
              "\n",
              "  .colab-df-spinner {\n",
              "    border: 2px solid var(--fill-color);\n",
              "    border-color: transparent;\n",
              "    border-bottom-color: var(--fill-color);\n",
              "    animation:\n",
              "      spin 1s steps(1) infinite;\n",
              "  }\n",
              "\n",
              "  @keyframes spin {\n",
              "    0% {\n",
              "      border-color: transparent;\n",
              "      border-bottom-color: var(--fill-color);\n",
              "      border-left-color: var(--fill-color);\n",
              "    }\n",
              "    20% {\n",
              "      border-color: transparent;\n",
              "      border-left-color: var(--fill-color);\n",
              "      border-top-color: var(--fill-color);\n",
              "    }\n",
              "    30% {\n",
              "      border-color: transparent;\n",
              "      border-left-color: var(--fill-color);\n",
              "      border-top-color: var(--fill-color);\n",
              "      border-right-color: var(--fill-color);\n",
              "    }\n",
              "    40% {\n",
              "      border-color: transparent;\n",
              "      border-right-color: var(--fill-color);\n",
              "      border-top-color: var(--fill-color);\n",
              "    }\n",
              "    60% {\n",
              "      border-color: transparent;\n",
              "      border-right-color: var(--fill-color);\n",
              "    }\n",
              "    80% {\n",
              "      border-color: transparent;\n",
              "      border-right-color: var(--fill-color);\n",
              "      border-bottom-color: var(--fill-color);\n",
              "    }\n",
              "    90% {\n",
              "      border-color: transparent;\n",
              "      border-bottom-color: var(--fill-color);\n",
              "    }\n",
              "  }\n",
              "</style>\n",
              "\n",
              "  <script>\n",
              "    async function quickchart(key) {\n",
              "      const quickchartButtonEl =\n",
              "        document.querySelector('#' + key + ' button');\n",
              "      quickchartButtonEl.disabled = true;  // To prevent multiple clicks.\n",
              "      quickchartButtonEl.classList.add('colab-df-spinner');\n",
              "      try {\n",
              "        const charts = await google.colab.kernel.invokeFunction(\n",
              "            'suggestCharts', [key], {});\n",
              "      } catch (error) {\n",
              "        console.error('Error during call to suggestCharts:', error);\n",
              "      }\n",
              "      quickchartButtonEl.classList.remove('colab-df-spinner');\n",
              "      quickchartButtonEl.classList.add('colab-df-quickchart-complete');\n",
              "    }\n",
              "    (() => {\n",
              "      let quickchartButtonEl =\n",
              "        document.querySelector('#df-ca5a4076-de3a-483f-bc53-1a1d41d0c329 button');\n",
              "      quickchartButtonEl.style.display =\n",
              "        google.colab.kernel.accessAllowed ? 'block' : 'none';\n",
              "    })();\n",
              "  </script>\n",
              "</div>\n",
              "\n",
              "  <div id=\"id_efa963db-2d0d-4a0b-9a04-722a7ac5c24b\">\n",
              "    <style>\n",
              "      .colab-df-generate {\n",
              "        background-color: #E8F0FE;\n",
              "        border: none;\n",
              "        border-radius: 50%;\n",
              "        cursor: pointer;\n",
              "        display: none;\n",
              "        fill: #1967D2;\n",
              "        height: 32px;\n",
              "        padding: 0 0 0 0;\n",
              "        width: 32px;\n",
              "      }\n",
              "\n",
              "      .colab-df-generate:hover {\n",
              "        background-color: #E2EBFA;\n",
              "        box-shadow: 0px 1px 2px rgba(60, 64, 67, 0.3), 0px 1px 3px 1px rgba(60, 64, 67, 0.15);\n",
              "        fill: #174EA6;\n",
              "      }\n",
              "\n",
              "      [theme=dark] .colab-df-generate {\n",
              "        background-color: #3B4455;\n",
              "        fill: #D2E3FC;\n",
              "      }\n",
              "\n",
              "      [theme=dark] .colab-df-generate:hover {\n",
              "        background-color: #434B5C;\n",
              "        box-shadow: 0px 1px 3px 1px rgba(0, 0, 0, 0.15);\n",
              "        filter: drop-shadow(0px 1px 2px rgba(0, 0, 0, 0.3));\n",
              "        fill: #FFFFFF;\n",
              "      }\n",
              "    </style>\n",
              "    <button class=\"colab-df-generate\" onclick=\"generateWithVariable('df_sentences')\"\n",
              "            title=\"Generate code using this dataframe.\"\n",
              "            style=\"display:none;\">\n",
              "\n",
              "  <svg xmlns=\"http://www.w3.org/2000/svg\" height=\"24px\"viewBox=\"0 0 24 24\"\n",
              "       width=\"24px\">\n",
              "    <path d=\"M7,19H8.4L18.45,9,17,7.55,7,17.6ZM5,21V16.75L18.45,3.32a2,2,0,0,1,2.83,0l1.4,1.43a1.91,1.91,0,0,1,.58,1.4,1.91,1.91,0,0,1-.58,1.4L9.25,21ZM18.45,9,17,7.55Zm-12,3A5.31,5.31,0,0,0,4.9,8.1,5.31,5.31,0,0,0,1,6.5,5.31,5.31,0,0,0,4.9,4.9,5.31,5.31,0,0,0,6.5,1,5.31,5.31,0,0,0,8.1,4.9,5.31,5.31,0,0,0,12,6.5,5.46,5.46,0,0,0,6.5,12Z\"/>\n",
              "  </svg>\n",
              "    </button>\n",
              "    <script>\n",
              "      (() => {\n",
              "      const buttonEl =\n",
              "        document.querySelector('#id_efa963db-2d0d-4a0b-9a04-722a7ac5c24b button.colab-df-generate');\n",
              "      buttonEl.style.display =\n",
              "        google.colab.kernel.accessAllowed ? 'block' : 'none';\n",
              "\n",
              "      buttonEl.onclick = () => {\n",
              "        google.colab.notebook.generateWithVariable('df_sentences');\n",
              "      }\n",
              "      })();\n",
              "    </script>\n",
              "  </div>\n",
              "\n",
              "    </div>\n",
              "  </div>\n"
            ],
            "application/vnd.google.colaboratory.intrinsic+json": {
              "type": "dataframe",
              "variable_name": "df_sentences",
              "summary": "{\n  \"name\": \"df_sentences\",\n  \"rows\": 71,\n  \"fields\": [\n    {\n      \"column\": \"metric_1_score\",\n      \"properties\": {\n        \"dtype\": \"string\",\n        \"num_unique_values\": 45,\n        \"samples\": [\n          \"0.011\",\n          \"0.54\",\n          \"0.4\"\n        ],\n        \"semantic_type\": \"\",\n        \"description\": \"\"\n      }\n    },\n    {\n      \"column\": \"base_idx\",\n      \"properties\": {\n        \"dtype\": \"number\",\n        \"std\": 20,\n        \"min\": 0,\n        \"max\": 70,\n        \"num_unique_values\": 71,\n        \"samples\": [\n          22,\n          0,\n          49\n        ],\n        \"semantic_type\": \"\",\n        \"description\": \"\"\n      }\n    },\n    {\n      \"column\": \"sentence\",\n      \"properties\": {\n        \"dtype\": \"string\",\n        \"num_unique_values\": 71,\n        \"samples\": [\n          \"So what can we do as professors?\",\n          \"Hello, this is Lino Cordia and today I want to talk to you about a very important topic, challenging topic, teamwork in the classroom.\",\n          \"But sometimes it's important that you choose a team based on the skills that the team has or based on their interest.\"\n        ],\n        \"semantic_type\": \"\",\n        \"description\": \"\"\n      }\n    }\n  ]\n}"
            }
          },
          "metadata": {},
          "execution_count": 124
        }
      ]
    },
    {
      "cell_type": "code",
      "source": [
        "# Load the audio file\n",
        "audio = AudioSegment.from_file(audio_output)\n",
        "\n",
        "# Define segments\n",
        "first_part = audio[:180000]  # Up to 3:00 (in milliseconds)\n",
        "second_part = audio[186000:]  # From 3:06 onward\n",
        "\n",
        "# Combine segments\n",
        "edited_audio = first_part + second_part\n",
        "\n",
        "# Export the edited audio\n",
        "edited_audio.export(\"cut-\" + audio_output, format=\"wav\")"
      ],
      "metadata": {
        "id": "Qgua7QztxZqY"
      },
      "execution_count": null,
      "outputs": []
    }
  ]
}