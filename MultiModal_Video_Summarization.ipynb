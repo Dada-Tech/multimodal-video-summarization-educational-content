{
  "nbformat": 4,
  "nbformat_minor": 0,
  "metadata": {
    "colab": {
      "provenance": []
    },
    "kernelspec": {
      "name": "python3",
      "display_name": "Python 3"
    },
    "language_info": {
      "name": "python"
    }
  },
  "cells": [
    {
      "cell_type": "code",
      "source": [
        "!pip install nltk"
      ],
      "metadata": {
        "id": "MaAi3yOUWxq0",
        "outputId": "b2de521c-7d57-4bb3-93d7-bbb3de152284",
        "colab": {
          "base_uri": "https://localhost:8080/"
        }
      },
      "execution_count": 1,
      "outputs": [
        {
          "output_type": "stream",
          "name": "stdout",
          "text": [
            "Requirement already satisfied: nltk in /usr/local/lib/python3.10/dist-packages (3.8.1)\n",
            "Requirement already satisfied: click in /usr/local/lib/python3.10/dist-packages (from nltk) (8.1.7)\n",
            "Requirement already satisfied: joblib in /usr/local/lib/python3.10/dist-packages (from nltk) (1.4.2)\n",
            "Requirement already satisfied: regex>=2021.8.3 in /usr/local/lib/python3.10/dist-packages (from nltk) (2024.9.11)\n",
            "Requirement already satisfied: tqdm in /usr/local/lib/python3.10/dist-packages (from nltk) (4.66.5)\n"
          ]
        }
      ]
    },
    {
      "cell_type": "code",
      "source": [
        "import os\n",
        "import tarfile\n",
        "import nltk\n",
        "from nltk.tokenize import sent_tokenize"
      ],
      "metadata": {
        "id": "oiFdk6oSYg8w"
      },
      "execution_count": 2,
      "outputs": []
    },
    {
      "cell_type": "code",
      "source": [
        "nltk.download('punkt')"
      ],
      "metadata": {
        "id": "gd07zZ1sW0Pg",
        "outputId": "47374405-7645-402d-92bb-1b654a94c5eb",
        "colab": {
          "base_uri": "https://localhost:8080/"
        }
      },
      "execution_count": 3,
      "outputs": [
        {
          "output_type": "stream",
          "name": "stderr",
          "text": [
            "[nltk_data] Downloading package punkt to /root/nltk_data...\n",
            "[nltk_data]   Unzipping tokenizers/punkt.zip.\n"
          ]
        },
        {
          "output_type": "execute_result",
          "data": {
            "text/plain": [
              "True"
            ]
          },
          "metadata": {},
          "execution_count": 3
        }
      ]
    },
    {
      "cell_type": "code",
      "source": [
        "# # TVSum Dataset\n",
        "\n",
        "# # Dataset Download: TVSum\n",
        "# !wget -O TVSum.tgz https://people.csail.mit.edu/yalesong/tvsum/tvsum50_ver_1_1.tgz\n",
        "\n",
        "# # Extract the dataset\n",
        "# with tarfile.open(\"TVSum.tgz\", 'r:gz') as tar_ref:\n",
        "#     tar_ref.extractall(\"./\")\n",
        "\n",
        "\n",
        "# !ls ydata-tvsum50-v1_1\n",
        "\n",
        "# # Path to the extracted dataset (adjust if needed)\n",
        "# dataset_path = \"ydata-tvsum50-v1_1\"\n",
        "\n",
        "# # Example: List the video files in the dataset\n",
        "# video_files = [f for f in os.listdir(dataset_path) ]\n",
        "# # video_files = [f for f in os.listdir(dataset_path) if f.endswith(\".mp4\")]\n",
        "# print(\"Video files found:\", video_files)"
      ],
      "metadata": {
        "id": "v4xt1TKsYf-L"
      },
      "execution_count": null,
      "outputs": []
    },
    {
      "cell_type": "code",
      "source": [
        "# Text Processing\n",
        "\n",
        "paragraph = \"Renewable energy is crucial for reducing carbon emissions. Solar power, in particular, is sustainable and abundant. Interestingly, solar panels were first invented in 1954. With continued advancements, solar energy is becoming more accessible in everyday life.\"\n",
        "sentences = sent_tokenize(paragraph)\n",
        "\n",
        "print(sentences)"
      ],
      "metadata": {
        "id": "MnUUgHmMWl9v",
        "outputId": "5c58c2a6-fd35-4968-b374-50a89b3739d7",
        "colab": {
          "base_uri": "https://localhost:8080/"
        }
      },
      "execution_count": 8,
      "outputs": [
        {
          "output_type": "stream",
          "name": "stdout",
          "text": [
            "['Renewable energy is crucial for reducing carbon emissions.', 'Solar power, in particular, is sustainable and abundant.', 'Interestingly, solar panels were first invented in 1954.', 'With continued advancements, solar energy is becoming more accessible in everyday life.']\n"
          ]
        }
      ]
    }
  ]
}