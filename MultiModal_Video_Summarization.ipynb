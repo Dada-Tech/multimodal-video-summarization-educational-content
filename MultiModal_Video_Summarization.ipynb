{
  "nbformat": 4,
  "nbformat_minor": 0,
  "metadata": {
    "colab": {
      "provenance": []
    },
    "kernelspec": {
      "name": "python3",
      "display_name": "Python 3"
    },
    "language_info": {
      "name": "python"
    }
  },
  "cells": [
    {
      "cell_type": "code",
      "source": [
        "import os\n",
        "import tarfile"
      ],
      "metadata": {
        "id": "oiFdk6oSYg8w"
      },
      "execution_count": 4,
      "outputs": []
    },
    {
      "cell_type": "code",
      "source": [
        "# Constants\n"
      ],
      "metadata": {
        "id": "VbfMQt4dZmNA"
      },
      "execution_count": null,
      "outputs": []
    },
    {
      "cell_type": "code",
      "execution_count": null,
      "metadata": {
        "id": "ZOPkmmrlOX5t"
      },
      "outputs": [],
      "source": [
        "# Dataset Download: TVSum\n",
        "!wget -O TVSum.tgz https://people.csail.mit.edu/yalesong/tvsum/tvsum50_ver_1_1.tgz"
      ]
    },
    {
      "cell_type": "code",
      "source": [
        "# Extract the dataset\n",
        "with tarfile.open(\"TVSum.tgz\", 'r:gz') as tar_ref:\n",
        "    tar_ref.extractall(\"./\")"
      ],
      "metadata": {
        "id": "VAdKE_yuYPvB"
      },
      "execution_count": null,
      "outputs": []
    },
    {
      "cell_type": "code",
      "source": [
        "!ls ydata-tvsum50-v1_1"
      ],
      "metadata": {
        "colab": {
          "base_uri": "https://localhost:8080/"
        },
        "id": "v4xt1TKsYf-L",
        "outputId": "166dff1e-266d-4e6f-9c30-fece0c4d5adf"
      },
      "execution_count": 11,
      "outputs": [
        {
          "output_type": "stream",
          "name": "stdout",
          "text": [
            "README\t\t\tydata-tvsum50-matlab.zip     ydata-tvsum50-video.zip\n",
            "ydata-tvsum50-data.zip\tydata-tvsum50-thumbnail.zip\n"
          ]
        }
      ]
    },
    {
      "cell_type": "code",
      "source": [
        "# Path to the extracted dataset (adjust if needed)\n",
        "dataset_path = \"ydata-tvsum50-v1_1\"\n",
        "\n",
        "# Example: List the video files in the dataset\n",
        "video_files = [f for f in os.listdir(dataset_path) ]\n",
        "# video_files = [f for f in os.listdir(dataset_path) if f.endswith(\".mp4\")]\n",
        "print(\"Video files found:\", video_files)"
      ],
      "metadata": {
        "colab": {
          "base_uri": "https://localhost:8080/"
        },
        "id": "vTIZVCh6ZHtg",
        "outputId": "759026c0-15f8-40f7-a25f-5384e6f97185"
      },
      "execution_count": 9,
      "outputs": [
        {
          "output_type": "stream",
          "name": "stdout",
          "text": [
            "Video files found: ['README', 'ydata-tvsum50-video.zip', 'ydata-tvsum50-matlab.zip', 'ydata-tvsum50-thumbnail.zip', 'ydata-tvsum50-data.zip']\n"
          ]
        }
      ]
    }
  ]
}