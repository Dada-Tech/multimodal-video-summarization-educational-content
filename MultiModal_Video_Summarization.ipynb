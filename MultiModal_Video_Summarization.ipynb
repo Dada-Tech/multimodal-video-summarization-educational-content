{
  "nbformat": 4,
  "nbformat_minor": 0,
  "metadata": {
    "colab": {
      "provenance": [],
      "toc_visible": true
    },
    "kernelspec": {
      "name": "python3",
      "display_name": "Python 3"
    },
    "language_info": {
      "name": "python"
    }
  },
  "cells": [
    {
      "cell_type": "markdown",
      "source": [
        "# Installation & Setup"
      ],
      "metadata": {
        "id": "bvF2LUKURqhS"
      }
    },
    {
      "cell_type": "code",
      "source": [
        "%%capture\n",
        "!pip install nltk==3.9.1\n",
        "!pip install transformers==4.45.2\n",
        "!pip install datasets==3.0.2\n",
        "!pip install srt==3.5.3\n",
        "!pip install gdown==5.2.0\n",
        "!apt install ffmpeg==1.4\n",
        "!pip install deepmultilingualpunctuation==1.0.1"
      ],
      "metadata": {
        "id": "MaAi3yOUWxq0"
      },
      "execution_count": 108,
      "outputs": []
    },
    {
      "cell_type": "code",
      "source": [
        "import os\n",
        "import numpy as np\n",
        "import pandas as pd\n",
        "import tarfile\n",
        "import nltk\n",
        "from nltk.tokenize import sent_tokenize\n",
        "import torch\n",
        "from transformers import LongformerTokenizer, LongformerModel, LongformerForSequenceClassification, RobertaTokenizer, RobertaForTokenClassification, Trainer, TrainingArguments\n",
        "from datasets import load_dataset\n",
        "from datasets import load_dataset\n",
        "import torch.nn.functional as F\n",
        "import gdown\n",
        "import srt\n",
        "from deepmultilingualpunctuation import PunctuationModel"
      ],
      "metadata": {
        "id": "oiFdk6oSYg8w"
      },
      "execution_count": 109,
      "outputs": []
    },
    {
      "cell_type": "code",
      "source": [
        "# Notebook config\n",
        "os.environ[\"WANDB_DISABLED\"] = \"true\""
      ],
      "metadata": {
        "id": "oHj-ew8rbyYB"
      },
      "execution_count": 110,
      "outputs": []
    },
    {
      "cell_type": "code",
      "source": [
        "%%capture\n",
        "# NLTK\n",
        "nltk.download('punkt')\n",
        "nltk.download('punkt_tab')"
      ],
      "metadata": {
        "id": "uezzF1YfwZ8S",
        "outputId": "3f757f3a-e9ee-4475-be4a-0d16f06fcafd",
        "colab": {
          "base_uri": "https://localhost:8080/"
        }
      },
      "execution_count": 111,
      "outputs": [
        {
          "output_type": "stream",
          "name": "stderr",
          "text": [
            "[nltk_data] Downloading package punkt to /root/nltk_data...\n",
            "[nltk_data]   Package punkt is already up-to-date!\n",
            "[nltk_data] Downloading package punkt_tab to /root/nltk_data...\n",
            "[nltk_data]   Package punkt_tab is already up-to-date!\n"
          ]
        }
      ]
    },
    {
      "cell_type": "markdown",
      "source": [
        "# Variables"
      ],
      "metadata": {
        "id": "LYkbiBtust3v"
      }
    },
    {
      "cell_type": "code",
      "source": [
        "path_dataset = \"dataset/\"\n",
        "\n",
        "filename_video_input = \"assessing students without exams.mov\"\n",
        "filename_subtitles_input = \"assessing students without exams.srt\"\n",
        "filename_audio_output = \"assessing students without exams.wav\"\n",
        "\n",
        "video_input = os.path.join(path_dataset, filename_video_input)\n",
        "subtitles_input = os.path.join(path_dataset, filename_subtitles_input)\n",
        "audio_output = os.path.join(path_dataset, filename_audio_output)\n",
        "\n",
        "video = ''\n",
        "audio = ''\n",
        "subtitles = ''\n",
        "sentences = ''"
      ],
      "metadata": {
        "id": "5qOwE-2vstJc"
      },
      "execution_count": 112,
      "outputs": []
    },
    {
      "cell_type": "markdown",
      "source": [
        "# Datasets"
      ],
      "metadata": {
        "id": "0E33VpXsRdq2"
      }
    },
    {
      "cell_type": "code",
      "source": [
        "# Google Drive Dataset Location\n",
        "folder_id = '1k7DLJPl1xz9lpU4l3dZYtPe1XawhrXeC'\n",
        "gdown.download_folder(id=folder_id, quiet=False, use_cookies=False)"
      ],
      "metadata": {
        "colab": {
          "base_uri": "https://localhost:8080/"
        },
        "id": "G3N4G0ODPvfr",
        "outputId": "52361a27-9754-418a-d49f-65d2b2859ac5"
      },
      "execution_count": 113,
      "outputs": [
        {
          "output_type": "stream",
          "name": "stderr",
          "text": [
            "Retrieving folder contents\n"
          ]
        },
        {
          "output_type": "stream",
          "name": "stdout",
          "text": [
            "Processing file 1vuIW3CVm2p_Ig-_srJ5sIwUxzTGqdGHp assessing students without exams.mov\n",
            "Processing file 1i8XfB6AOly9l0vsdrGXz2FBs0OHxhFeP assessing students without exams.srt\n",
            "Processing file 1OP3zzSmpKJ0RDPasl9AGQD2yNeCEXtoR flipped learning basics.mov\n",
            "Processing file 1O5Q1jZLdbmzpZdkytc3byg-xMSkGAs7u flipped learning basics.srt\n",
            "Processing file 1wslcvTNd88FQMXJgvGbKR3sjwXORR6xt teamwork in the classroom.mov\n",
            "Processing file 10-kRFMxQqrI7j0K7dR6dBRBLSgpbjgUO teamwork in the classroom.srt\n"
          ]
        },
        {
          "output_type": "stream",
          "name": "stderr",
          "text": [
            "Retrieving folder contents completed\n",
            "Building directory structure\n",
            "Building directory structure completed\n",
            "Downloading...\n",
            "From (original): https://drive.google.com/uc?id=1vuIW3CVm2p_Ig-_srJ5sIwUxzTGqdGHp\n",
            "From (redirected): https://drive.google.com/uc?id=1vuIW3CVm2p_Ig-_srJ5sIwUxzTGqdGHp&confirm=t&uuid=eacd6000-0319-4286-a64a-8ed059eb2514\n",
            "To: /content/dataset/assessing students without exams.mov\n",
            "100%|██████████| 875M/875M [00:07<00:00, 119MB/s]\n",
            "Downloading...\n",
            "From: https://drive.google.com/uc?id=1i8XfB6AOly9l0vsdrGXz2FBs0OHxhFeP\n",
            "To: /content/dataset/assessing students without exams.srt\n",
            "100%|██████████| 17.1k/17.1k [00:00<00:00, 49.2MB/s]\n",
            "Downloading...\n",
            "From (original): https://drive.google.com/uc?id=1OP3zzSmpKJ0RDPasl9AGQD2yNeCEXtoR\n",
            "From (redirected): https://drive.google.com/uc?id=1OP3zzSmpKJ0RDPasl9AGQD2yNeCEXtoR&confirm=t&uuid=bc01f23c-c859-426a-8337-7743b71e8bca\n",
            "To: /content/dataset/flipped learning basics.mov\n",
            "100%|██████████| 399M/399M [00:05<00:00, 74.6MB/s]\n",
            "Downloading...\n",
            "From: https://drive.google.com/uc?id=1O5Q1jZLdbmzpZdkytc3byg-xMSkGAs7u\n",
            "To: /content/dataset/flipped learning basics.srt\n",
            "100%|██████████| 14.3k/14.3k [00:00<00:00, 19.0MB/s]\n",
            "Downloading...\n",
            "From (original): https://drive.google.com/uc?id=1wslcvTNd88FQMXJgvGbKR3sjwXORR6xt\n",
            "From (redirected): https://drive.google.com/uc?id=1wslcvTNd88FQMXJgvGbKR3sjwXORR6xt&confirm=t&uuid=fe51bb21-dbe2-4614-ad82-f1584a73f763\n",
            "To: /content/dataset/teamwork in the classroom.mov\n",
            "100%|██████████| 202M/202M [00:04<00:00, 44.4MB/s]\n",
            "Downloading...\n",
            "From: https://drive.google.com/uc?id=10-kRFMxQqrI7j0K7dR6dBRBLSgpbjgUO\n",
            "To: /content/dataset/teamwork in the classroom.srt\n",
            "100%|██████████| 10.3k/10.3k [00:00<00:00, 16.9MB/s]\n",
            "Download completed\n"
          ]
        },
        {
          "output_type": "execute_result",
          "data": {
            "text/plain": [
              "['/content/dataset/assessing students without exams.mov',\n",
              " '/content/dataset/assessing students without exams.srt',\n",
              " '/content/dataset/flipped learning basics.mov',\n",
              " '/content/dataset/flipped learning basics.srt',\n",
              " '/content/dataset/teamwork in the classroom.mov',\n",
              " '/content/dataset/teamwork in the classroom.srt']"
            ]
          },
          "metadata": {},
          "execution_count": 113
        }
      ]
    },
    {
      "cell_type": "code",
      "source": [
        "# Subtitles:\n",
        "with open(subtitles_input, \"r\", encoding=\"utf-8\") as f:\n",
        "    subtitles = list(srt.parse(f.read()))\n",
        "\n",
        "# Simple Test Dataset:\n",
        "paragrah_simple = \"Renewable energy is crucial for reducing carbon emissions. Solar power, in particular, is sustainable and abundant. Interestingly, solar panels were first invented in 1954. With continued advancements, solar energy is becoming more accessible in everyday life.\"\n",
        "paragraph_simple_unpunct = \"Renewable energy is crucial for reducing carbon emissions  Solar power, in particular, is sustainable and abundant Interestingly, solar panels were first invented in 1954 With continued advancements, solar energy is becoming more accessible in everyday life\"\n",
        "\n",
        "# Other: CNN/Daily Mail\n",
        "# dataset_news = load_dataset(\"cnn_dailymail\", \"3.0.0\")\n",
        "# paragraph_news = dataset_news['train']['article'][0]\n",
        "# summary_news = dataset_news['train']['highlights'][0]"
      ],
      "metadata": {
        "id": "KIZL57wtPiYb"
      },
      "execution_count": 114,
      "outputs": []
    },
    {
      "cell_type": "markdown",
      "source": [
        "### SRT\n",
        "each **`subtitle`** in the subtitles array has the following properties:\n",
        "\n",
        "1. **`index`**\n",
        "   - The sequential number of the subtitle within the SRT file.\n",
        "   - `1`, `2`, `3`, etc. (Integer)\n",
        "2. **`start`**\n",
        "   - The time (in milliseconds) when the subtitle should appear on the screen.\n",
        "   - `00:00:05,000` (String representing HH:MM:SS,SSS)\n",
        "3. **`end`**\n",
        "   - The time (in milliseconds) when the subtitle should disappear from the screen.\n",
        "   - `00:00:10,000` (String representing HH:MM:SS,SSS)\n",
        "4. **`content`**\n",
        "   - The actual text of the subtitle that will be displayed.\n",
        "   - \"Hello, world!\" (String)\n",
        "5. **`proprietary`**\n",
        "   - This field holds any additional data or formatting specific to the SRT file or software used to create it. Often empty and can usually be ignored.\n",
        "   - `''` (Empty string, or sometimes contains specific formatting codes)"
      ],
      "metadata": {
        "id": "tCtO9Rg6J5Dz"
      }
    },
    {
      "cell_type": "markdown",
      "source": [
        "# Text:\n",
        "\n",
        "#### Challenges:\n",
        "* Imposing/Detecting punctuation\n",
        "* Incorrect words parsed to transcript"
      ],
      "metadata": {
        "id": "NqhKyoOO3voB"
      }
    },
    {
      "cell_type": "markdown",
      "source": [
        " ## Preprocessing"
      ],
      "metadata": {
        "id": "2Wu760PPx4Rj"
      }
    },
    {
      "cell_type": "code",
      "source": [
        "# Intermediate exploration\n",
        "\n",
        "# 'proprietary' field can be safely ignored\"\n",
        "proprietary_values = sum([len(subtitle.proprietary) for subtitle in subtitles])\n",
        "print(proprietary_values) # returns 0"
      ],
      "metadata": {
        "id": "3J6ZYo0UB9kR",
        "outputId": "2ab608b4-538e-4d94-b3bd-737edc72c5df",
        "colab": {
          "base_uri": "https://localhost:8080/"
        }
      },
      "execution_count": 115,
      "outputs": [
        {
          "output_type": "stream",
          "name": "stdout",
          "text": [
            "0\n"
          ]
        }
      ]
    },
    {
      "cell_type": "markdown",
      "source": [
        "### Paragraph (Unpunctuated)\n",
        "combination of all subtitle parts.  \n",
        "As text is parsed from audio automatically there is no inherent punctuation (periods are missing)"
      ],
      "metadata": {
        "id": "7vSt5ElqS2bK"
      }
    },
    {
      "cell_type": "code",
      "source": [
        "# Paragraph\n",
        "paragraph_unpunct = \" \".join([subtitle.content for subtitle in subtitles])"
      ],
      "metadata": {
        "id": "OFMXfndjQPGs"
      },
      "execution_count": 116,
      "outputs": []
    },
    {
      "cell_type": "code",
      "source": [
        "paragraph_unpunct"
      ],
      "metadata": {
        "colab": {
          "base_uri": "https://localhost:8080/",
          "height": 196
        },
        "id": "KtQPf13i7Ltj",
        "outputId": "42487f81-2774-445e-a17d-e020dfda66d0"
      },
      "execution_count": 117,
      "outputs": [
        {
          "output_type": "execute_result",
          "data": {
            "text/plain": [
              "\"hello everybody this is Loria and today I will be talking about a very controversial topic for us Educators assessing students without exams but before I tell you about this I'm going to share a little bit about my life when I was an undergrad student um I had to do a lot of exams and let's say for every course usually the only assessment was two exams one in the middle of the semester and then a final exam so this was a very stressful situation because you couldn't make mistakes one mistake would cost you would would cost you dearly right like let's say I only had three problems to solve in this midterm exam if I got one problem wrong I was already getting a 66 out of 100 on that exam so lots of stress I I I won't go into details but I had every every morning when I had an exam I would wake up and I had to go to the bathroom at least twice it was super stressful really really really bad but I became really good at doing exams I I'm going to brag a little bit I was the highest uh grade in my undergrad Electronics engineering I had the best grade but what happened is that I it's not that I was an amazing engineer I was instead an amazing exam taker now when I started my Master's Degree I had to take four courses and then I had to um to work on a research project that became a master Master's thesis and I didn't know what to do when when I had to work on my Master's thesis I was just giving a big problem this big big challenge you need to find a way to solve it here's how other here's how other people have solved this problem and you need to figure out how to come up with some unique and better solution to this problem and I didn't know how to start even what I knew was give me a little Challenge and will solve it like if x equals this and da D then solve this problem right and so I realized I didn't have this uh skills to to do research to figure out things to to come up with Creative Solutions exams had made me go for these very formulaic uh approaches this one type of single solution type of situation and and and some of you are going to say well the problem was not the exams uh exams overall the problem was the exams that you were giving as an undergrad but so I don't want to get into that I'm sure there's better ways of writing exams but I I I do want to complain a little bit about exams here so exams are a one-time performance right like as I said when I was an undergrad I had my midterm and then my final exam and so they were actually assessing what I was doing in those two hours right nothing of all the work that I had done before of all all the progress I had done of all the problem solving I've done in in in my spare time um they were stressful and there is a lot of anxiety and if you're an educator you can see that this is a big problem right now also my professors would get really limited feedback right because the exam was only two hours long it was only three questions because we need to we needed to solve a bunch of things and so what they get out of it is really little they really don't know how much I understand the cont and they just uh understand how well I understand these three problems and so it's a very narrow uh type of skill assessment they they only assess very very few things and it's not this more ah I don't like the word holistic but you know this more thorough way of really understanding what kind of Knowledge and Skills the student has developed so you're going to say Leno so then what do you suggest right so what I suggest is this different types of weekly assessments and I'm going to give you just a few these are just some examples quizzes I talk about quizzes before in another video I make these five minute quizzes at the beginning of my class uh sometimes my students do the quizzes on their own sometimes they do it as a team and I get immediate feedback because they are already graded right by the time they complete and they click submit I already they already have a grade because it's multiple choice so uh that gives you very quick feedback now they are very low stakes meaning if a student doesn't do well on a quiz no big deal nothing happens I even remove the lowest of their quizzes out of their final grade so they don't feel dist stress of doing that but they do feel compelled you know overall they they build that grade if a student doesn't do too well on a on a quiz I'm not concerned but if I see that the same student doesn't do well in the next Quiz you know two quizzes in a row then I start to to to to be a little bit more concerned and so I keep an eye on the student I have some conversations checking things are okay right um I also do classroom activities so it it has a it's a little classroom activity maybe they work on this for 20 minutes half an hour and then they have to submit something that I can assess just as complete or incomplete and it gives you gives me a clear idea of how they're doing uh there's now if we go to a little bit higher Stakes the labs again if they miss a lab maybe they don't get four out of 100 points so it's not the end of of the world and my homework are usually six out of 100 points so uh they have all these opportunities it's not just this midterm and this final they have all these opportunities and each lab has uh you know covers a little bit of what we have learned and of course as the term uh moves along the the labs become a little bit more sophisticated right they they they they have to cover more more content and they have to develop more skills but it's gradual and I again I can identify when there's a student struggling and I can reach out to the student and find ways to support them now the best thing uh my recommendation is that you offer a final project or a a series of projects maybe four projects during the during the semester but if you go for a final project or a series of projects what I suggest is that you don't just give a grade to the project but instead split it divide it into tasks so so here are some ideas there's the project proposal if your students are proposing the project to you sometimes you you you do tell them what the project is right but but if if it comes from them then you you grade The Proposal then the design the students have to tell you how they're going to go about it week one week two week three right how is the project going to look and then if it's coding then they they probably do this um diagram of how the structure of the code you know that gives you an example of the structure of the code um every week every other week you get up upates on how the project is going you also ask them to do a presentation to not just to you but to their peers there's a demo usually if it's an engineering computer science class they usually have something that works right so they run it everybody gets to play with it super fun and then I report right and and so there's a bunch of little tasks if they don't do too well let's say on the proposal you give them feedback and they get a chance to update things and improve things so projects are great and then finally I want to give you a book recommendation lifelong kindergarten this is a book by Mitchell Resnik from MIT and it is about cultivating creativity and he has the four piece which are projects passion peers and play so you learn by working on a project and ideally it's a project that you're passionate about because if you're passionate about you you really want to work on it so so you you spend more time working on on on something that you're passionate about now Piers it doesn't mean that you have to working on a project with a team you can be working on a project individually but by working next to people who are working on their projects having conversations with them you learn from them they learn from you you can say I'm struggling with this thing this object detection thing that doesn't work and then the the your peers say oh you know what I tried this thing I tried this neural network maybe you should give it a try so so this kind of thing right and ideally students should have time for play so for instance I have an assignment and I think it should take them about 10 days to complete the assignment so I give them two weeks so that when they finish in 10 days then they have this extra four days to probably play what if I tweak this parameter what if I change this value to this what if instead of uh I don't know uh you know whatever they can they can start thinking of a lot of things and hopefully they get this time to play and and to learn more anyways there's tons of information on how to assess students without uh the traditional exams this is just what I do very quickly I would love it if you can share your experience or if you say no I love exams then I would also love to love to hear that and understand why why you love exams so much and uh well this is me Lino Coria thank you so much for watching this video\""
            ],
            "application/vnd.google.colaboratory.intrinsic+json": {
              "type": "string"
            }
          },
          "metadata": {},
          "execution_count": 117
        }
      ]
    },
    {
      "cell_type": "markdown",
      "source": [
        "### Paragraph (Punctuated)\n",
        "Using DeepPunct model"
      ],
      "metadata": {
        "id": "7z5yDt4hToTE"
      }
    },
    {
      "cell_type": "code",
      "source": [
        "# DeepPunct model to restore punctuation\n",
        "model = PunctuationModel()\n",
        "text = paragraph_unpunct\n",
        "text_tokens = model.preprocess(text)\n",
        "# labled_words = model.predict(clean_text)\n",
        "paragraph_punct = model.restore_punctuation(text)"
      ],
      "metadata": {
        "id": "wUpTZwxNL4Ow",
        "colab": {
          "base_uri": "https://localhost:8080/"
        },
        "outputId": "990510ce-116a-4fd4-dd41-71bf3e064cad"
      },
      "execution_count": 118,
      "outputs": [
        {
          "output_type": "stream",
          "name": "stderr",
          "text": [
            "/usr/local/lib/python3.10/dist-packages/transformers/pipelines/token_classification.py:170: UserWarning: `grouped_entities` is deprecated and will be removed in version v5.0.0, defaulted to `aggregation_strategy=\"none\"` instead.\n",
            "  warnings.warn(\n"
          ]
        }
      ]
    },
    {
      "cell_type": "code",
      "source": [
        "paragraph_punct"
      ],
      "metadata": {
        "colab": {
          "base_uri": "https://localhost:8080/",
          "height": 196
        },
        "id": "_tLlMBhcjw1J",
        "outputId": "61846156-3148-4d31-ac43-bfe39cac9c55"
      },
      "execution_count": 119,
      "outputs": [
        {
          "output_type": "execute_result",
          "data": {
            "text/plain": [
              "\"hello everybody, this is Loria, and today I will be talking about a very controversial topic for us Educators: assessing students without exams. but before I tell you about this, I'm going to share a little bit about my life when I was an undergrad student. um, I had to do a lot of exams and, let's say, for every course, usually the only assessment was two exams: one in the middle of the semester and then a final exam. so this was a very stressful situation because you couldn't make mistakes. one mistake would cost you, would would cost you dearly, right like, let's say, I only had three problems to solve in this midterm exam. if I got one problem wrong, I was already getting a 66 out of 100 on that exam. so lots of stress. I, I- I won't go into details, but I had every, every morning when I had an exam, I would wake up and I had to go to the bathroom at least twice. it was super stressful, really, really, really bad. but I became really good at doing exams. I- I'm going to brag a little bit. I was the highest uh grade in my undergrad, Electronics engineering. I had the best grade. but what happened is that I- it's not that I was an amazing engineer. I was instead an amazing exam taker. now, when I started my Master's Degree, I had to take four courses and then I had to um to work on a research project that became a master Master's thesis, and I didn't know what to do when, when I had to work on my Master's thesis, I was just giving a big problem, this big, big challenge. you need to find a way to solve it. here's how other, here's how other people have solved this problem, and you need to figure out how to come up with some unique and better solution to this problem. and I didn't know how to start. even what I knew was: give me a little Challenge and will solve it, like if x equals this and da D then solve this problem right. and so I realized I didn't have this uh skills to to do research, to figure out things, to to come up with Creative Solutions. exams had made me go for these very formulaic uh approaches, this one type of single solution type of situation. and and and some of you are going to say: well, the problem was not the exams, uh, exams. overall, the problem was the exams that you were giving as an undergrad. but so I don't want to get into that. I'm sure there's better ways of writing exams, but I I I do want to complain a little bit about exams here. so exams are a one-time performance, right. like, as I said, when I was an undergrad, I had my midterm and then my final exam, and so they were actually assessing what I was doing in those two hours, right, nothing of all the work that I had done before, of all all the progress I had done, of all the problem solving I've done in in in my spare time. um, they were stressful and there is a lot of anxiety and if you're an educator, you can see that this is a big problem right now. also, my professors would get really limited feedback, right, because the exam was only two hours long, it was only three questions, because we need to, we needed to solve a bunch of things, and so what they get out of it is really little. they really don't know how much I understand the cont and they just uh, understand how well I understand these three problems, and so it's a very narrow, uh, type of skill assessment. they they only assess very, very few things and it's not this more. ah, I don't like the word holistic, but you know this more thorough way of really understanding what kind of Knowledge and Skills the student has developed. so you're going to say Leno. so then what do you suggest, right? so what I suggest is this: different types of weekly assessments, and I'm going to give you just a few. these are just some examples. quizzes: I talk about quizzes before in another video. I make these five minute quizzes at the beginning of my class. uh, sometimes my students do the quizzes on their own, sometimes they do it as a team and I get immediate feedback because they are already graded right by the time they complete and they click submit. I already they already have a grade because it's multiple choice. so, uh, that gives you very quick feedback. now, they are very low stakes, meaning if a student doesn't do well on a quiz, no big deal, nothing happens. I even remove the lowest of their quizzes out of their final grade. so they don't feel dist stress of doing that, but they do feel compelled. you know, overall they they build that grade. if a student doesn't do too well on a on a quiz, I'm not concerned, but if I see that the same student doesn't do well in the next Quiz- you know two quizzes in a row- then I start to, to, to, to be a little bit more concerned, and so I keep an eye on the student. I have some conversations, checking things are okay, right, um, I also do classroom activities, so it it has a, it's a little classroom activity. maybe they work on this for 20 minutes, half an hour, and then they have to submit something that I can assess just as complete or incomplete, and it gives you, gives me, a clear idea of how they're doing. uh, there's now, if we go to a little bit higher Stakes, the labs again, if they miss a lab, maybe they don't get four out of 100 points, so it's not the end of of the world, and my homework are usually six out of 100 points. so, uh, they have all these opportunities. it's not just this midterm and this final, they have all these opportunities and each lab has, uh, you know, covers a little bit of what we have learned and, of course, as the term uh moves along the, the labs become a little bit more sophisticated. right, they, they, they, they have to cover more, more content and they have to develop more skills. but it's gradual and I, again, I can identify when there's a student struggling and I can reach out to the student and find ways to support them. now the best thing, uh, my recommendation, is that you offer a final project or a a series of projects, maybe four projects during the during the semester. but if you go for a final project or a series of projects, what I suggest is that you don't just give a grade to the project, but instead split it, divide it into tasks, so. so here are some ideas. there's the project proposal. if your students are proposing the project to you, sometimes you, you, you do tell them what the project is right. but but if, if it comes from them, then you, you grade The Proposal, then the design. the students have to tell you how they're going to go about it. week one, week two, week three, right, how is the project going to look? and then, if it's coding, then they, they probably do this um diagram of how, the structure of the code. you know that gives you an example of the structure of the code um. every week, every other week, you get up upates on how the project is going. you also ask them to do a presentation to not just to you but to their peers. there's a demo, usually if it's an engineering, computer science class, they usually have something that works right, so they run it, everybody gets to play with it- super fun. and then I report right and, and so there's a bunch of little tasks. if they don't do too well, let's say on the proposal, you give them feedback and they get a chance to update things and improve things. so projects are great. and then, finally, I want to give you a book recommendation: lifelong kindergarten. this is a book by Mitchell Resnik from MIT and it is about cultivating creativity and he has the four piece, which are projects, passion, peers and play. so you learn by working on a project, and ideally it's a project that you're passionate about, because if you're passionate about you, you really want to work on it. so so you, you spend more time working on, on on something that you're passionate about. now, Piers, it doesn't mean that you have to working on a project with a team. you can be working on a project individually. but by working next to people who are working on their projects, having conversations with them, you learn from them, they learn from you. you can say: I'm struggling with this thing, this object detection thing that doesn't work, and then the, the, your peers say: oh, you know what? I tried this thing, I tried this neural network. maybe you should give it a try. so so, this kind of thing right, and ideally, students should have time for play. so, for instance, I have an assignment and I think it should take them about 10 days to complete the assignment. so I give them two weeks so that when they finish in 10 days then they have this extra four days to probably play. what if I tweak this parameter? what if I change this value to this? what if, instead of uh, I don't know, uh, you know whatever they can, they can start thinking of a lot of things and hopefully they get this time to play and and to learn more. anyways, there's tons of information on how to assess students without uh- the traditional exams. this is just what I do very quickly. I would love it if you can share your experience. or if you say no, I love exams, then I would also love to love to hear that and understand why, why you love exams so much and uh. well, this is me, Lino Coria. thank you so much for watching this video.\""
            ],
            "application/vnd.google.colaboratory.intrinsic+json": {
              "type": "string"
            }
          },
          "metadata": {},
          "execution_count": 119
        }
      ]
    },
    {
      "cell_type": "markdown",
      "source": [
        "\n",
        "Individual sentences from the paragraph."
      ],
      "metadata": {
        "id": "eOTDouNjmzUP"
      }
    },
    {
      "cell_type": "markdown",
      "source": [
        "### Sentence Segmentation"
      ],
      "metadata": {
        "id": "JG0zDyIunCP2"
      }
    },
    {
      "cell_type": "code",
      "source": [
        "# Segmentation\n",
        "sentences = sent_tokenize(paragraph_punct)\n",
        "print(len(sentences))\n",
        "print(sentences)"
      ],
      "metadata": {
        "id": "72E_kMUVUN6b",
        "colab": {
          "base_uri": "https://localhost:8080/"
        },
        "outputId": "a8ca8969-e070-4f11-c85a-1a345c5dd151"
      },
      "execution_count": 120,
      "outputs": [
        {
          "output_type": "stream",
          "name": "stdout",
          "text": [
            "92\n",
            "['hello everybody, this is Loria, and today I will be talking about a very controversial topic for us Educators: assessing students without exams.', \"but before I tell you about this, I'm going to share a little bit about my life when I was an undergrad student.\", \"um, I had to do a lot of exams and, let's say, for every course, usually the only assessment was two exams: one in the middle of the semester and then a final exam.\", \"so this was a very stressful situation because you couldn't make mistakes.\", \"one mistake would cost you, would would cost you dearly, right like, let's say, I only had three problems to solve in this midterm exam.\", 'if I got one problem wrong, I was already getting a 66 out of 100 on that exam.', 'so lots of stress.', \"I, I- I won't go into details, but I had every, every morning when I had an exam, I would wake up and I had to go to the bathroom at least twice.\", 'it was super stressful, really, really, really bad.', 'but I became really good at doing exams.', \"I- I'm going to brag a little bit.\", 'I was the highest uh grade in my undergrad, Electronics engineering.', 'I had the best grade.', \"but what happened is that I- it's not that I was an amazing engineer.\", 'I was instead an amazing exam taker.', \"now, when I started my Master's Degree, I had to take four courses and then I had to um to work on a research project that became a master Master's thesis, and I didn't know what to do when, when I had to work on my Master's thesis, I was just giving a big problem, this big, big challenge.\", 'you need to find a way to solve it.', \"here's how other, here's how other people have solved this problem, and you need to figure out how to come up with some unique and better solution to this problem.\", \"and I didn't know how to start.\", 'even what I knew was: give me a little Challenge and will solve it, like if x equals this and da D then solve this problem right.', \"and so I realized I didn't have this uh skills to to do research, to figure out things, to to come up with Creative Solutions.\", 'exams had made me go for these very formulaic uh approaches, this one type of single solution type of situation.', 'and and and some of you are going to say: well, the problem was not the exams, uh, exams.', 'overall, the problem was the exams that you were giving as an undergrad.', \"but so I don't want to get into that.\", \"I'm sure there's better ways of writing exams, but I I I do want to complain a little bit about exams here.\", 'so exams are a one-time performance, right.', \"like, as I said, when I was an undergrad, I had my midterm and then my final exam, and so they were actually assessing what I was doing in those two hours, right, nothing of all the work that I had done before, of all all the progress I had done, of all the problem solving I've done in in in my spare time.\", \"um, they were stressful and there is a lot of anxiety and if you're an educator, you can see that this is a big problem right now.\", 'also, my professors would get really limited feedback, right, because the exam was only two hours long, it was only three questions, because we need to, we needed to solve a bunch of things, and so what they get out of it is really little.', \"they really don't know how much I understand the cont and they just uh, understand how well I understand these three problems, and so it's a very narrow, uh, type of skill assessment.\", \"they they only assess very, very few things and it's not this more.\", \"ah, I don't like the word holistic, but you know this more thorough way of really understanding what kind of Knowledge and Skills the student has developed.\", \"so you're going to say Leno.\", 'so then what do you suggest, right?', \"so what I suggest is this: different types of weekly assessments, and I'm going to give you just a few.\", 'these are just some examples.', 'quizzes: I talk about quizzes before in another video.', 'I make these five minute quizzes at the beginning of my class.', 'uh, sometimes my students do the quizzes on their own, sometimes they do it as a team and I get immediate feedback because they are already graded right by the time they complete and they click submit.', \"I already they already have a grade because it's multiple choice.\", 'so, uh, that gives you very quick feedback.', \"now, they are very low stakes, meaning if a student doesn't do well on a quiz, no big deal, nothing happens.\", 'I even remove the lowest of their quizzes out of their final grade.', \"so they don't feel dist stress of doing that, but they do feel compelled.\", 'you know, overall they they build that grade.', \"if a student doesn't do too well on a on a quiz, I'm not concerned, but if I see that the same student doesn't do well in the next Quiz- you know two quizzes in a row- then I start to, to, to, to be a little bit more concerned, and so I keep an eye on the student.\", \"I have some conversations, checking things are okay, right, um, I also do classroom activities, so it it has a, it's a little classroom activity.\", \"maybe they work on this for 20 minutes, half an hour, and then they have to submit something that I can assess just as complete or incomplete, and it gives you, gives me, a clear idea of how they're doing.\", \"uh, there's now, if we go to a little bit higher Stakes, the labs again, if they miss a lab, maybe they don't get four out of 100 points, so it's not the end of of the world, and my homework are usually six out of 100 points.\", 'so, uh, they have all these opportunities.', \"it's not just this midterm and this final, they have all these opportunities and each lab has, uh, you know, covers a little bit of what we have learned and, of course, as the term uh moves along the, the labs become a little bit more sophisticated.\", 'right, they, they, they, they have to cover more, more content and they have to develop more skills.', \"but it's gradual and I, again, I can identify when there's a student struggling and I can reach out to the student and find ways to support them.\", 'now the best thing, uh, my recommendation, is that you offer a final project or a a series of projects, maybe four projects during the during the semester.', \"but if you go for a final project or a series of projects, what I suggest is that you don't just give a grade to the project, but instead split it, divide it into tasks, so.\", 'so here are some ideas.', \"there's the project proposal.\", 'if your students are proposing the project to you, sometimes you, you, you do tell them what the project is right.', 'but but if, if it comes from them, then you, you grade The Proposal, then the design.', \"the students have to tell you how they're going to go about it.\", 'week one, week two, week three, right, how is the project going to look?', \"and then, if it's coding, then they, they probably do this um diagram of how, the structure of the code.\", 'you know that gives you an example of the structure of the code um.', 'every week, every other week, you get up upates on how the project is going.', 'you also ask them to do a presentation to not just to you but to their peers.', \"there's a demo, usually if it's an engineering, computer science class, they usually have something that works right, so they run it, everybody gets to play with it- super fun.\", \"and then I report right and, and so there's a bunch of little tasks.\", \"if they don't do too well, let's say on the proposal, you give them feedback and they get a chance to update things and improve things.\", 'so projects are great.', 'and then, finally, I want to give you a book recommendation: lifelong kindergarten.', 'this is a book by Mitchell Resnik from MIT and it is about cultivating creativity and he has the four piece, which are projects, passion, peers and play.', \"so you learn by working on a project, and ideally it's a project that you're passionate about, because if you're passionate about you, you really want to work on it.\", \"so so you, you spend more time working on, on on something that you're passionate about.\", \"now, Piers, it doesn't mean that you have to working on a project with a team.\", 'you can be working on a project individually.', 'but by working next to people who are working on their projects, having conversations with them, you learn from them, they learn from you.', \"you can say: I'm struggling with this thing, this object detection thing that doesn't work, and then the, the, your peers say: oh, you know what?\", 'I tried this thing, I tried this neural network.', 'maybe you should give it a try.', 'so so, this kind of thing right, and ideally, students should have time for play.', 'so, for instance, I have an assignment and I think it should take them about 10 days to complete the assignment.', 'so I give them two weeks so that when they finish in 10 days then they have this extra four days to probably play.', 'what if I tweak this parameter?', 'what if I change this value to this?', \"what if, instead of uh, I don't know, uh, you know whatever they can, they can start thinking of a lot of things and hopefully they get this time to play and and to learn more.\", \"anyways, there's tons of information on how to assess students without uh- the traditional exams.\", 'this is just what I do very quickly.', 'I would love it if you can share your experience.', 'or if you say no, I love exams, then I would also love to love to hear that and understand why, why you love exams so much and uh.', 'well, this is me, Lino Coria.', 'thank you so much for watching this video.']\n"
          ]
        }
      ]
    },
    {
      "cell_type": "markdown",
      "source": [
        "## Metric 1: Simple Sentence-Paragraph Relevancy (Cosine Similarity)"
      ],
      "metadata": {
        "id": "_8gMAZOaQKNJ"
      }
    },
    {
      "cell_type": "code",
      "source": [
        "%%capture\n",
        "# 1: Longformer Model\n",
        "tokenizer_lf = LongformerTokenizer.from_pretrained('allenai/longformer-base-4096')\n",
        "model_lf = LongformerModel.from_pretrained('allenai/longformer-base-4096')"
      ],
      "metadata": {
        "id": "kGDOM_LzxmeM"
      },
      "execution_count": 122,
      "outputs": []
    },
    {
      "cell_type": "code",
      "source": [
        "# 2: Tokenization\n",
        "paragraph_tokens = tokenizer_lf(paragraph, return_tensors='pt')\n",
        "sentence_tokens = [tokenizer_lf(sentence, return_tensors='pt') for sentence in sentences]"
      ],
      "metadata": {
        "id": "c_FszsOCzf02"
      },
      "execution_count": 126,
      "outputs": []
    },
    {
      "cell_type": "markdown",
      "source": [
        "### Embedding Explanation\n",
        "The [CLS] (classification) token is often used in transformer models to represent the overall meaning or summary of the input sequence. By extracting its embedding, you're essentially obtaining a representation that captures the main point or essence of the paragraph."
      ],
      "metadata": {
        "id": "bBHu-QLj6kq9"
      }
    },
    {
      "cell_type": "code",
      "source": [
        "# 3: Embedding - ~2.5min\n",
        "with torch.no_grad(): # Disable gradient computation for efficiency\n",
        "    paragraph_embedding = model_lf(**paragraph_tokens).last_hidden_state[:, 0, :]  # Get the [CLS] token embedding\n",
        "    sentence_embeddings = [model_lf(**tokens).last_hidden_state[:, 0, :] for tokens in sentence_tokens]"
      ],
      "metadata": {
        "id": "7RBG1chM0B8x"
      },
      "execution_count": null,
      "outputs": []
    },
    {
      "cell_type": "code",
      "source": [
        "# 4: Relevance scores\n",
        "relevance_scores = [torch.cosine_similarity(paragraph_embedding, sentence_embedding).item() for sentence_embedding in sentence_embeddings]\n",
        "\n",
        "# Normalization: min-max normalization\n",
        "min_score = min(relevance_scores)\n",
        "max_score = max(relevance_scores)\n",
        "normalized_scores = [(score - min_score) / (max_score - min_score) for score in relevance_scores]\n",
        "\n",
        "# round\n",
        "normalized_scores = [np.format_float_positional(score, precision=2, unique=False, fractional=False, trim='k') for score in normalized_scores]"
      ],
      "metadata": {
        "id": "9BwrHjKc4Tge"
      },
      "execution_count": null,
      "outputs": []
    },
    {
      "cell_type": "code",
      "source": [
        "# 5: Display Results\n",
        "df = pd.DataFrame({\"Sentence Index\": range(len(sentences_segmented)), \"Score\": normalized_scores, \"Sentence\": sentences_segmented })\n",
        "df.sort_values(by=['Score'], ascending=False, inplace=True)\n",
        "\n",
        "display(df)"
      ],
      "metadata": {
        "id": "CNLoAh9FWssQ"
      },
      "execution_count": null,
      "outputs": []
    },
    {
      "cell_type": "markdown",
      "source": [
        "## Metric 2: Intra-sentence relevancy\n",
        "Score by if current sentence is needded by adjacent sentences."
      ],
      "metadata": {
        "id": "mtycqPqJfA_u"
      }
    },
    {
      "cell_type": "code",
      "source": [
        "from transformers import BertForSequenceClassification, BertTokenizer\n",
        "\n",
        "# Load pre-trained model and tokenizer\n",
        "model = BertForSequenceClassification.from_pretrained('bert-base-uncased', num_labels=2)\n",
        "tokenizer = BertTokenizer.from_pretrained('bert-base-uncased')\n",
        "\n",
        "sentences = sentences_segmented\n",
        "\n",
        "# Store predictions for each sentence\n",
        "predictions = []\n",
        "\n",
        "# Iterate through sentence pairs\n",
        "for i in range(len(sentences) - 1):\n",
        "    sentence1 = sentences[i]\n",
        "    sentence2 = sentences[i + 1]\n",
        "\n",
        "    # Tokenize and prepare input\n",
        "    inputs = tokenizer(sentence1, sentence2, return_tensors='pt', truncation=True, padding=True, add_special_tokens=True)\n",
        "\n",
        "    # Get model prediction\n",
        "    outputs = model(**inputs)\n",
        "    prediction = torch.argmax(outputs.logits).item()\n",
        "\n",
        "    # Store prediction\n",
        "    predictions.append(prediction)\n",
        "\n",
        "# Handle last sentence (no next sentence)\n",
        "predictions.append(0)  # Assume last sentence doesn't need a next sentence"
      ],
      "metadata": {
        "id": "OGX8E0UOaTjo"
      },
      "execution_count": null,
      "outputs": []
    },
    {
      "cell_type": "code",
      "source": [
        "df.sort_values(by=['Sentence Index'], ascending=True, inplace=True)\n",
        "\n",
        "# Add predictions to DataFrame\n",
        "df = df.assign(**{\"Previous Sentence Needed\": predictions})\n",
        "\n",
        "display(df)"
      ],
      "metadata": {
        "id": "XE9fi5WTbSnX"
      },
      "execution_count": null,
      "outputs": []
    },
    {
      "cell_type": "markdown",
      "source": [
        "# Audio"
      ],
      "metadata": {
        "id": "aJQglUy2Pz3N"
      }
    },
    {
      "cell_type": "markdown",
      "source": [
        "## Loading"
      ],
      "metadata": {
        "id": "b-ZAlbXvP1Ye"
      }
    },
    {
      "cell_type": "code",
      "source": [
        "%%capture\n",
        "# Extract audio (wav) from video\n",
        "!ffmpeg -y -i \"$video_input\" -vn -acodec copy \"$audio_output\"\n",
        "\n",
        "# Download Audio file\n",
        "# from google.colab import files\n",
        "# files.download(os.path.join('/content', audio_output))"
      ],
      "metadata": {
        "id": "_2fZZ7eGPy8S"
      },
      "execution_count": null,
      "outputs": []
    },
    {
      "cell_type": "markdown",
      "source": [
        "## Preprocessing\n",
        "* From the Paragraph boundaries, get the time in aduio that we care about\n",
        "* For each time in audio we care about, analyze if they are low volume\n",
        "\n",
        "OR\n",
        "* analyze all potential sentence boundaries first\n",
        "* match with end of sentences"
      ],
      "metadata": {
        "id": "LqKPixxmxvqk"
      }
    },
    {
      "cell_type": "code",
      "source": [],
      "metadata": {
        "id": "85Fu7ndmxrnV"
      },
      "execution_count": null,
      "outputs": []
    }
  ]
}