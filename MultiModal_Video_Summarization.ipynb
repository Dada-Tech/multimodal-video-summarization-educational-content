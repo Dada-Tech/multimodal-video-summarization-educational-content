{
  "nbformat": 4,
  "nbformat_minor": 0,
  "metadata": {
    "colab": {
      "provenance": []
    },
    "kernelspec": {
      "name": "python3",
      "display_name": "Python 3"
    },
    "language_info": {
      "name": "python"
    }
  },
  "cells": [
    {
      "cell_type": "markdown",
      "source": [
        "# Installation & Setup"
      ],
      "metadata": {
        "id": "bvF2LUKURqhS"
      }
    },
    {
      "cell_type": "code",
      "source": [
        "%%capture\n",
        "!pip install nltk\n",
        "!pip install transformers\n",
        "!pip install datasets\n",
        "!pip install srt\n",
        "!pip install gdown\n",
        "!apt install ffmpeg\n",
        "!pip install deepmultilingualpunctuation\n",
        "!pip install silero-vad\n",
        "!pip install spacy\n",
        "!pip install pytextrank\n",
        "!pip install pydub\n",
        "!pip install ffmpeg-python pymediainfo\n",
        "\n",
        "!pip install git+https://github.com/m-bain/whisperX.git"
      ],
      "metadata": {
        "id": "MaAi3yOUWxq0"
      },
      "execution_count": 91,
      "outputs": []
    },
    {
      "cell_type": "code",
      "source": [
        "import os\n",
        "import numpy as np\n",
        "import pandas as pd\n",
        "from google.colab import files\n",
        "import tarfile\n",
        "import gdown\n",
        "import re\n",
        "from functools import reduce\n",
        "\n",
        "# ML General\n",
        "from datasets import load_dataset\n",
        "import torch\n",
        "import torchaudio\n",
        "import torch.nn.functional as F\n",
        "from transformers import \\\n",
        "LongformerTokenizer, LongformerModel, LongformerForSequenceClassification, LongformerConfig, \\\n",
        "RobertaTokenizer, RobertaForTokenClassification, Trainer, TrainingArguments, \\\n",
        "LEDTokenizer, LEDForConditionalGeneration\n",
        "\n",
        "# Text\n",
        "import pytextrank\n",
        "import nltk\n",
        "from nltk.tokenize import sent_tokenize\n",
        "import spacy\n",
        "import srt\n",
        "\n",
        "# Audio\n",
        "import whisperx\n",
        "import silero_vad\n",
        "from silero_vad import load_silero_vad, read_audio, get_speech_timestamps\n",
        "from pydub import AudioSegment\n",
        "\n",
        "# Video\n",
        "from moviepy.editor import VideoFileClip, concatenate_videoclips\n",
        "import ffmpeg"
      ],
      "metadata": {
        "id": "oiFdk6oSYg8w"
      },
      "execution_count": 92,
      "outputs": []
    },
    {
      "cell_type": "code",
      "source": [
        "%%capture\n",
        "# NLTK\n",
        "nltk.download('punkt')\n",
        "nltk.download('punkt_tab')\n",
        "\n",
        "# Notebook config\n",
        "os.environ[\"WANDB_DISABLED\"] = \"true\""
      ],
      "metadata": {
        "id": "uezzF1YfwZ8S",
        "outputId": "fb368a95-31c5-4b6b-f228-ac9dfa7ac9cb",
        "colab": {
          "base_uri": "https://localhost:8080/"
        }
      },
      "execution_count": 93,
      "outputs": [
        {
          "output_type": "stream",
          "name": "stderr",
          "text": [
            "[nltk_data] Downloading package punkt to /root/nltk_data...\n",
            "[nltk_data]   Package punkt is already up-to-date!\n",
            "[nltk_data] Downloading package punkt_tab to /root/nltk_data...\n",
            "[nltk_data]   Package punkt_tab is already up-to-date!\n"
          ]
        }
      ]
    },
    {
      "cell_type": "markdown",
      "source": [
        "# Variables"
      ],
      "metadata": {
        "id": "LYkbiBtust3v"
      }
    },
    {
      "cell_type": "code",
      "source": [
        "video_input = \"dataset/teamwork in the classroom.mov\"\n",
        "\n",
        "full_base = os.path.dirname(video_input)\n",
        "path_dataset = full_base\n",
        "filename = os.path.basename(video_input)\n",
        "filename_without_extension = os.path.splitext(filename)[0]\n",
        "filename_video_extension = video = os.path.splitext(video_input)[1]\n",
        "\n",
        "\n",
        "filename_video_input = filename\n",
        "filename_subtitles_output = filename_without_extension + \".srt\"\n",
        "filename_audio_output = filename_without_extension + \".wav\"\n",
        "filename_audio_output_skimmed = filename_without_extension + \"_skimmed.wav\"\n",
        "filename_video_output_skimmed = filename_without_extension + \"_skimmed\" + filename_video_extension\n",
        "\n",
        "subtitles_output = os.path.join(full_base, filename_subtitles_output)\n",
        "audio_output = os.path.join(full_base, filename_audio_output)\n",
        "audio_output_skimmed = os.path.join(full_base, filename_audio_output_skimmed)\n",
        "video_output_skimmed = os.path.join(full_base, filename_video_output_skimmed)\n",
        "\n",
        "video = ''\n",
        "audio = ''\n",
        "subtitles = ''\n",
        "sentences = ''"
      ],
      "metadata": {
        "id": "5qOwE-2vstJc"
      },
      "execution_count": 94,
      "outputs": []
    },
    {
      "cell_type": "markdown",
      "source": [
        "# Datasets"
      ],
      "metadata": {
        "id": "0E33VpXsRdq2"
      }
    },
    {
      "cell_type": "code",
      "source": [
        "# Google Drive Dataset Location\n",
        "folder_id = '1k7DLJPl1xz9lpU4l3dZYtPe1XawhrXeC' # taken from drive.google.com/drive/u/1/folders/1k7D...(this part)\n",
        "gdown.download_folder(id=folder_id, quiet=False, use_cookies=False)"
      ],
      "metadata": {
        "colab": {
          "base_uri": "https://localhost:8080/"
        },
        "id": "G3N4G0ODPvfr",
        "outputId": "cea0f504-f168-4d66-bfdb-f6684a3c67ba"
      },
      "execution_count": 95,
      "outputs": [
        {
          "output_type": "stream",
          "name": "stderr",
          "text": [
            "Retrieving folder contents\n"
          ]
        },
        {
          "output_type": "stream",
          "name": "stdout",
          "text": [
            "Processing file 1vuIW3CVm2p_Ig-_srJ5sIwUxzTGqdGHp assessing students without exams.mov\n",
            "Processing file 1OP3zzSmpKJ0RDPasl9AGQD2yNeCEXtoR flipped learning basics.mov\n",
            "Processing file 1wslcvTNd88FQMXJgvGbKR3sjwXORR6xt teamwork in the classroom.mov\n",
            "Processing file 1ZsA-X-HsSk0WJiZaGcHIC3t17DchdXIX teamwork in the classroom.srt\n",
            "Processing file 1lb2rCvjouElVhqEHAyojUOvb_ECgUqjF teamwork in the classroom.wav\n"
          ]
        },
        {
          "output_type": "stream",
          "name": "stderr",
          "text": [
            "Retrieving folder contents completed\n",
            "Building directory structure\n",
            "Building directory structure completed\n",
            "Downloading...\n",
            "From (original): https://drive.google.com/uc?id=1vuIW3CVm2p_Ig-_srJ5sIwUxzTGqdGHp\n",
            "From (redirected): https://drive.google.com/uc?id=1vuIW3CVm2p_Ig-_srJ5sIwUxzTGqdGHp&confirm=t&uuid=845d5cc7-ce51-4868-b7f3-264e38dc6684\n",
            "To: /content/dataset/assessing students without exams.mov\n",
            "100%|██████████| 875M/875M [00:20<00:00, 43.2MB/s]\n",
            "Downloading...\n",
            "From (original): https://drive.google.com/uc?id=1OP3zzSmpKJ0RDPasl9AGQD2yNeCEXtoR\n",
            "From (redirected): https://drive.google.com/uc?id=1OP3zzSmpKJ0RDPasl9AGQD2yNeCEXtoR&confirm=t&uuid=898c2486-7fc8-45e0-bc4a-97073aeaf2d7\n",
            "To: /content/dataset/flipped learning basics.mov\n",
            "100%|██████████| 399M/399M [00:06<00:00, 59.4MB/s]\n",
            "Downloading...\n",
            "From (original): https://drive.google.com/uc?id=1wslcvTNd88FQMXJgvGbKR3sjwXORR6xt\n",
            "From (redirected): https://drive.google.com/uc?id=1wslcvTNd88FQMXJgvGbKR3sjwXORR6xt&confirm=t&uuid=7fa757e1-f948-422b-95d6-2d0858802ceb\n",
            "To: /content/dataset/teamwork in the classroom.mov\n",
            "100%|██████████| 202M/202M [00:02<00:00, 69.5MB/s]\n",
            "Downloading...\n",
            "From: https://drive.google.com/uc?id=1ZsA-X-HsSk0WJiZaGcHIC3t17DchdXIX\n",
            "To: /content/dataset/teamwork in the classroom.srt\n",
            "100%|██████████| 7.73k/7.73k [00:00<00:00, 18.0MB/s]\n",
            "Downloading...\n",
            "From: https://drive.google.com/uc?id=1lb2rCvjouElVhqEHAyojUOvb_ECgUqjF\n",
            "To: /content/dataset/teamwork in the classroom.wav\n",
            "100%|██████████| 62.4M/62.4M [00:00<00:00, 132MB/s]\n",
            "Download completed\n"
          ]
        },
        {
          "output_type": "execute_result",
          "data": {
            "text/plain": [
              "['/content/dataset/assessing students without exams.mov',\n",
              " '/content/dataset/flipped learning basics.mov',\n",
              " '/content/dataset/teamwork in the classroom.mov',\n",
              " '/content/dataset/teamwork in the classroom.srt',\n",
              " '/content/dataset/teamwork in the classroom.wav']"
            ]
          },
          "metadata": {},
          "execution_count": 95
        }
      ]
    },
    {
      "cell_type": "code",
      "source": [
        "# Simple Test Dataset:\n",
        "paragrah_simple = \"Renewable energy is crucial for reducing carbon emissions. Solar power, in particular, is sustainable and abundant. Interestingly, solar panels were first invented in 1954. With continued advancements, solar energy is becoming more accessible in everyday life.\"\n",
        "paragraph_simple_unpunct = \"Renewable energy is crucial for reducing carbon emissions  Solar power, in particular, is sustainable and abundant Interestingly, solar panels were first invented in 1954 With continued advancements, solar energy is becoming more accessible in everyday life\"\n",
        "\n",
        "# Other: CNN/Daily Mail\n",
        "# dataset_news = load_dataset(\"cnn_dailymail\", \"3.0.0\")\n",
        "# paragraph_news = dataset_news['train']['article'][0]\n",
        "# summary_news = dataset_news['train']['highlights'][0]"
      ],
      "metadata": {
        "id": "KIZL57wtPiYb"
      },
      "execution_count": 96,
      "outputs": []
    },
    {
      "cell_type": "markdown",
      "source": [
        "SRT  \n",
        "each **`subtitle`** in the subtitles array has the following properties:\n",
        "\n",
        "1. **`index`**\n",
        "   - The sequential number of the subtitle within the SRT file.\n",
        "   - `1`, `2`, `3`, etc. (Integer)\n",
        "2. **`start`**\n",
        "   - The time (in milliseconds) when the subtitle should appear on the screen.\n",
        "   - `00:00:05,000` (String representing HH:MM:SS,SSS)\n",
        "3. **`end`**\n",
        "   - The time (in milliseconds) when the subtitle should disappear from the screen.\n",
        "   - `00:00:10,000` (String representing HH:MM:SS,SSS)\n",
        "4. **`content`**\n",
        "   - The actual text of the subtitle that will be displayed.\n",
        "   - \"Hello, world!\" (String)\n",
        "5. **`proprietary`**\n",
        "   - This field holds any additional data or formatting specific to the SRT file or software used to create it. Often empty and can usually be ignored.\n",
        "   - `''` (Empty string, or sometimes contains specific formatting codes)"
      ],
      "metadata": {
        "id": "tCtO9Rg6J5Dz"
      }
    },
    {
      "cell_type": "markdown",
      "source": [
        "# Preprocessing"
      ],
      "metadata": {
        "id": "7dsF0AmX2pt9"
      }
    },
    {
      "cell_type": "markdown",
      "source": [
        "## Audio - Extract"
      ],
      "metadata": {
        "id": "_zukAoWW7Ia0"
      }
    },
    {
      "cell_type": "code",
      "source": [
        "%%capture\n",
        "# Extract audio (wav) from video\n",
        "!ffmpeg -y -i \"$video_input\" -vn -acodec pcm_s16le -ar 44100 -ac 2 \"$audio_output\""
      ],
      "metadata": {
        "id": "N_E3vUnK7GYc"
      },
      "execution_count": null,
      "outputs": []
    },
    {
      "cell_type": "markdown",
      "source": [
        "## Audio - SRT File Generation"
      ],
      "metadata": {
        "id": "-aWRBu9h7XkF"
      }
    },
    {
      "cell_type": "markdown",
      "source": [
        "##### Time Taken: ~4min"
      ],
      "metadata": {
        "id": "p9DVWtXh79zY"
      }
    },
    {
      "cell_type": "code",
      "source": [
        "def seconds_to_srt_timestamp(seconds):\n",
        "    \"\"\"\n",
        "    Extract hours, minutes, seconds, and milliseconds\n",
        "    from a given number of seconds.\n",
        "    \"\"\"\n",
        "\n",
        "    hours = int(seconds // 3600)\n",
        "    minutes = int((seconds % 3600) // 60)\n",
        "    seconds = seconds % 60\n",
        "    milliseconds = int((seconds - int(seconds)) * 1000)\n",
        "\n",
        "    # Format as HH:MM:SS,MS\n",
        "    return f\"{hours:02}:{minutes:02}:{int(seconds):02},{milliseconds:03}\""
      ],
      "metadata": {
        "id": "cn5g2bA470bU"
      },
      "execution_count": null,
      "outputs": []
    },
    {
      "cell_type": "code",
      "source": [
        "# Select device (GPU if available, otherwise CPU)\n",
        "device = \"cuda\" if torch.cuda.is_available() else \"cpu\"\n",
        "language=\"en\"\n",
        "compute_type=\"int8\"\n",
        "\n",
        "# Model WhisperX\n",
        "model = whisperx.load_model(\"base\", device=device, language=language, compute_type=compute_type) # Choose \"base\" or \"large\" model\n",
        "\n",
        "# Transcribe audio\n",
        "aligned_segments = model.transcribe(audio_output)\n",
        "\n",
        "# Align with forced alignment\n",
        "alignment_model, metadata = whisperx.load_align_model(language_code=aligned_segments[\"language\"], device=device)\n",
        "aligned_segments = whisperx.align(aligned_segments[\"segments\"], alignment_model, metadata, audio_output, device)\n",
        "\n",
        "# Generate SRT file with aligned sentences\n",
        "with open(subtitles_output, \"w\") as f:\n",
        "    for i, segment in enumerate(aligned_segments[\"segments\"], 1):\n",
        "        # Get start and end times in SRT format\n",
        "        start_time = seconds_to_srt_timestamp(segment[\"start\"])\n",
        "        end_time = seconds_to_srt_timestamp(segment[\"end\"])\n",
        "\n",
        "        # Write SRT entry\n",
        "        f.write(f\"{i}\\n{start_time} --> {end_time}\\n{segment['text']}\\n\\n\")\n",
        "\n",
        "print(f\"SRT file generated: {subtitles_output}\")"
      ],
      "metadata": {
        "colab": {
          "base_uri": "https://localhost:8080/"
        },
        "id": "gG9mX-np7hl5",
        "outputId": "2293dab8-9bc4-41b5-aa0e-2f854a14483d"
      },
      "execution_count": null,
      "outputs": [
        {
          "output_type": "stream",
          "name": "stderr",
          "text": [
            "INFO:pytorch_lightning.utilities.migration.utils:Lightning automatically upgraded your loaded checkpoint from v1.5.4 to v2.4.0. To apply the upgrade to your files permanently, run `python -m pytorch_lightning.utilities.upgrade_checkpoint ../root/.cache/torch/whisperx-vad-segmentation.bin`\n"
          ]
        },
        {
          "output_type": "stream",
          "name": "stdout",
          "text": [
            "Model was trained with pyannote.audio 0.0.1, yours is 3.1.1. Bad things might happen unless you revert pyannote.audio to 0.x.\n",
            "Model was trained with torch 1.10.0+cu102, yours is 2.5.0+cu121. Bad things might happen unless you revert torch to 1.x.\n",
            "SRT file generated: dataset/teamwork in the classroom.srt\n"
          ]
        }
      ]
    },
    {
      "cell_type": "markdown",
      "source": [
        "## Text - Load SRT File"
      ],
      "metadata": {
        "id": "SdFY0zkntLX9"
      }
    },
    {
      "cell_type": "code",
      "source": [
        "# Subtitles:\n",
        "with open(subtitles_output, \"r\", encoding=\"utf-8\") as f:\n",
        "    subtitles = list(srt.parse(f.read()))"
      ],
      "metadata": {
        "id": "Te0w_n66zfWB"
      },
      "execution_count": 97,
      "outputs": []
    },
    {
      "cell_type": "markdown",
      "source": [
        "## Text - Sentence Segmentation"
      ],
      "metadata": {
        "id": "Dgaty2bZ-4HZ"
      }
    },
    {
      "cell_type": "code",
      "source": [
        "def format_timedelta(timedelta_obj):\n",
        "    \"\"\"Formats a datetime.timedelta object into HH:MM:SS.mmm timestamp.\n",
        "\n",
        "    Args:\n",
        "        timedelta_obj: The datetime.timedelta object.\n",
        "\n",
        "    Returns:\n",
        "        A string representing the timestamp in HH:MM:SS.mmm format.\n",
        "    \"\"\"\n",
        "    total_seconds = timedelta_obj.total_seconds()\n",
        "    hours = int(total_seconds // 3600)  # Get hours\n",
        "    minutes = int((total_seconds % 3600) // 60)  # Get minutes\n",
        "    seconds = int(total_seconds % 60)  # Get seconds\n",
        "    milliseconds = int((total_seconds % 1) * 1000)  # Get milliseconds\n",
        "\n",
        "    return f\"{hours:02d}:{minutes:02d}:{seconds:02d}.{milliseconds:03d}\""
      ],
      "metadata": {
        "id": "3zelhoRN-x-R"
      },
      "execution_count": 98,
      "outputs": []
    },
    {
      "cell_type": "code",
      "source": [
        "sentences = []\n",
        "for i, segment in enumerate(subtitles):\n",
        "    sentences.append({\n",
        "        'base_idx': i,\n",
        "        'start_time': format_timedelta(segment.start),\n",
        "        'end_time': format_timedelta(segment.end),\n",
        "        'sentence': segment.content\n",
        "    })\n",
        "\n",
        "df_sentences = pd.DataFrame(sentences)\n",
        "sentences = df_sentences['sentence'].tolist()\n",
        "\n",
        "display(df_sentences)"
      ],
      "metadata": {
        "colab": {
          "base_uri": "https://localhost:8080/",
          "height": 424
        },
        "id": "5FVw_EqF-KZV",
        "outputId": "2c605ab8-2237-4ef7-926a-616739afe6ae"
      },
      "execution_count": 100,
      "outputs": [
        {
          "output_type": "display_data",
          "data": {
            "text/plain": [
              "    base_idx    start_time      end_time  \\\n",
              "0          0  00:00:01.274  00:00:08.685   \n",
              "1          1  00:00:11.057  00:00:13.319   \n",
              "2          2  00:00:13.359  00:00:17.480   \n",
              "3          3  00:00:17.699  00:00:20.059   \n",
              "4          4  00:00:20.620  00:00:23.861   \n",
              "..       ...           ...           ...   \n",
              "69        69  00:05:46.624  00:05:48.245   \n",
              "70        70  00:05:48.384  00:05:49.406   \n",
              "71        71  00:05:49.526  00:05:50.266   \n",
              "72        72  00:05:50.547  00:05:51.487   \n",
              "73        73  00:05:51.706  00:05:52.307   \n",
              "\n",
              "                                             sentence  \n",
              "0    Hello, this is Lino Cordia and today I want t...  \n",
              "1    So why is teamwork in the classroom so import...  \n",
              "2   Well, for our students, it allows them to deve...  \n",
              "3   Communication skills, leadership skills, et ce...  \n",
              "4   Also, when you're working with a team, you get...  \n",
              "..                                                ...  \n",
              "69                        And yeah, please reach out.  \n",
              "70                     I would love to hear from you.  \n",
              "71                                 Thank you so much.  \n",
              "72                                  I am Lino Cordia.  \n",
              "73                                 See you next time.  \n",
              "\n",
              "[74 rows x 4 columns]"
            ],
            "text/html": [
              "\n",
              "  <div id=\"df-0666dc73-61d7-443c-a9e4-fe4418f0b83e\" class=\"colab-df-container\">\n",
              "    <div>\n",
              "<style scoped>\n",
              "    .dataframe tbody tr th:only-of-type {\n",
              "        vertical-align: middle;\n",
              "    }\n",
              "\n",
              "    .dataframe tbody tr th {\n",
              "        vertical-align: top;\n",
              "    }\n",
              "\n",
              "    .dataframe thead th {\n",
              "        text-align: right;\n",
              "    }\n",
              "</style>\n",
              "<table border=\"1\" class=\"dataframe\">\n",
              "  <thead>\n",
              "    <tr style=\"text-align: right;\">\n",
              "      <th></th>\n",
              "      <th>base_idx</th>\n",
              "      <th>start_time</th>\n",
              "      <th>end_time</th>\n",
              "      <th>sentence</th>\n",
              "    </tr>\n",
              "  </thead>\n",
              "  <tbody>\n",
              "    <tr>\n",
              "      <th>0</th>\n",
              "      <td>0</td>\n",
              "      <td>00:00:01.274</td>\n",
              "      <td>00:00:08.685</td>\n",
              "      <td>Hello, this is Lino Cordia and today I want t...</td>\n",
              "    </tr>\n",
              "    <tr>\n",
              "      <th>1</th>\n",
              "      <td>1</td>\n",
              "      <td>00:00:11.057</td>\n",
              "      <td>00:00:13.319</td>\n",
              "      <td>So why is teamwork in the classroom so import...</td>\n",
              "    </tr>\n",
              "    <tr>\n",
              "      <th>2</th>\n",
              "      <td>2</td>\n",
              "      <td>00:00:13.359</td>\n",
              "      <td>00:00:17.480</td>\n",
              "      <td>Well, for our students, it allows them to deve...</td>\n",
              "    </tr>\n",
              "    <tr>\n",
              "      <th>3</th>\n",
              "      <td>3</td>\n",
              "      <td>00:00:17.699</td>\n",
              "      <td>00:00:20.059</td>\n",
              "      <td>Communication skills, leadership skills, et ce...</td>\n",
              "    </tr>\n",
              "    <tr>\n",
              "      <th>4</th>\n",
              "      <td>4</td>\n",
              "      <td>00:00:20.620</td>\n",
              "      <td>00:00:23.861</td>\n",
              "      <td>Also, when you're working with a team, you get...</td>\n",
              "    </tr>\n",
              "    <tr>\n",
              "      <th>...</th>\n",
              "      <td>...</td>\n",
              "      <td>...</td>\n",
              "      <td>...</td>\n",
              "      <td>...</td>\n",
              "    </tr>\n",
              "    <tr>\n",
              "      <th>69</th>\n",
              "      <td>69</td>\n",
              "      <td>00:05:46.624</td>\n",
              "      <td>00:05:48.245</td>\n",
              "      <td>And yeah, please reach out.</td>\n",
              "    </tr>\n",
              "    <tr>\n",
              "      <th>70</th>\n",
              "      <td>70</td>\n",
              "      <td>00:05:48.384</td>\n",
              "      <td>00:05:49.406</td>\n",
              "      <td>I would love to hear from you.</td>\n",
              "    </tr>\n",
              "    <tr>\n",
              "      <th>71</th>\n",
              "      <td>71</td>\n",
              "      <td>00:05:49.526</td>\n",
              "      <td>00:05:50.266</td>\n",
              "      <td>Thank you so much.</td>\n",
              "    </tr>\n",
              "    <tr>\n",
              "      <th>72</th>\n",
              "      <td>72</td>\n",
              "      <td>00:05:50.547</td>\n",
              "      <td>00:05:51.487</td>\n",
              "      <td>I am Lino Cordia.</td>\n",
              "    </tr>\n",
              "    <tr>\n",
              "      <th>73</th>\n",
              "      <td>73</td>\n",
              "      <td>00:05:51.706</td>\n",
              "      <td>00:05:52.307</td>\n",
              "      <td>See you next time.</td>\n",
              "    </tr>\n",
              "  </tbody>\n",
              "</table>\n",
              "<p>74 rows × 4 columns</p>\n",
              "</div>\n",
              "    <div class=\"colab-df-buttons\">\n",
              "\n",
              "  <div class=\"colab-df-container\">\n",
              "    <button class=\"colab-df-convert\" onclick=\"convertToInteractive('df-0666dc73-61d7-443c-a9e4-fe4418f0b83e')\"\n",
              "            title=\"Convert this dataframe to an interactive table.\"\n",
              "            style=\"display:none;\">\n",
              "\n",
              "  <svg xmlns=\"http://www.w3.org/2000/svg\" height=\"24px\" viewBox=\"0 -960 960 960\">\n",
              "    <path d=\"M120-120v-720h720v720H120Zm60-500h600v-160H180v160Zm220 220h160v-160H400v160Zm0 220h160v-160H400v160ZM180-400h160v-160H180v160Zm440 0h160v-160H620v160ZM180-180h160v-160H180v160Zm440 0h160v-160H620v160Z\"/>\n",
              "  </svg>\n",
              "    </button>\n",
              "\n",
              "  <style>\n",
              "    .colab-df-container {\n",
              "      display:flex;\n",
              "      gap: 12px;\n",
              "    }\n",
              "\n",
              "    .colab-df-convert {\n",
              "      background-color: #E8F0FE;\n",
              "      border: none;\n",
              "      border-radius: 50%;\n",
              "      cursor: pointer;\n",
              "      display: none;\n",
              "      fill: #1967D2;\n",
              "      height: 32px;\n",
              "      padding: 0 0 0 0;\n",
              "      width: 32px;\n",
              "    }\n",
              "\n",
              "    .colab-df-convert:hover {\n",
              "      background-color: #E2EBFA;\n",
              "      box-shadow: 0px 1px 2px rgba(60, 64, 67, 0.3), 0px 1px 3px 1px rgba(60, 64, 67, 0.15);\n",
              "      fill: #174EA6;\n",
              "    }\n",
              "\n",
              "    .colab-df-buttons div {\n",
              "      margin-bottom: 4px;\n",
              "    }\n",
              "\n",
              "    [theme=dark] .colab-df-convert {\n",
              "      background-color: #3B4455;\n",
              "      fill: #D2E3FC;\n",
              "    }\n",
              "\n",
              "    [theme=dark] .colab-df-convert:hover {\n",
              "      background-color: #434B5C;\n",
              "      box-shadow: 0px 1px 3px 1px rgba(0, 0, 0, 0.15);\n",
              "      filter: drop-shadow(0px 1px 2px rgba(0, 0, 0, 0.3));\n",
              "      fill: #FFFFFF;\n",
              "    }\n",
              "  </style>\n",
              "\n",
              "    <script>\n",
              "      const buttonEl =\n",
              "        document.querySelector('#df-0666dc73-61d7-443c-a9e4-fe4418f0b83e button.colab-df-convert');\n",
              "      buttonEl.style.display =\n",
              "        google.colab.kernel.accessAllowed ? 'block' : 'none';\n",
              "\n",
              "      async function convertToInteractive(key) {\n",
              "        const element = document.querySelector('#df-0666dc73-61d7-443c-a9e4-fe4418f0b83e');\n",
              "        const dataTable =\n",
              "          await google.colab.kernel.invokeFunction('convertToInteractive',\n",
              "                                                    [key], {});\n",
              "        if (!dataTable) return;\n",
              "\n",
              "        const docLinkHtml = 'Like what you see? Visit the ' +\n",
              "          '<a target=\"_blank\" href=https://colab.research.google.com/notebooks/data_table.ipynb>data table notebook</a>'\n",
              "          + ' to learn more about interactive tables.';\n",
              "        element.innerHTML = '';\n",
              "        dataTable['output_type'] = 'display_data';\n",
              "        await google.colab.output.renderOutput(dataTable, element);\n",
              "        const docLink = document.createElement('div');\n",
              "        docLink.innerHTML = docLinkHtml;\n",
              "        element.appendChild(docLink);\n",
              "      }\n",
              "    </script>\n",
              "  </div>\n",
              "\n",
              "\n",
              "<div id=\"df-1da407c6-d12e-4f3b-a065-c454ad177935\">\n",
              "  <button class=\"colab-df-quickchart\" onclick=\"quickchart('df-1da407c6-d12e-4f3b-a065-c454ad177935')\"\n",
              "            title=\"Suggest charts\"\n",
              "            style=\"display:none;\">\n",
              "\n",
              "<svg xmlns=\"http://www.w3.org/2000/svg\" height=\"24px\"viewBox=\"0 0 24 24\"\n",
              "     width=\"24px\">\n",
              "    <g>\n",
              "        <path d=\"M19 3H5c-1.1 0-2 .9-2 2v14c0 1.1.9 2 2 2h14c1.1 0 2-.9 2-2V5c0-1.1-.9-2-2-2zM9 17H7v-7h2v7zm4 0h-2V7h2v10zm4 0h-2v-4h2v4z\"/>\n",
              "    </g>\n",
              "</svg>\n",
              "  </button>\n",
              "\n",
              "<style>\n",
              "  .colab-df-quickchart {\n",
              "      --bg-color: #E8F0FE;\n",
              "      --fill-color: #1967D2;\n",
              "      --hover-bg-color: #E2EBFA;\n",
              "      --hover-fill-color: #174EA6;\n",
              "      --disabled-fill-color: #AAA;\n",
              "      --disabled-bg-color: #DDD;\n",
              "  }\n",
              "\n",
              "  [theme=dark] .colab-df-quickchart {\n",
              "      --bg-color: #3B4455;\n",
              "      --fill-color: #D2E3FC;\n",
              "      --hover-bg-color: #434B5C;\n",
              "      --hover-fill-color: #FFFFFF;\n",
              "      --disabled-bg-color: #3B4455;\n",
              "      --disabled-fill-color: #666;\n",
              "  }\n",
              "\n",
              "  .colab-df-quickchart {\n",
              "    background-color: var(--bg-color);\n",
              "    border: none;\n",
              "    border-radius: 50%;\n",
              "    cursor: pointer;\n",
              "    display: none;\n",
              "    fill: var(--fill-color);\n",
              "    height: 32px;\n",
              "    padding: 0;\n",
              "    width: 32px;\n",
              "  }\n",
              "\n",
              "  .colab-df-quickchart:hover {\n",
              "    background-color: var(--hover-bg-color);\n",
              "    box-shadow: 0 1px 2px rgba(60, 64, 67, 0.3), 0 1px 3px 1px rgba(60, 64, 67, 0.15);\n",
              "    fill: var(--button-hover-fill-color);\n",
              "  }\n",
              "\n",
              "  .colab-df-quickchart-complete:disabled,\n",
              "  .colab-df-quickchart-complete:disabled:hover {\n",
              "    background-color: var(--disabled-bg-color);\n",
              "    fill: var(--disabled-fill-color);\n",
              "    box-shadow: none;\n",
              "  }\n",
              "\n",
              "  .colab-df-spinner {\n",
              "    border: 2px solid var(--fill-color);\n",
              "    border-color: transparent;\n",
              "    border-bottom-color: var(--fill-color);\n",
              "    animation:\n",
              "      spin 1s steps(1) infinite;\n",
              "  }\n",
              "\n",
              "  @keyframes spin {\n",
              "    0% {\n",
              "      border-color: transparent;\n",
              "      border-bottom-color: var(--fill-color);\n",
              "      border-left-color: var(--fill-color);\n",
              "    }\n",
              "    20% {\n",
              "      border-color: transparent;\n",
              "      border-left-color: var(--fill-color);\n",
              "      border-top-color: var(--fill-color);\n",
              "    }\n",
              "    30% {\n",
              "      border-color: transparent;\n",
              "      border-left-color: var(--fill-color);\n",
              "      border-top-color: var(--fill-color);\n",
              "      border-right-color: var(--fill-color);\n",
              "    }\n",
              "    40% {\n",
              "      border-color: transparent;\n",
              "      border-right-color: var(--fill-color);\n",
              "      border-top-color: var(--fill-color);\n",
              "    }\n",
              "    60% {\n",
              "      border-color: transparent;\n",
              "      border-right-color: var(--fill-color);\n",
              "    }\n",
              "    80% {\n",
              "      border-color: transparent;\n",
              "      border-right-color: var(--fill-color);\n",
              "      border-bottom-color: var(--fill-color);\n",
              "    }\n",
              "    90% {\n",
              "      border-color: transparent;\n",
              "      border-bottom-color: var(--fill-color);\n",
              "    }\n",
              "  }\n",
              "</style>\n",
              "\n",
              "  <script>\n",
              "    async function quickchart(key) {\n",
              "      const quickchartButtonEl =\n",
              "        document.querySelector('#' + key + ' button');\n",
              "      quickchartButtonEl.disabled = true;  // To prevent multiple clicks.\n",
              "      quickchartButtonEl.classList.add('colab-df-spinner');\n",
              "      try {\n",
              "        const charts = await google.colab.kernel.invokeFunction(\n",
              "            'suggestCharts', [key], {});\n",
              "      } catch (error) {\n",
              "        console.error('Error during call to suggestCharts:', error);\n",
              "      }\n",
              "      quickchartButtonEl.classList.remove('colab-df-spinner');\n",
              "      quickchartButtonEl.classList.add('colab-df-quickchart-complete');\n",
              "    }\n",
              "    (() => {\n",
              "      let quickchartButtonEl =\n",
              "        document.querySelector('#df-1da407c6-d12e-4f3b-a065-c454ad177935 button');\n",
              "      quickchartButtonEl.style.display =\n",
              "        google.colab.kernel.accessAllowed ? 'block' : 'none';\n",
              "    })();\n",
              "  </script>\n",
              "</div>\n",
              "\n",
              "  <div id=\"id_a7890e5c-554c-4ae4-add9-40361310b268\">\n",
              "    <style>\n",
              "      .colab-df-generate {\n",
              "        background-color: #E8F0FE;\n",
              "        border: none;\n",
              "        border-radius: 50%;\n",
              "        cursor: pointer;\n",
              "        display: none;\n",
              "        fill: #1967D2;\n",
              "        height: 32px;\n",
              "        padding: 0 0 0 0;\n",
              "        width: 32px;\n",
              "      }\n",
              "\n",
              "      .colab-df-generate:hover {\n",
              "        background-color: #E2EBFA;\n",
              "        box-shadow: 0px 1px 2px rgba(60, 64, 67, 0.3), 0px 1px 3px 1px rgba(60, 64, 67, 0.15);\n",
              "        fill: #174EA6;\n",
              "      }\n",
              "\n",
              "      [theme=dark] .colab-df-generate {\n",
              "        background-color: #3B4455;\n",
              "        fill: #D2E3FC;\n",
              "      }\n",
              "\n",
              "      [theme=dark] .colab-df-generate:hover {\n",
              "        background-color: #434B5C;\n",
              "        box-shadow: 0px 1px 3px 1px rgba(0, 0, 0, 0.15);\n",
              "        filter: drop-shadow(0px 1px 2px rgba(0, 0, 0, 0.3));\n",
              "        fill: #FFFFFF;\n",
              "      }\n",
              "    </style>\n",
              "    <button class=\"colab-df-generate\" onclick=\"generateWithVariable('df_sentences')\"\n",
              "            title=\"Generate code using this dataframe.\"\n",
              "            style=\"display:none;\">\n",
              "\n",
              "  <svg xmlns=\"http://www.w3.org/2000/svg\" height=\"24px\"viewBox=\"0 0 24 24\"\n",
              "       width=\"24px\">\n",
              "    <path d=\"M7,19H8.4L18.45,9,17,7.55,7,17.6ZM5,21V16.75L18.45,3.32a2,2,0,0,1,2.83,0l1.4,1.43a1.91,1.91,0,0,1,.58,1.4,1.91,1.91,0,0,1-.58,1.4L9.25,21ZM18.45,9,17,7.55Zm-12,3A5.31,5.31,0,0,0,4.9,8.1,5.31,5.31,0,0,0,1,6.5,5.31,5.31,0,0,0,4.9,4.9,5.31,5.31,0,0,0,6.5,1,5.31,5.31,0,0,0,8.1,4.9,5.31,5.31,0,0,0,12,6.5,5.46,5.46,0,0,0,6.5,12Z\"/>\n",
              "  </svg>\n",
              "    </button>\n",
              "    <script>\n",
              "      (() => {\n",
              "      const buttonEl =\n",
              "        document.querySelector('#id_a7890e5c-554c-4ae4-add9-40361310b268 button.colab-df-generate');\n",
              "      buttonEl.style.display =\n",
              "        google.colab.kernel.accessAllowed ? 'block' : 'none';\n",
              "\n",
              "      buttonEl.onclick = () => {\n",
              "        google.colab.notebook.generateWithVariable('df_sentences');\n",
              "      }\n",
              "      })();\n",
              "    </script>\n",
              "  </div>\n",
              "\n",
              "    </div>\n",
              "  </div>\n"
            ],
            "application/vnd.google.colaboratory.intrinsic+json": {
              "type": "dataframe",
              "variable_name": "df_sentences",
              "summary": "{\n  \"name\": \"df_sentences\",\n  \"rows\": 74,\n  \"fields\": [\n    {\n      \"column\": \"base_idx\",\n      \"properties\": {\n        \"dtype\": \"number\",\n        \"std\": 21,\n        \"min\": 0,\n        \"max\": 73,\n        \"num_unique_values\": 74,\n        \"samples\": [\n          4,\n          63,\n          18\n        ],\n        \"semantic_type\": \"\",\n        \"description\": \"\"\n      }\n    },\n    {\n      \"column\": \"start_time\",\n      \"properties\": {\n        \"dtype\": \"object\",\n        \"num_unique_values\": 74,\n        \"samples\": [\n          \"00:00:20.620\",\n          \"00:05:20.497\",\n          \"00:01:17.152\"\n        ],\n        \"semantic_type\": \"\",\n        \"description\": \"\"\n      }\n    },\n    {\n      \"column\": \"end_time\",\n      \"properties\": {\n        \"dtype\": \"object\",\n        \"num_unique_values\": 74,\n        \"samples\": [\n          \"00:00:23.861\",\n          \"00:05:26.403\",\n          \"00:01:24.495\"\n        ],\n        \"semantic_type\": \"\",\n        \"description\": \"\"\n      }\n    },\n    {\n      \"column\": \"sentence\",\n      \"properties\": {\n        \"dtype\": \"string\",\n        \"num_unique_values\": 74,\n        \"samples\": [\n          \"Also, when you're working with a team, you get different perspectives.\",\n          \"It's easy also for them for communication purposes, and this is what has worked for me.\",\n          \"I'm going to be working all night while this guy is like doing something else that is not teamwork and things like that.\"\n        ],\n        \"semantic_type\": \"\",\n        \"description\": \"\"\n      }\n    }\n  ]\n}"
            }
          },
          "metadata": {}
        }
      ]
    },
    {
      "cell_type": "markdown",
      "source": [
        "## Text - Paragraph\n",
        "combination of all subtitle parts.  \n",
        "\n",
        "WhisperAI enhances transcription with basic punctuation."
      ],
      "metadata": {
        "id": "7vSt5ElqS2bK"
      }
    },
    {
      "cell_type": "code",
      "source": [
        "paragraph = reduce(lambda acc, seg: acc + seg.strip() + ' ', sentences, '')\n",
        "\n",
        "# Print the paragraph\n",
        "print(paragraph)"
      ],
      "metadata": {
        "id": "OFMXfndjQPGs",
        "colab": {
          "base_uri": "https://localhost:8080/"
        },
        "outputId": "daf90f56-f978-4f2c-f7bc-7211f6e40758"
      },
      "execution_count": 101,
      "outputs": [
        {
          "output_type": "stream",
          "name": "stdout",
          "text": [
            "Hello, this is Lino Cordia and today I want to talk to you about a very important topic, challenging topic, teamwork in the classroom. So why is teamwork in the classroom so important? Well, for our students, it allows them to develop a bunch of new skills, right? Communication skills, leadership skills, et cetera. Also, when you're working with a team, you get different perspectives. Ideally, you are part of a team that has people with different genders, people with different age groups, people with different academic backgrounds, right? So when you're talking to them, you get all these fresh perspectives that inform your the task that you're trying to solve. Also teams will motivate you, they will support you, you will feel empowered by them ideally, right? This is like the things that should happen. And also this is how the world works, right? Pretty much everything we do, we need to do it as a team. Now here's the thing about teamwork in the classroom. Students hate it. But why do they hate it? Well, these are the things that I can identify. They don't know their teammates or they do know their teammates, but they don't like them. They're also concerned about an even workload, right? I'm going to be working all night while this guy is like doing something else that is not teamwork and things like that. They're also concerned about their grades. They're concerned because A lot of it is out of their control. It doesn't matter how hard I work, if my teammates are not doing enough work, it's going to impact my own grade. And so, yeah, all of these things are legitimate concerns. So what can we do as professors? These are the things that I do. I explain to my students why teamwork is so important. I tell them about my own life experiences. I am positive, but realistic. When I talk about teamwork, I acknowledge that it's challenging. And then once I have created Teams, it's important to assign class time for team building exercises. Now, if this team is going to work together for 10 minutes every week, then maybe you just need a short icebreaker. right so that they know each other and they can start working together. If you are going to have this team work together for the entire semester, it doesn't hurt to use one of your two hour lectures for stronger, longer, more comprehensive team building exercise. And the first time you give your students a task as a team, make it a low-stake task, right? Something that doesn't really impact their grade or if it does, it's tiny, it's minimal. And ideally, the first time they work together as a team, they do this in person. Working together in person always creates a stronger connection than if you do this virtually. Now, this is the best thing that I have learned about teamwork. I had this class and my students were working in teams. And after a few weeks, I saw that this team was working really well together. And so I approached them and say, why do you get along so well as a team? And their answer was we had dinner together. And so this is my advice to every team. Go and grab a coffee, go and get lunch together, something like that is going to help you connect. as a team you're going to see everybody as a person and you're going to know each other and yeah it's going to be better trust me. Now when I create teams if it's a short collaboration and by this I mean they're going to be working together about 10 minutes every every class Then you can randomly assign them, and especially if it's a large class, it's going to be a good strategy. Sometimes, especially after they know each other for a month or so, you can also let them choose their own teammates and just pick your team. If it's a long collaboration, sometimes self-selection works. I have a final project and I tell them you get to pick whoever you can work with anybody that you want. That works. But sometimes it's important that you choose a team based on the skills that the team has or based on their interest. You need to determine when is a good idea for self-selection or when is a good idea to think of. interest or skills when created a team depends on the goals of that exercise of that project, things like that. Now the size of the team, again, this is not what you should do. This is what I do. For sure collaborations, usually I create four member teams. And this is also because of the structure of the classrooms where I work. There's tables with four chairs, right? So make sense that we don't need to disrupt the classroom destroy things, move around furniture too much. But if it is one month or one semester project, I usually create teams of two or three members. I find that it's easy to identify what each member has done. It's easy also for them for communication purposes, and this is what has worked for me. But what are your strategies? I would love to learn. I'm not an expert in team building, right? I'm just sharing what I've done, what has worked for me, and what I have learned from my students. But I would love to hear your experiences, your strategies, your solutions to this teamwork issue. And yeah, please reach out. I would love to hear from you. Thank you so much. I am Lino Cordia. See you next time. \n"
          ]
        }
      ]
    },
    {
      "cell_type": "markdown",
      "source": [
        "## Text - Paragraph Summarized"
      ],
      "metadata": {
        "id": "R-DIsC5NRn3b"
      }
    },
    {
      "cell_type": "markdown",
      "source": [
        "##### Time Taken: ~1min"
      ],
      "metadata": {
        "id": "VZSi_e-h0BLV"
      }
    },
    {
      "cell_type": "code",
      "source": [
        "# Model: Longformer Encoder-Decoder\n",
        "model_name = \"allenai/led-base-16384\"\n",
        "tokenizer = LEDTokenizer.from_pretrained(model_name)\n",
        "model = LEDForConditionalGeneration.from_pretrained(model_name)\n",
        "text = paragraph\n",
        "\n",
        "# Tokenization\n",
        "inputs = tokenizer(text, return_tensors=\"pt\", max_length=4096, truncation=True)\n",
        "\n",
        "# Summary Generation\n",
        "summary_ids = model.generate(inputs[\"input_ids\"], max_length=150, min_length=30, length_penalty=2.0, num_beams=4, early_stopping=True)\n",
        "paragraph_summarized = tokenizer.decode(summary_ids[0], skip_special_tokens=True)"
      ],
      "metadata": {
        "colab": {
          "base_uri": "https://localhost:8080/"
        },
        "id": "9h82EUpYU1uU",
        "outputId": "b6ccc6f7-fbc9-4ec8-d498-cb95cd11637d"
      },
      "execution_count": 102,
      "outputs": [
        {
          "output_type": "stream",
          "name": "stderr",
          "text": [
            "WARNING:py.warnings:/usr/local/lib/python3.10/dist-packages/huggingface_hub/file_download.py:1150: FutureWarning: `resume_download` is deprecated and will be removed in version 1.0.0. Downloads always resume when possible. If you want to force a new download, use `force_download=True`.\n",
            "  warnings.warn(\n",
            "\n"
          ]
        }
      ]
    },
    {
      "cell_type": "markdown",
      "source": [
        "# Text"
      ],
      "metadata": {
        "id": "NqhKyoOO3voB"
      }
    },
    {
      "cell_type": "code",
      "source": [
        "# Simple Metrics\n",
        "original_length = len(paragraph)\n",
        "summary_length = len(paragraph_summarized)\n",
        "\n",
        "print(f\"original length: {original_length}\")\n",
        "print(f\"summary length: {summary_length}\")\n",
        "\n",
        "compression_ratio = (original_length - summary_length) / original_length\n",
        "print(f\"auto-summary compression ratio: {compression_ratio:.2f}\")"
      ],
      "metadata": {
        "colab": {
          "base_uri": "https://localhost:8080/"
        },
        "id": "83D8Px3ZZ25D",
        "outputId": "c3ed8f81-748e-4883-b58e-dcffaf84694d"
      },
      "execution_count": null,
      "outputs": [
        {
          "output_type": "stream",
          "name": "stdout",
          "text": [
            "original length: 5209\n",
            "summary length: 708\n",
            "auto-summary compression ratio: 0.86\n"
          ]
        }
      ]
    },
    {
      "cell_type": "markdown",
      "source": [
        "## Metric 1: Sentence- Summarized Paragraph Relevancy (Cosine Similarity)"
      ],
      "metadata": {
        "id": "_8gMAZOaQKNJ"
      }
    },
    {
      "cell_type": "markdown",
      "source": [
        "##### Time Taken: ~2min"
      ],
      "metadata": {
        "id": "FBhdvFmpM5wG"
      }
    },
    {
      "cell_type": "code",
      "source": [
        "%%capture\n",
        "# config\n",
        "attention_window = 256\n",
        "config = LongformerConfig.from_pretrained('allenai/longformer-base-4096', attention_window=attention_window)\n",
        "\n",
        "# model: Longformer\n",
        "model_lf = LongformerModel.from_pretrained('allenai/longformer-base-4096', config=config)\n",
        "tokenizer_lf = LongformerTokenizer.from_pretrained('allenai/longformer-base-4096', model_max_length=attention_window)"
      ],
      "metadata": {
        "id": "kGDOM_LzxmeM"
      },
      "execution_count": 103,
      "outputs": []
    },
    {
      "cell_type": "code",
      "source": [
        "# 2: Tokenization\n",
        "paragraph_tokens = tokenizer_lf(paragraph_summarized, return_tensors='pt')\n",
        "# sentence_tokens = [tokenizer_lf(sentence, return_tensors='pt') for sentence in sentences]\n",
        "\n",
        "sentence_tokens = tokenizer_lf(sentences, padding=True, truncation=True, return_tensors='pt')"
      ],
      "metadata": {
        "id": "c_FszsOCzf02"
      },
      "execution_count": 104,
      "outputs": []
    },
    {
      "cell_type": "code",
      "source": [
        "# 3: Embedding\n",
        "with torch.no_grad():  # Disable gradient computation for efficiency\n",
        "    paragraph_embedding = model_lf(**paragraph_tokens).last_hidden_state[:, 0, :]  # Get the [CLS] token embedding\n",
        "\n",
        "    # Process batched sentence tokens\n",
        "    sentence_embeddings = model_lf(**sentence_tokens).last_hidden_state[:, 0, :]"
      ],
      "metadata": {
        "id": "7RBG1chM0B8x"
      },
      "execution_count": 105,
      "outputs": []
    },
    {
      "cell_type": "markdown",
      "source": [
        "Embedding Explanation  \n",
        "The [CLS] (classification) token is often used in transformer models to represent the overall meaning or summary of the input sequence. By extracting its embedding, you're essentially obtaining a representation that captures the main point or essence of the paragraph."
      ],
      "metadata": {
        "id": "bBHu-QLj6kq9"
      }
    },
    {
      "cell_type": "code",
      "source": [
        "# 4: Relevance scores\n",
        "relevance_scores = [torch.cosine_similarity(paragraph_embedding, sentence_embedding).item() for sentence_embedding in sentence_embeddings]\n",
        "\n",
        "# Normalization: min-max normalization\n",
        "min_score = min(relevance_scores)\n",
        "max_score = max(relevance_scores)\n",
        "normalized_scores = [(score - min_score) / (max_score - min_score) for score in relevance_scores]\n",
        "\n",
        "# round\n",
        "normalized_scores = [np.format_float_positional(score, precision=2, unique=False, fractional=False, trim='k') for score in normalized_scores]"
      ],
      "metadata": {
        "id": "9BwrHjKc4Tge"
      },
      "execution_count": 106,
      "outputs": []
    },
    {
      "cell_type": "code",
      "source": [
        "# 5: Display Results\n",
        "df_sentences.insert(0, \"metric_1_score\", normalized_scores)\n",
        "\n",
        "display(df_sentences)"
      ],
      "metadata": {
        "id": "CNLoAh9FWssQ",
        "colab": {
          "base_uri": "https://localhost:8080/",
          "height": 424
        },
        "outputId": "f9ceb9ba-7994-4e01-8e46-df466927d23a"
      },
      "execution_count": 107,
      "outputs": [
        {
          "output_type": "display_data",
          "data": {
            "text/plain": [
              "   metric_1_score  base_idx    start_time      end_time  \\\n",
              "0             1.0         0  00:00:01.274  00:00:08.685   \n",
              "1            0.45         1  00:00:11.057  00:00:13.319   \n",
              "2            0.57         2  00:00:13.359  00:00:17.480   \n",
              "3            0.47         3  00:00:17.699  00:00:20.059   \n",
              "4            0.53         4  00:00:20.620  00:00:23.861   \n",
              "..            ...       ...           ...           ...   \n",
              "69           0.39        69  00:05:46.624  00:05:48.245   \n",
              "70           0.33        70  00:05:48.384  00:05:49.406   \n",
              "71           0.51        71  00:05:49.526  00:05:50.266   \n",
              "72           0.25        72  00:05:50.547  00:05:51.487   \n",
              "73           0.37        73  00:05:51.706  00:05:52.307   \n",
              "\n",
              "                                             sentence  \n",
              "0    Hello, this is Lino Cordia and today I want t...  \n",
              "1    So why is teamwork in the classroom so import...  \n",
              "2   Well, for our students, it allows them to deve...  \n",
              "3   Communication skills, leadership skills, et ce...  \n",
              "4   Also, when you're working with a team, you get...  \n",
              "..                                                ...  \n",
              "69                        And yeah, please reach out.  \n",
              "70                     I would love to hear from you.  \n",
              "71                                 Thank you so much.  \n",
              "72                                  I am Lino Cordia.  \n",
              "73                                 See you next time.  \n",
              "\n",
              "[74 rows x 5 columns]"
            ],
            "text/html": [
              "\n",
              "  <div id=\"df-b847f61f-8008-46f2-8216-3143481f965e\" class=\"colab-df-container\">\n",
              "    <div>\n",
              "<style scoped>\n",
              "    .dataframe tbody tr th:only-of-type {\n",
              "        vertical-align: middle;\n",
              "    }\n",
              "\n",
              "    .dataframe tbody tr th {\n",
              "        vertical-align: top;\n",
              "    }\n",
              "\n",
              "    .dataframe thead th {\n",
              "        text-align: right;\n",
              "    }\n",
              "</style>\n",
              "<table border=\"1\" class=\"dataframe\">\n",
              "  <thead>\n",
              "    <tr style=\"text-align: right;\">\n",
              "      <th></th>\n",
              "      <th>metric_1_score</th>\n",
              "      <th>base_idx</th>\n",
              "      <th>start_time</th>\n",
              "      <th>end_time</th>\n",
              "      <th>sentence</th>\n",
              "    </tr>\n",
              "  </thead>\n",
              "  <tbody>\n",
              "    <tr>\n",
              "      <th>0</th>\n",
              "      <td>1.0</td>\n",
              "      <td>0</td>\n",
              "      <td>00:00:01.274</td>\n",
              "      <td>00:00:08.685</td>\n",
              "      <td>Hello, this is Lino Cordia and today I want t...</td>\n",
              "    </tr>\n",
              "    <tr>\n",
              "      <th>1</th>\n",
              "      <td>0.45</td>\n",
              "      <td>1</td>\n",
              "      <td>00:00:11.057</td>\n",
              "      <td>00:00:13.319</td>\n",
              "      <td>So why is teamwork in the classroom so import...</td>\n",
              "    </tr>\n",
              "    <tr>\n",
              "      <th>2</th>\n",
              "      <td>0.57</td>\n",
              "      <td>2</td>\n",
              "      <td>00:00:13.359</td>\n",
              "      <td>00:00:17.480</td>\n",
              "      <td>Well, for our students, it allows them to deve...</td>\n",
              "    </tr>\n",
              "    <tr>\n",
              "      <th>3</th>\n",
              "      <td>0.47</td>\n",
              "      <td>3</td>\n",
              "      <td>00:00:17.699</td>\n",
              "      <td>00:00:20.059</td>\n",
              "      <td>Communication skills, leadership skills, et ce...</td>\n",
              "    </tr>\n",
              "    <tr>\n",
              "      <th>4</th>\n",
              "      <td>0.53</td>\n",
              "      <td>4</td>\n",
              "      <td>00:00:20.620</td>\n",
              "      <td>00:00:23.861</td>\n",
              "      <td>Also, when you're working with a team, you get...</td>\n",
              "    </tr>\n",
              "    <tr>\n",
              "      <th>...</th>\n",
              "      <td>...</td>\n",
              "      <td>...</td>\n",
              "      <td>...</td>\n",
              "      <td>...</td>\n",
              "      <td>...</td>\n",
              "    </tr>\n",
              "    <tr>\n",
              "      <th>69</th>\n",
              "      <td>0.39</td>\n",
              "      <td>69</td>\n",
              "      <td>00:05:46.624</td>\n",
              "      <td>00:05:48.245</td>\n",
              "      <td>And yeah, please reach out.</td>\n",
              "    </tr>\n",
              "    <tr>\n",
              "      <th>70</th>\n",
              "      <td>0.33</td>\n",
              "      <td>70</td>\n",
              "      <td>00:05:48.384</td>\n",
              "      <td>00:05:49.406</td>\n",
              "      <td>I would love to hear from you.</td>\n",
              "    </tr>\n",
              "    <tr>\n",
              "      <th>71</th>\n",
              "      <td>0.51</td>\n",
              "      <td>71</td>\n",
              "      <td>00:05:49.526</td>\n",
              "      <td>00:05:50.266</td>\n",
              "      <td>Thank you so much.</td>\n",
              "    </tr>\n",
              "    <tr>\n",
              "      <th>72</th>\n",
              "      <td>0.25</td>\n",
              "      <td>72</td>\n",
              "      <td>00:05:50.547</td>\n",
              "      <td>00:05:51.487</td>\n",
              "      <td>I am Lino Cordia.</td>\n",
              "    </tr>\n",
              "    <tr>\n",
              "      <th>73</th>\n",
              "      <td>0.37</td>\n",
              "      <td>73</td>\n",
              "      <td>00:05:51.706</td>\n",
              "      <td>00:05:52.307</td>\n",
              "      <td>See you next time.</td>\n",
              "    </tr>\n",
              "  </tbody>\n",
              "</table>\n",
              "<p>74 rows × 5 columns</p>\n",
              "</div>\n",
              "    <div class=\"colab-df-buttons\">\n",
              "\n",
              "  <div class=\"colab-df-container\">\n",
              "    <button class=\"colab-df-convert\" onclick=\"convertToInteractive('df-b847f61f-8008-46f2-8216-3143481f965e')\"\n",
              "            title=\"Convert this dataframe to an interactive table.\"\n",
              "            style=\"display:none;\">\n",
              "\n",
              "  <svg xmlns=\"http://www.w3.org/2000/svg\" height=\"24px\" viewBox=\"0 -960 960 960\">\n",
              "    <path d=\"M120-120v-720h720v720H120Zm60-500h600v-160H180v160Zm220 220h160v-160H400v160Zm0 220h160v-160H400v160ZM180-400h160v-160H180v160Zm440 0h160v-160H620v160ZM180-180h160v-160H180v160Zm440 0h160v-160H620v160Z\"/>\n",
              "  </svg>\n",
              "    </button>\n",
              "\n",
              "  <style>\n",
              "    .colab-df-container {\n",
              "      display:flex;\n",
              "      gap: 12px;\n",
              "    }\n",
              "\n",
              "    .colab-df-convert {\n",
              "      background-color: #E8F0FE;\n",
              "      border: none;\n",
              "      border-radius: 50%;\n",
              "      cursor: pointer;\n",
              "      display: none;\n",
              "      fill: #1967D2;\n",
              "      height: 32px;\n",
              "      padding: 0 0 0 0;\n",
              "      width: 32px;\n",
              "    }\n",
              "\n",
              "    .colab-df-convert:hover {\n",
              "      background-color: #E2EBFA;\n",
              "      box-shadow: 0px 1px 2px rgba(60, 64, 67, 0.3), 0px 1px 3px 1px rgba(60, 64, 67, 0.15);\n",
              "      fill: #174EA6;\n",
              "    }\n",
              "\n",
              "    .colab-df-buttons div {\n",
              "      margin-bottom: 4px;\n",
              "    }\n",
              "\n",
              "    [theme=dark] .colab-df-convert {\n",
              "      background-color: #3B4455;\n",
              "      fill: #D2E3FC;\n",
              "    }\n",
              "\n",
              "    [theme=dark] .colab-df-convert:hover {\n",
              "      background-color: #434B5C;\n",
              "      box-shadow: 0px 1px 3px 1px rgba(0, 0, 0, 0.15);\n",
              "      filter: drop-shadow(0px 1px 2px rgba(0, 0, 0, 0.3));\n",
              "      fill: #FFFFFF;\n",
              "    }\n",
              "  </style>\n",
              "\n",
              "    <script>\n",
              "      const buttonEl =\n",
              "        document.querySelector('#df-b847f61f-8008-46f2-8216-3143481f965e button.colab-df-convert');\n",
              "      buttonEl.style.display =\n",
              "        google.colab.kernel.accessAllowed ? 'block' : 'none';\n",
              "\n",
              "      async function convertToInteractive(key) {\n",
              "        const element = document.querySelector('#df-b847f61f-8008-46f2-8216-3143481f965e');\n",
              "        const dataTable =\n",
              "          await google.colab.kernel.invokeFunction('convertToInteractive',\n",
              "                                                    [key], {});\n",
              "        if (!dataTable) return;\n",
              "\n",
              "        const docLinkHtml = 'Like what you see? Visit the ' +\n",
              "          '<a target=\"_blank\" href=https://colab.research.google.com/notebooks/data_table.ipynb>data table notebook</a>'\n",
              "          + ' to learn more about interactive tables.';\n",
              "        element.innerHTML = '';\n",
              "        dataTable['output_type'] = 'display_data';\n",
              "        await google.colab.output.renderOutput(dataTable, element);\n",
              "        const docLink = document.createElement('div');\n",
              "        docLink.innerHTML = docLinkHtml;\n",
              "        element.appendChild(docLink);\n",
              "      }\n",
              "    </script>\n",
              "  </div>\n",
              "\n",
              "\n",
              "<div id=\"df-9010b90f-8b70-4b44-947a-86a1c447c485\">\n",
              "  <button class=\"colab-df-quickchart\" onclick=\"quickchart('df-9010b90f-8b70-4b44-947a-86a1c447c485')\"\n",
              "            title=\"Suggest charts\"\n",
              "            style=\"display:none;\">\n",
              "\n",
              "<svg xmlns=\"http://www.w3.org/2000/svg\" height=\"24px\"viewBox=\"0 0 24 24\"\n",
              "     width=\"24px\">\n",
              "    <g>\n",
              "        <path d=\"M19 3H5c-1.1 0-2 .9-2 2v14c0 1.1.9 2 2 2h14c1.1 0 2-.9 2-2V5c0-1.1-.9-2-2-2zM9 17H7v-7h2v7zm4 0h-2V7h2v10zm4 0h-2v-4h2v4z\"/>\n",
              "    </g>\n",
              "</svg>\n",
              "  </button>\n",
              "\n",
              "<style>\n",
              "  .colab-df-quickchart {\n",
              "      --bg-color: #E8F0FE;\n",
              "      --fill-color: #1967D2;\n",
              "      --hover-bg-color: #E2EBFA;\n",
              "      --hover-fill-color: #174EA6;\n",
              "      --disabled-fill-color: #AAA;\n",
              "      --disabled-bg-color: #DDD;\n",
              "  }\n",
              "\n",
              "  [theme=dark] .colab-df-quickchart {\n",
              "      --bg-color: #3B4455;\n",
              "      --fill-color: #D2E3FC;\n",
              "      --hover-bg-color: #434B5C;\n",
              "      --hover-fill-color: #FFFFFF;\n",
              "      --disabled-bg-color: #3B4455;\n",
              "      --disabled-fill-color: #666;\n",
              "  }\n",
              "\n",
              "  .colab-df-quickchart {\n",
              "    background-color: var(--bg-color);\n",
              "    border: none;\n",
              "    border-radius: 50%;\n",
              "    cursor: pointer;\n",
              "    display: none;\n",
              "    fill: var(--fill-color);\n",
              "    height: 32px;\n",
              "    padding: 0;\n",
              "    width: 32px;\n",
              "  }\n",
              "\n",
              "  .colab-df-quickchart:hover {\n",
              "    background-color: var(--hover-bg-color);\n",
              "    box-shadow: 0 1px 2px rgba(60, 64, 67, 0.3), 0 1px 3px 1px rgba(60, 64, 67, 0.15);\n",
              "    fill: var(--button-hover-fill-color);\n",
              "  }\n",
              "\n",
              "  .colab-df-quickchart-complete:disabled,\n",
              "  .colab-df-quickchart-complete:disabled:hover {\n",
              "    background-color: var(--disabled-bg-color);\n",
              "    fill: var(--disabled-fill-color);\n",
              "    box-shadow: none;\n",
              "  }\n",
              "\n",
              "  .colab-df-spinner {\n",
              "    border: 2px solid var(--fill-color);\n",
              "    border-color: transparent;\n",
              "    border-bottom-color: var(--fill-color);\n",
              "    animation:\n",
              "      spin 1s steps(1) infinite;\n",
              "  }\n",
              "\n",
              "  @keyframes spin {\n",
              "    0% {\n",
              "      border-color: transparent;\n",
              "      border-bottom-color: var(--fill-color);\n",
              "      border-left-color: var(--fill-color);\n",
              "    }\n",
              "    20% {\n",
              "      border-color: transparent;\n",
              "      border-left-color: var(--fill-color);\n",
              "      border-top-color: var(--fill-color);\n",
              "    }\n",
              "    30% {\n",
              "      border-color: transparent;\n",
              "      border-left-color: var(--fill-color);\n",
              "      border-top-color: var(--fill-color);\n",
              "      border-right-color: var(--fill-color);\n",
              "    }\n",
              "    40% {\n",
              "      border-color: transparent;\n",
              "      border-right-color: var(--fill-color);\n",
              "      border-top-color: var(--fill-color);\n",
              "    }\n",
              "    60% {\n",
              "      border-color: transparent;\n",
              "      border-right-color: var(--fill-color);\n",
              "    }\n",
              "    80% {\n",
              "      border-color: transparent;\n",
              "      border-right-color: var(--fill-color);\n",
              "      border-bottom-color: var(--fill-color);\n",
              "    }\n",
              "    90% {\n",
              "      border-color: transparent;\n",
              "      border-bottom-color: var(--fill-color);\n",
              "    }\n",
              "  }\n",
              "</style>\n",
              "\n",
              "  <script>\n",
              "    async function quickchart(key) {\n",
              "      const quickchartButtonEl =\n",
              "        document.querySelector('#' + key + ' button');\n",
              "      quickchartButtonEl.disabled = true;  // To prevent multiple clicks.\n",
              "      quickchartButtonEl.classList.add('colab-df-spinner');\n",
              "      try {\n",
              "        const charts = await google.colab.kernel.invokeFunction(\n",
              "            'suggestCharts', [key], {});\n",
              "      } catch (error) {\n",
              "        console.error('Error during call to suggestCharts:', error);\n",
              "      }\n",
              "      quickchartButtonEl.classList.remove('colab-df-spinner');\n",
              "      quickchartButtonEl.classList.add('colab-df-quickchart-complete');\n",
              "    }\n",
              "    (() => {\n",
              "      let quickchartButtonEl =\n",
              "        document.querySelector('#df-9010b90f-8b70-4b44-947a-86a1c447c485 button');\n",
              "      quickchartButtonEl.style.display =\n",
              "        google.colab.kernel.accessAllowed ? 'block' : 'none';\n",
              "    })();\n",
              "  </script>\n",
              "</div>\n",
              "\n",
              "  <div id=\"id_70eb10c5-9b39-4420-ad28-504442a6f325\">\n",
              "    <style>\n",
              "      .colab-df-generate {\n",
              "        background-color: #E8F0FE;\n",
              "        border: none;\n",
              "        border-radius: 50%;\n",
              "        cursor: pointer;\n",
              "        display: none;\n",
              "        fill: #1967D2;\n",
              "        height: 32px;\n",
              "        padding: 0 0 0 0;\n",
              "        width: 32px;\n",
              "      }\n",
              "\n",
              "      .colab-df-generate:hover {\n",
              "        background-color: #E2EBFA;\n",
              "        box-shadow: 0px 1px 2px rgba(60, 64, 67, 0.3), 0px 1px 3px 1px rgba(60, 64, 67, 0.15);\n",
              "        fill: #174EA6;\n",
              "      }\n",
              "\n",
              "      [theme=dark] .colab-df-generate {\n",
              "        background-color: #3B4455;\n",
              "        fill: #D2E3FC;\n",
              "      }\n",
              "\n",
              "      [theme=dark] .colab-df-generate:hover {\n",
              "        background-color: #434B5C;\n",
              "        box-shadow: 0px 1px 3px 1px rgba(0, 0, 0, 0.15);\n",
              "        filter: drop-shadow(0px 1px 2px rgba(0, 0, 0, 0.3));\n",
              "        fill: #FFFFFF;\n",
              "      }\n",
              "    </style>\n",
              "    <button class=\"colab-df-generate\" onclick=\"generateWithVariable('df_sentences')\"\n",
              "            title=\"Generate code using this dataframe.\"\n",
              "            style=\"display:none;\">\n",
              "\n",
              "  <svg xmlns=\"http://www.w3.org/2000/svg\" height=\"24px\"viewBox=\"0 0 24 24\"\n",
              "       width=\"24px\">\n",
              "    <path d=\"M7,19H8.4L18.45,9,17,7.55,7,17.6ZM5,21V16.75L18.45,3.32a2,2,0,0,1,2.83,0l1.4,1.43a1.91,1.91,0,0,1,.58,1.4,1.91,1.91,0,0,1-.58,1.4L9.25,21ZM18.45,9,17,7.55Zm-12,3A5.31,5.31,0,0,0,4.9,8.1,5.31,5.31,0,0,0,1,6.5,5.31,5.31,0,0,0,4.9,4.9,5.31,5.31,0,0,0,6.5,1,5.31,5.31,0,0,0,8.1,4.9,5.31,5.31,0,0,0,12,6.5,5.46,5.46,0,0,0,6.5,12Z\"/>\n",
              "  </svg>\n",
              "    </button>\n",
              "    <script>\n",
              "      (() => {\n",
              "      const buttonEl =\n",
              "        document.querySelector('#id_70eb10c5-9b39-4420-ad28-504442a6f325 button.colab-df-generate');\n",
              "      buttonEl.style.display =\n",
              "        google.colab.kernel.accessAllowed ? 'block' : 'none';\n",
              "\n",
              "      buttonEl.onclick = () => {\n",
              "        google.colab.notebook.generateWithVariable('df_sentences');\n",
              "      }\n",
              "      })();\n",
              "    </script>\n",
              "  </div>\n",
              "\n",
              "    </div>\n",
              "  </div>\n"
            ],
            "application/vnd.google.colaboratory.intrinsic+json": {
              "type": "dataframe",
              "variable_name": "df_sentences",
              "summary": "{\n  \"name\": \"df_sentences\",\n  \"rows\": 74,\n  \"fields\": [\n    {\n      \"column\": \"metric_1_score\",\n      \"properties\": {\n        \"dtype\": \"string\",\n        \"num_unique_values\": 46,\n        \"samples\": [\n          \"0.27\",\n          \"0.30\",\n          \"0.60\"\n        ],\n        \"semantic_type\": \"\",\n        \"description\": \"\"\n      }\n    },\n    {\n      \"column\": \"base_idx\",\n      \"properties\": {\n        \"dtype\": \"number\",\n        \"std\": 21,\n        \"min\": 0,\n        \"max\": 73,\n        \"num_unique_values\": 74,\n        \"samples\": [\n          4,\n          63,\n          18\n        ],\n        \"semantic_type\": \"\",\n        \"description\": \"\"\n      }\n    },\n    {\n      \"column\": \"start_time\",\n      \"properties\": {\n        \"dtype\": \"object\",\n        \"num_unique_values\": 74,\n        \"samples\": [\n          \"00:00:20.620\",\n          \"00:05:20.497\",\n          \"00:01:17.152\"\n        ],\n        \"semantic_type\": \"\",\n        \"description\": \"\"\n      }\n    },\n    {\n      \"column\": \"end_time\",\n      \"properties\": {\n        \"dtype\": \"object\",\n        \"num_unique_values\": 74,\n        \"samples\": [\n          \"00:00:23.861\",\n          \"00:05:26.403\",\n          \"00:01:24.495\"\n        ],\n        \"semantic_type\": \"\",\n        \"description\": \"\"\n      }\n    },\n    {\n      \"column\": \"sentence\",\n      \"properties\": {\n        \"dtype\": \"string\",\n        \"num_unique_values\": 74,\n        \"samples\": [\n          \"Also, when you're working with a team, you get different perspectives.\",\n          \"It's easy also for them for communication purposes, and this is what has worked for me.\",\n          \"I'm going to be working all night while this guy is like doing something else that is not teamwork and things like that.\"\n        ],\n        \"semantic_type\": \"\",\n        \"description\": \"\"\n      }\n    }\n  ]\n}"
            }
          },
          "metadata": {}
        }
      ]
    },
    {
      "cell_type": "markdown",
      "source": [
        "## Metric 2: Intra-sentence relevancy\n",
        "Score by if current sentence is needded by adjacent sentences."
      ],
      "metadata": {
        "id": "mtycqPqJfA_u"
      }
    },
    {
      "cell_type": "code",
      "source": [
        "from transformers import BertForSequenceClassification, BertTokenizer\n",
        "\n",
        "# Load pre-trained model and tokenizer\n",
        "model = BertForSequenceClassification.from_pretrained('bert-base-uncased', num_labels=2)\n",
        "tokenizer = BertTokenizer.from_pretrained('bert-base-uncased')\n",
        "\n",
        "# Store predictions for each sentence\n",
        "predictions = []\n",
        "\n",
        "# Iterate through sentence pairs\n",
        "for i in range(len(sentences) - 1):\n",
        "    sentence1 = sentences[i]\n",
        "    sentence2 = sentences[i + 1]\n",
        "\n",
        "    # Tokenize and prepare input\n",
        "    inputs = tokenizer(sentence1, sentence2, return_tensors='pt', truncation=True, padding=True, add_special_tokens=True)\n",
        "\n",
        "    # Get model prediction\n",
        "    outputs = model(**inputs)\n",
        "    prediction = torch.argmax(outputs.logits).item()\n",
        "\n",
        "    # Store prediction\n",
        "    predictions.append(prediction)\n",
        "\n",
        "# Handle last sentence (no next sentence)\n",
        "predictions.append(0)  # Assume last sentence doesn't need a next sentence"
      ],
      "metadata": {
        "id": "OGX8E0UOaTjo"
      },
      "execution_count": null,
      "outputs": []
    },
    {
      "cell_type": "code",
      "source": [
        "# Add predictions to DataFrame\n",
        "df_sentences = df_sentences.assign(**{\"Previous Sentence Needed\": predictions})\n",
        "\n",
        "display(df_sentences)"
      ],
      "metadata": {
        "id": "XE9fi5WTbSnX"
      },
      "execution_count": null,
      "outputs": []
    },
    {
      "cell_type": "markdown",
      "source": [
        "## Metric 3: Intelligent Sentence-Paragraph Relevancy"
      ],
      "metadata": {
        "id": "KDpPsygPOoZx"
      }
    },
    {
      "cell_type": "markdown",
      "source": [
        "##### Time Taken: 13min - 26min"
      ],
      "metadata": {
        "id": "ej1h8aIMQOfG"
      }
    },
    {
      "cell_type": "code",
      "source": [
        "tokenizer = LongformerTokenizer.from_pretrained(\"allenai/longformer-base-4096\")\n",
        "model = LongformerForSequenceClassification.from_pretrained(\"allenai/longformer-base-4096\")\n",
        "\n",
        "# Ensure the model is in evaluation mode\n",
        "model.eval()\n",
        "\n",
        "# Example usage\n",
        "body_paragraph = paragraph\n",
        "\n",
        "relevance_scores = []\n",
        "\n",
        "for sentence in sentences:\n",
        "    # Prepare the input for Longformer\n",
        "    inputs = tokenizer(\n",
        "        body_paragraph,\n",
        "        sentence,\n",
        "        return_tensors='pt',\n",
        "        max_length=4096,\n",
        "        truncation=True,\n",
        "        padding='max_length'  # Pad to max length to avoid issues with model input size\n",
        "    )\n",
        "\n",
        "    # Get model predictions\n",
        "    with torch.no_grad():\n",
        "        outputs = model(**inputs)\n",
        "\n",
        "    # Assuming binary classification (relevant/not relevant)\n",
        "    relevance_score = torch.softmax(outputs.logits, dim=1)[0][1].item()  # Probability of being relevant\n",
        "    relevance_scores.append((sentence, relevance_score))\n",
        "\n",
        "# Sort sentences based on relevance scores\n",
        "sorted_sentences = sorted(relevance_scores, key=lambda x: x[1], reverse=True)\n",
        "ranked_sentences = [sentence for sentence, score in sorted_sentences]"
      ],
      "metadata": {
        "id": "hOtvxn7cOsNE"
      },
      "execution_count": null,
      "outputs": []
    },
    {
      "cell_type": "code",
      "source": [
        "relevance_scores[0]"
      ],
      "metadata": {
        "id": "j0z-kFNeX1WH"
      },
      "execution_count": null,
      "outputs": []
    },
    {
      "cell_type": "code",
      "source": [
        "sentence_indices = list(range(len(relevance_scores)))\n",
        "scores = [score for sentence, score in relevance_scores]\n",
        "sentences_text = [sentence for sentence, score in relevance_scores]\n",
        "\n",
        "df_relevance = pd.DataFrame({'Sentence Index': sentence_indices, 'Score': scores, 'Sentence': sentences_text})\n",
        "df_relevance"
      ],
      "metadata": {
        "id": "bkdGS6xYYSEW"
      },
      "execution_count": null,
      "outputs": []
    },
    {
      "cell_type": "markdown",
      "source": [
        "## Metric 4: Keyword extraction and Ranking\n",
        "using TextRank"
      ],
      "metadata": {
        "id": "BZlo75xBc3b1"
      }
    },
    {
      "cell_type": "code",
      "source": [
        "# Load a spaCy model\n",
        "nlp = spacy.load(\"en_core_web_sm\")\n",
        "\n",
        "# Add the pytextrank pipeline component to spaCy\n",
        "nlp.add_pipe(\"textrank\")\n",
        "\n",
        "phrase_data = []\n",
        "\n",
        "# Process the text\n",
        "doc = nlp(paragraph)\n",
        "\n",
        "for phrase in doc._.phrases:\n",
        "  phrase_data.append([phrase.text, phrase.rank, phrase.count])\n",
        "\n",
        "df_phrases = pd.DataFrame(phrase_data, columns=['Phrase', 'Rank', 'Count'])\n",
        "df_phrases.sort_values(by=['Rank'], ascending=False, inplace=True)\n",
        "\n",
        "display(df_phrases)"
      ],
      "metadata": {
        "id": "g6sGPwmqbscu"
      },
      "execution_count": null,
      "outputs": []
    },
    {
      "cell_type": "markdown",
      "source": [
        "# Audio"
      ],
      "metadata": {
        "id": "aJQglUy2Pz3N"
      }
    },
    {
      "cell_type": "markdown",
      "source": [
        "## Metric 5: Silence Detection\n",
        "* From the Paragraph boundaries, get the time in aduio that we care about\n",
        "* For each time in audio we care about, analyze if they are low volume\n",
        "\n",
        "OR\n",
        "* analyze all potential sentence boundaries first\n",
        "* match with end of sentences"
      ],
      "metadata": {
        "id": "LqKPixxmxvqk"
      }
    },
    {
      "cell_type": "code",
      "source": [
        "# 0: Load audio, extract timestamps\n",
        "\n",
        "SAMPLING_RATE = 16000 # 16 kHz\n",
        "\n",
        "model = load_silero_vad()\n",
        "wav = read_audio(audio_output)\n",
        "speech_timestamps = get_speech_timestamps(wav, model)\n",
        "\n",
        "# Check the shape of the wav tensor\n",
        "print(f\"Audio shape: {wav.shape}\")\n",
        "print(f\"Audio length (seconds): {len(wav) / SAMPLING_RATE:.2f}\")"
      ],
      "metadata": {
        "colab": {
          "base_uri": "https://localhost:8080/"
        },
        "id": "bEjw2zzdMxz8",
        "outputId": "2fa55f1e-8f3f-4b50-c300-a2e0c1a2c534"
      },
      "execution_count": 108,
      "outputs": [
        {
          "output_type": "stream",
          "name": "stdout",
          "text": [
            "Audio shape: torch.Size([5657259])\n",
            "Audio length (seconds): 353.58\n"
          ]
        }
      ]
    },
    {
      "cell_type": "code",
      "source": [
        "# Speech Intervals\n",
        "speech_intervals = []\n",
        "for i in range(0, len(speech_timestamps)-1):\n",
        "    speech_intervals.append((speech_timestamps[i]['start'] / SAMPLING_RATE, speech_timestamps[i]['end'] / SAMPLING_RATE))\n",
        "\n",
        "# Silence Intervals\n",
        "silence_intervals = []\n",
        "for i in range(1, len(speech_timestamps)):\n",
        "    silence_start = speech_timestamps[i-1]['end']  # End of previous speech segment\n",
        "    silence_end = speech_timestamps[i]['start']     # Start of current speech segment\n",
        "    silence_intervals.append((silence_start / SAMPLING_RATE, silence_end / SAMPLING_RATE))"
      ],
      "metadata": {
        "id": "aXomQWsy4_0e"
      },
      "execution_count": 109,
      "outputs": []
    },
    {
      "cell_type": "code",
      "source": [
        "print(speech_timestamps[0:3])\n",
        "print(speech_intervals[0:3])\n",
        "print(silence_intervals[0:3])"
      ],
      "metadata": {
        "colab": {
          "base_uri": "https://localhost:8080/"
        },
        "id": "8ela8OxwFsjR",
        "outputId": "01fd75d1-e9de-44af-96ec-49a2592bb98d"
      },
      "execution_count": 110,
      "outputs": [
        {
          "output_type": "stream",
          "name": "stdout",
          "text": [
            "[{'start': 20000, 'end': 113120}, {'start': 116768, 'end': 140256}, {'start': 176672, 'end': 219104}]\n",
            "[(1.25, 7.07), (7.298, 8.766), (11.042, 13.694)]\n",
            "[(7.07, 7.298), (8.766, 11.042), (13.694, 14.05)]\n"
          ]
        }
      ]
    },
    {
      "cell_type": "markdown",
      "source": [
        "# Video"
      ],
      "metadata": {
        "id": "rJ-tgGS8Sr5P"
      }
    },
    {
      "cell_type": "markdown",
      "source": [
        "# Final Score - Metric Weighting"
      ],
      "metadata": {
        "id": "f2_bfRpGDxP8"
      }
    },
    {
      "cell_type": "code",
      "source": [
        "if 'metric_final' in df_sentences.columns:\n",
        "    df_sentences.drop('metric_final', axis=1, inplace=True)\n",
        "\n",
        "df_sentences.insert(0, 'metric_final', 1)\n",
        "\n",
        "# Metric 1 Apply\n",
        "df_sentences['metric_final'] = 1 * df_sentences['metric_final'] * df_sentences['metric_1_score'].astype(float)\n",
        "\n",
        "display(df_sentences)"
      ],
      "metadata": {
        "colab": {
          "base_uri": "https://localhost:8080/",
          "height": 424
        },
        "id": "69OugA4Q7ACk",
        "outputId": "efd2623f-a2e7-4dff-95fd-0afce3980643"
      },
      "execution_count": 111,
      "outputs": [
        {
          "output_type": "display_data",
          "data": {
            "text/plain": [
              "    metric_final metric_1_score  base_idx    start_time      end_time  \\\n",
              "0           1.00            1.0         0  00:00:01.274  00:00:08.685   \n",
              "1           0.45           0.45         1  00:00:11.057  00:00:13.319   \n",
              "2           0.57           0.57         2  00:00:13.359  00:00:17.480   \n",
              "3           0.47           0.47         3  00:00:17.699  00:00:20.059   \n",
              "4           0.53           0.53         4  00:00:20.620  00:00:23.861   \n",
              "..           ...            ...       ...           ...           ...   \n",
              "69          0.39           0.39        69  00:05:46.624  00:05:48.245   \n",
              "70          0.33           0.33        70  00:05:48.384  00:05:49.406   \n",
              "71          0.51           0.51        71  00:05:49.526  00:05:50.266   \n",
              "72          0.25           0.25        72  00:05:50.547  00:05:51.487   \n",
              "73          0.37           0.37        73  00:05:51.706  00:05:52.307   \n",
              "\n",
              "                                             sentence  \n",
              "0    Hello, this is Lino Cordia and today I want t...  \n",
              "1    So why is teamwork in the classroom so import...  \n",
              "2   Well, for our students, it allows them to deve...  \n",
              "3   Communication skills, leadership skills, et ce...  \n",
              "4   Also, when you're working with a team, you get...  \n",
              "..                                                ...  \n",
              "69                        And yeah, please reach out.  \n",
              "70                     I would love to hear from you.  \n",
              "71                                 Thank you so much.  \n",
              "72                                  I am Lino Cordia.  \n",
              "73                                 See you next time.  \n",
              "\n",
              "[74 rows x 6 columns]"
            ],
            "text/html": [
              "\n",
              "  <div id=\"df-d624de28-c6fc-455d-8d8c-a4bb1a3e1e4e\" class=\"colab-df-container\">\n",
              "    <div>\n",
              "<style scoped>\n",
              "    .dataframe tbody tr th:only-of-type {\n",
              "        vertical-align: middle;\n",
              "    }\n",
              "\n",
              "    .dataframe tbody tr th {\n",
              "        vertical-align: top;\n",
              "    }\n",
              "\n",
              "    .dataframe thead th {\n",
              "        text-align: right;\n",
              "    }\n",
              "</style>\n",
              "<table border=\"1\" class=\"dataframe\">\n",
              "  <thead>\n",
              "    <tr style=\"text-align: right;\">\n",
              "      <th></th>\n",
              "      <th>metric_final</th>\n",
              "      <th>metric_1_score</th>\n",
              "      <th>base_idx</th>\n",
              "      <th>start_time</th>\n",
              "      <th>end_time</th>\n",
              "      <th>sentence</th>\n",
              "    </tr>\n",
              "  </thead>\n",
              "  <tbody>\n",
              "    <tr>\n",
              "      <th>0</th>\n",
              "      <td>1.00</td>\n",
              "      <td>1.0</td>\n",
              "      <td>0</td>\n",
              "      <td>00:00:01.274</td>\n",
              "      <td>00:00:08.685</td>\n",
              "      <td>Hello, this is Lino Cordia and today I want t...</td>\n",
              "    </tr>\n",
              "    <tr>\n",
              "      <th>1</th>\n",
              "      <td>0.45</td>\n",
              "      <td>0.45</td>\n",
              "      <td>1</td>\n",
              "      <td>00:00:11.057</td>\n",
              "      <td>00:00:13.319</td>\n",
              "      <td>So why is teamwork in the classroom so import...</td>\n",
              "    </tr>\n",
              "    <tr>\n",
              "      <th>2</th>\n",
              "      <td>0.57</td>\n",
              "      <td>0.57</td>\n",
              "      <td>2</td>\n",
              "      <td>00:00:13.359</td>\n",
              "      <td>00:00:17.480</td>\n",
              "      <td>Well, for our students, it allows them to deve...</td>\n",
              "    </tr>\n",
              "    <tr>\n",
              "      <th>3</th>\n",
              "      <td>0.47</td>\n",
              "      <td>0.47</td>\n",
              "      <td>3</td>\n",
              "      <td>00:00:17.699</td>\n",
              "      <td>00:00:20.059</td>\n",
              "      <td>Communication skills, leadership skills, et ce...</td>\n",
              "    </tr>\n",
              "    <tr>\n",
              "      <th>4</th>\n",
              "      <td>0.53</td>\n",
              "      <td>0.53</td>\n",
              "      <td>4</td>\n",
              "      <td>00:00:20.620</td>\n",
              "      <td>00:00:23.861</td>\n",
              "      <td>Also, when you're working with a team, you get...</td>\n",
              "    </tr>\n",
              "    <tr>\n",
              "      <th>...</th>\n",
              "      <td>...</td>\n",
              "      <td>...</td>\n",
              "      <td>...</td>\n",
              "      <td>...</td>\n",
              "      <td>...</td>\n",
              "      <td>...</td>\n",
              "    </tr>\n",
              "    <tr>\n",
              "      <th>69</th>\n",
              "      <td>0.39</td>\n",
              "      <td>0.39</td>\n",
              "      <td>69</td>\n",
              "      <td>00:05:46.624</td>\n",
              "      <td>00:05:48.245</td>\n",
              "      <td>And yeah, please reach out.</td>\n",
              "    </tr>\n",
              "    <tr>\n",
              "      <th>70</th>\n",
              "      <td>0.33</td>\n",
              "      <td>0.33</td>\n",
              "      <td>70</td>\n",
              "      <td>00:05:48.384</td>\n",
              "      <td>00:05:49.406</td>\n",
              "      <td>I would love to hear from you.</td>\n",
              "    </tr>\n",
              "    <tr>\n",
              "      <th>71</th>\n",
              "      <td>0.51</td>\n",
              "      <td>0.51</td>\n",
              "      <td>71</td>\n",
              "      <td>00:05:49.526</td>\n",
              "      <td>00:05:50.266</td>\n",
              "      <td>Thank you so much.</td>\n",
              "    </tr>\n",
              "    <tr>\n",
              "      <th>72</th>\n",
              "      <td>0.25</td>\n",
              "      <td>0.25</td>\n",
              "      <td>72</td>\n",
              "      <td>00:05:50.547</td>\n",
              "      <td>00:05:51.487</td>\n",
              "      <td>I am Lino Cordia.</td>\n",
              "    </tr>\n",
              "    <tr>\n",
              "      <th>73</th>\n",
              "      <td>0.37</td>\n",
              "      <td>0.37</td>\n",
              "      <td>73</td>\n",
              "      <td>00:05:51.706</td>\n",
              "      <td>00:05:52.307</td>\n",
              "      <td>See you next time.</td>\n",
              "    </tr>\n",
              "  </tbody>\n",
              "</table>\n",
              "<p>74 rows × 6 columns</p>\n",
              "</div>\n",
              "    <div class=\"colab-df-buttons\">\n",
              "\n",
              "  <div class=\"colab-df-container\">\n",
              "    <button class=\"colab-df-convert\" onclick=\"convertToInteractive('df-d624de28-c6fc-455d-8d8c-a4bb1a3e1e4e')\"\n",
              "            title=\"Convert this dataframe to an interactive table.\"\n",
              "            style=\"display:none;\">\n",
              "\n",
              "  <svg xmlns=\"http://www.w3.org/2000/svg\" height=\"24px\" viewBox=\"0 -960 960 960\">\n",
              "    <path d=\"M120-120v-720h720v720H120Zm60-500h600v-160H180v160Zm220 220h160v-160H400v160Zm0 220h160v-160H400v160ZM180-400h160v-160H180v160Zm440 0h160v-160H620v160ZM180-180h160v-160H180v160Zm440 0h160v-160H620v160Z\"/>\n",
              "  </svg>\n",
              "    </button>\n",
              "\n",
              "  <style>\n",
              "    .colab-df-container {\n",
              "      display:flex;\n",
              "      gap: 12px;\n",
              "    }\n",
              "\n",
              "    .colab-df-convert {\n",
              "      background-color: #E8F0FE;\n",
              "      border: none;\n",
              "      border-radius: 50%;\n",
              "      cursor: pointer;\n",
              "      display: none;\n",
              "      fill: #1967D2;\n",
              "      height: 32px;\n",
              "      padding: 0 0 0 0;\n",
              "      width: 32px;\n",
              "    }\n",
              "\n",
              "    .colab-df-convert:hover {\n",
              "      background-color: #E2EBFA;\n",
              "      box-shadow: 0px 1px 2px rgba(60, 64, 67, 0.3), 0px 1px 3px 1px rgba(60, 64, 67, 0.15);\n",
              "      fill: #174EA6;\n",
              "    }\n",
              "\n",
              "    .colab-df-buttons div {\n",
              "      margin-bottom: 4px;\n",
              "    }\n",
              "\n",
              "    [theme=dark] .colab-df-convert {\n",
              "      background-color: #3B4455;\n",
              "      fill: #D2E3FC;\n",
              "    }\n",
              "\n",
              "    [theme=dark] .colab-df-convert:hover {\n",
              "      background-color: #434B5C;\n",
              "      box-shadow: 0px 1px 3px 1px rgba(0, 0, 0, 0.15);\n",
              "      filter: drop-shadow(0px 1px 2px rgba(0, 0, 0, 0.3));\n",
              "      fill: #FFFFFF;\n",
              "    }\n",
              "  </style>\n",
              "\n",
              "    <script>\n",
              "      const buttonEl =\n",
              "        document.querySelector('#df-d624de28-c6fc-455d-8d8c-a4bb1a3e1e4e button.colab-df-convert');\n",
              "      buttonEl.style.display =\n",
              "        google.colab.kernel.accessAllowed ? 'block' : 'none';\n",
              "\n",
              "      async function convertToInteractive(key) {\n",
              "        const element = document.querySelector('#df-d624de28-c6fc-455d-8d8c-a4bb1a3e1e4e');\n",
              "        const dataTable =\n",
              "          await google.colab.kernel.invokeFunction('convertToInteractive',\n",
              "                                                    [key], {});\n",
              "        if (!dataTable) return;\n",
              "\n",
              "        const docLinkHtml = 'Like what you see? Visit the ' +\n",
              "          '<a target=\"_blank\" href=https://colab.research.google.com/notebooks/data_table.ipynb>data table notebook</a>'\n",
              "          + ' to learn more about interactive tables.';\n",
              "        element.innerHTML = '';\n",
              "        dataTable['output_type'] = 'display_data';\n",
              "        await google.colab.output.renderOutput(dataTable, element);\n",
              "        const docLink = document.createElement('div');\n",
              "        docLink.innerHTML = docLinkHtml;\n",
              "        element.appendChild(docLink);\n",
              "      }\n",
              "    </script>\n",
              "  </div>\n",
              "\n",
              "\n",
              "<div id=\"df-73b96971-3a5f-4361-a13a-4ee09c341de5\">\n",
              "  <button class=\"colab-df-quickchart\" onclick=\"quickchart('df-73b96971-3a5f-4361-a13a-4ee09c341de5')\"\n",
              "            title=\"Suggest charts\"\n",
              "            style=\"display:none;\">\n",
              "\n",
              "<svg xmlns=\"http://www.w3.org/2000/svg\" height=\"24px\"viewBox=\"0 0 24 24\"\n",
              "     width=\"24px\">\n",
              "    <g>\n",
              "        <path d=\"M19 3H5c-1.1 0-2 .9-2 2v14c0 1.1.9 2 2 2h14c1.1 0 2-.9 2-2V5c0-1.1-.9-2-2-2zM9 17H7v-7h2v7zm4 0h-2V7h2v10zm4 0h-2v-4h2v4z\"/>\n",
              "    </g>\n",
              "</svg>\n",
              "  </button>\n",
              "\n",
              "<style>\n",
              "  .colab-df-quickchart {\n",
              "      --bg-color: #E8F0FE;\n",
              "      --fill-color: #1967D2;\n",
              "      --hover-bg-color: #E2EBFA;\n",
              "      --hover-fill-color: #174EA6;\n",
              "      --disabled-fill-color: #AAA;\n",
              "      --disabled-bg-color: #DDD;\n",
              "  }\n",
              "\n",
              "  [theme=dark] .colab-df-quickchart {\n",
              "      --bg-color: #3B4455;\n",
              "      --fill-color: #D2E3FC;\n",
              "      --hover-bg-color: #434B5C;\n",
              "      --hover-fill-color: #FFFFFF;\n",
              "      --disabled-bg-color: #3B4455;\n",
              "      --disabled-fill-color: #666;\n",
              "  }\n",
              "\n",
              "  .colab-df-quickchart {\n",
              "    background-color: var(--bg-color);\n",
              "    border: none;\n",
              "    border-radius: 50%;\n",
              "    cursor: pointer;\n",
              "    display: none;\n",
              "    fill: var(--fill-color);\n",
              "    height: 32px;\n",
              "    padding: 0;\n",
              "    width: 32px;\n",
              "  }\n",
              "\n",
              "  .colab-df-quickchart:hover {\n",
              "    background-color: var(--hover-bg-color);\n",
              "    box-shadow: 0 1px 2px rgba(60, 64, 67, 0.3), 0 1px 3px 1px rgba(60, 64, 67, 0.15);\n",
              "    fill: var(--button-hover-fill-color);\n",
              "  }\n",
              "\n",
              "  .colab-df-quickchart-complete:disabled,\n",
              "  .colab-df-quickchart-complete:disabled:hover {\n",
              "    background-color: var(--disabled-bg-color);\n",
              "    fill: var(--disabled-fill-color);\n",
              "    box-shadow: none;\n",
              "  }\n",
              "\n",
              "  .colab-df-spinner {\n",
              "    border: 2px solid var(--fill-color);\n",
              "    border-color: transparent;\n",
              "    border-bottom-color: var(--fill-color);\n",
              "    animation:\n",
              "      spin 1s steps(1) infinite;\n",
              "  }\n",
              "\n",
              "  @keyframes spin {\n",
              "    0% {\n",
              "      border-color: transparent;\n",
              "      border-bottom-color: var(--fill-color);\n",
              "      border-left-color: var(--fill-color);\n",
              "    }\n",
              "    20% {\n",
              "      border-color: transparent;\n",
              "      border-left-color: var(--fill-color);\n",
              "      border-top-color: var(--fill-color);\n",
              "    }\n",
              "    30% {\n",
              "      border-color: transparent;\n",
              "      border-left-color: var(--fill-color);\n",
              "      border-top-color: var(--fill-color);\n",
              "      border-right-color: var(--fill-color);\n",
              "    }\n",
              "    40% {\n",
              "      border-color: transparent;\n",
              "      border-right-color: var(--fill-color);\n",
              "      border-top-color: var(--fill-color);\n",
              "    }\n",
              "    60% {\n",
              "      border-color: transparent;\n",
              "      border-right-color: var(--fill-color);\n",
              "    }\n",
              "    80% {\n",
              "      border-color: transparent;\n",
              "      border-right-color: var(--fill-color);\n",
              "      border-bottom-color: var(--fill-color);\n",
              "    }\n",
              "    90% {\n",
              "      border-color: transparent;\n",
              "      border-bottom-color: var(--fill-color);\n",
              "    }\n",
              "  }\n",
              "</style>\n",
              "\n",
              "  <script>\n",
              "    async function quickchart(key) {\n",
              "      const quickchartButtonEl =\n",
              "        document.querySelector('#' + key + ' button');\n",
              "      quickchartButtonEl.disabled = true;  // To prevent multiple clicks.\n",
              "      quickchartButtonEl.classList.add('colab-df-spinner');\n",
              "      try {\n",
              "        const charts = await google.colab.kernel.invokeFunction(\n",
              "            'suggestCharts', [key], {});\n",
              "      } catch (error) {\n",
              "        console.error('Error during call to suggestCharts:', error);\n",
              "      }\n",
              "      quickchartButtonEl.classList.remove('colab-df-spinner');\n",
              "      quickchartButtonEl.classList.add('colab-df-quickchart-complete');\n",
              "    }\n",
              "    (() => {\n",
              "      let quickchartButtonEl =\n",
              "        document.querySelector('#df-73b96971-3a5f-4361-a13a-4ee09c341de5 button');\n",
              "      quickchartButtonEl.style.display =\n",
              "        google.colab.kernel.accessAllowed ? 'block' : 'none';\n",
              "    })();\n",
              "  </script>\n",
              "</div>\n",
              "\n",
              "  <div id=\"id_49f15b22-d3d4-48d7-9798-cb1d455035b2\">\n",
              "    <style>\n",
              "      .colab-df-generate {\n",
              "        background-color: #E8F0FE;\n",
              "        border: none;\n",
              "        border-radius: 50%;\n",
              "        cursor: pointer;\n",
              "        display: none;\n",
              "        fill: #1967D2;\n",
              "        height: 32px;\n",
              "        padding: 0 0 0 0;\n",
              "        width: 32px;\n",
              "      }\n",
              "\n",
              "      .colab-df-generate:hover {\n",
              "        background-color: #E2EBFA;\n",
              "        box-shadow: 0px 1px 2px rgba(60, 64, 67, 0.3), 0px 1px 3px 1px rgba(60, 64, 67, 0.15);\n",
              "        fill: #174EA6;\n",
              "      }\n",
              "\n",
              "      [theme=dark] .colab-df-generate {\n",
              "        background-color: #3B4455;\n",
              "        fill: #D2E3FC;\n",
              "      }\n",
              "\n",
              "      [theme=dark] .colab-df-generate:hover {\n",
              "        background-color: #434B5C;\n",
              "        box-shadow: 0px 1px 3px 1px rgba(0, 0, 0, 0.15);\n",
              "        filter: drop-shadow(0px 1px 2px rgba(0, 0, 0, 0.3));\n",
              "        fill: #FFFFFF;\n",
              "      }\n",
              "    </style>\n",
              "    <button class=\"colab-df-generate\" onclick=\"generateWithVariable('df_sentences')\"\n",
              "            title=\"Generate code using this dataframe.\"\n",
              "            style=\"display:none;\">\n",
              "\n",
              "  <svg xmlns=\"http://www.w3.org/2000/svg\" height=\"24px\"viewBox=\"0 0 24 24\"\n",
              "       width=\"24px\">\n",
              "    <path d=\"M7,19H8.4L18.45,9,17,7.55,7,17.6ZM5,21V16.75L18.45,3.32a2,2,0,0,1,2.83,0l1.4,1.43a1.91,1.91,0,0,1,.58,1.4,1.91,1.91,0,0,1-.58,1.4L9.25,21ZM18.45,9,17,7.55Zm-12,3A5.31,5.31,0,0,0,4.9,8.1,5.31,5.31,0,0,0,1,6.5,5.31,5.31,0,0,0,4.9,4.9,5.31,5.31,0,0,0,6.5,1,5.31,5.31,0,0,0,8.1,4.9,5.31,5.31,0,0,0,12,6.5,5.46,5.46,0,0,0,6.5,12Z\"/>\n",
              "  </svg>\n",
              "    </button>\n",
              "    <script>\n",
              "      (() => {\n",
              "      const buttonEl =\n",
              "        document.querySelector('#id_49f15b22-d3d4-48d7-9798-cb1d455035b2 button.colab-df-generate');\n",
              "      buttonEl.style.display =\n",
              "        google.colab.kernel.accessAllowed ? 'block' : 'none';\n",
              "\n",
              "      buttonEl.onclick = () => {\n",
              "        google.colab.notebook.generateWithVariable('df_sentences');\n",
              "      }\n",
              "      })();\n",
              "    </script>\n",
              "  </div>\n",
              "\n",
              "    </div>\n",
              "  </div>\n"
            ],
            "application/vnd.google.colaboratory.intrinsic+json": {
              "type": "dataframe",
              "variable_name": "df_sentences",
              "summary": "{\n  \"name\": \"df_sentences\",\n  \"rows\": 74,\n  \"fields\": [\n    {\n      \"column\": \"metric_final\",\n      \"properties\": {\n        \"dtype\": \"number\",\n        \"std\": 0.16769329251769105,\n        \"min\": 0.0,\n        \"max\": 1.0,\n        \"num_unique_values\": 44,\n        \"samples\": [\n          0.54,\n          0.43,\n          0.3\n        ],\n        \"semantic_type\": \"\",\n        \"description\": \"\"\n      }\n    },\n    {\n      \"column\": \"metric_1_score\",\n      \"properties\": {\n        \"dtype\": \"string\",\n        \"num_unique_values\": 46,\n        \"samples\": [\n          \"0.27\",\n          \"0.30\",\n          \"0.60\"\n        ],\n        \"semantic_type\": \"\",\n        \"description\": \"\"\n      }\n    },\n    {\n      \"column\": \"base_idx\",\n      \"properties\": {\n        \"dtype\": \"number\",\n        \"std\": 21,\n        \"min\": 0,\n        \"max\": 73,\n        \"num_unique_values\": 74,\n        \"samples\": [\n          4,\n          63,\n          18\n        ],\n        \"semantic_type\": \"\",\n        \"description\": \"\"\n      }\n    },\n    {\n      \"column\": \"start_time\",\n      \"properties\": {\n        \"dtype\": \"object\",\n        \"num_unique_values\": 74,\n        \"samples\": [\n          \"00:00:20.620\",\n          \"00:05:20.497\",\n          \"00:01:17.152\"\n        ],\n        \"semantic_type\": \"\",\n        \"description\": \"\"\n      }\n    },\n    {\n      \"column\": \"end_time\",\n      \"properties\": {\n        \"dtype\": \"object\",\n        \"num_unique_values\": 74,\n        \"samples\": [\n          \"00:00:23.861\",\n          \"00:05:26.403\",\n          \"00:01:24.495\"\n        ],\n        \"semantic_type\": \"\",\n        \"description\": \"\"\n      }\n    },\n    {\n      \"column\": \"sentence\",\n      \"properties\": {\n        \"dtype\": \"string\",\n        \"num_unique_values\": 74,\n        \"samples\": [\n          \"Also, when you're working with a team, you get different perspectives.\",\n          \"It's easy also for them for communication purposes, and this is what has worked for me.\",\n          \"I'm going to be working all night while this guy is like doing something else that is not teamwork and things like that.\"\n        ],\n        \"semantic_type\": \"\",\n        \"description\": \"\"\n      }\n    }\n  ]\n}"
            }
          },
          "metadata": {}
        }
      ]
    },
    {
      "cell_type": "markdown",
      "source": [
        "# PostProcessing"
      ],
      "metadata": {
        "id": "xlckTwsoxVqd"
      }
    },
    {
      "cell_type": "code",
      "source": [
        "# set develop mode to true to export a shortened version of the multimedia\n",
        "dev_mode = True\n",
        "dev_media_output_start_s = 0\n",
        "dev_media_output_end_s = 15"
      ],
      "metadata": {
        "id": "AQwBuxmNF3m0"
      },
      "execution_count": 112,
      "outputs": []
    },
    {
      "cell_type": "code",
      "source": [
        "def ts_to_ms(timestamp):\n",
        "    \"\"\"Converts a timestamp string in HH:MM:SS.mmm format to milliseconds.\n",
        "\n",
        "    Args:\n",
        "        timestamp: The timestamp string in HH:MM:SS.mmm format.\n",
        "\n",
        "    Returns:\n",
        "        The timestamp in milliseconds as an integer.\n",
        "    \"\"\"\n",
        "    hours, minutes, seconds_milliseconds = re.split(r':', timestamp)\n",
        "    seconds, milliseconds = seconds_milliseconds.split('.')\n",
        "\n",
        "    # Convert to milliseconds\n",
        "    total_milliseconds = (int(hours) * 3600 + int(minutes) * 60 + int(seconds)) * 1000 + int(milliseconds)\n",
        "\n",
        "    return total_milliseconds"
      ],
      "metadata": {
        "id": "dY7HnUl8G9hS"
      },
      "execution_count": 113,
      "outputs": []
    },
    {
      "cell_type": "code",
      "source": [
        "def ts_to_s(timestamp):\n",
        "    \"\"\"Converts a timestamp string in HH:MM:SS.mmm format to seconds.\n",
        "\n",
        "    Args:\n",
        "        timestamp: The timestamp string in HH:MM:SS.mmm format.\n",
        "\n",
        "    Returns:\n",
        "        The timestamp in seconds as a float.\n",
        "    \"\"\"\n",
        "    hours, minutes, seconds_milliseconds = re.split(r':', timestamp)\n",
        "    seconds, milliseconds = seconds_milliseconds.split('.')\n",
        "\n",
        "    # Convert to seconds\n",
        "    total_seconds = int(hours) * 3600 + int(minutes) * 60 + int(seconds) + int(milliseconds) / 1000.0\n",
        "\n",
        "    return total_seconds"
      ],
      "metadata": {
        "id": "theEQW5x0yNb"
      },
      "execution_count": 114,
      "outputs": []
    },
    {
      "cell_type": "code",
      "source": [
        "def trim_audio_multiple(audio_path, timestamps):\n",
        "    \"\"\"Trims audio at multiple locations and combines the remaining segments.\n",
        "\n",
        "    Args:\n",
        "        audio: raw audio.\n",
        "        timestamps: A list of tuples, where each tuple contains\n",
        "                    the start and end times (in milliseconds)\n",
        "                    of the segment to remove.\n",
        "\n",
        "    Returns:\n",
        "        An AudioSegment object containing the trimmed audio.\n",
        "    \"\"\"\n",
        "    audio = AudioSegment.from_file(audio_path)\n",
        "    segments = []\n",
        "    last_end = 0\n",
        "\n",
        "    for start_trim, end_trim in timestamps:\n",
        "        segments.append(audio[last_end:start_trim])\n",
        "        last_end = end_trim\n",
        "\n",
        "    segments.append(audio[last_end:])  # Add the remaining part\n",
        "\n",
        "    trimmed_audio = sum(segments)  # Combine all segments\n",
        "    return trimmed_audio"
      ],
      "metadata": {
        "id": "XLXNnjH6I77N"
      },
      "execution_count": 115,
      "outputs": []
    },
    {
      "cell_type": "code",
      "source": [
        "def trim_and_concat_with_segment_list(input_file, output_file, segments_to_remove):\n",
        "    \"\"\"Trims specified segments from a video and concatenates the remaining parts\n",
        "    using ffmpeg and a segment list file.\n",
        "\n",
        "    Args:\n",
        "        input_file: Path to the input video file.\n",
        "        output_file: Path to the output video file.\n",
        "        segments_to_remove: A list of tuples, where each tuple represents a segment to remove\n",
        "                             in the format (start_time, end_time) in seconds.\n",
        "    \"\"\"\n",
        "    # Create a temporary segment list file\n",
        "    segment_list_file = \"segments.txt\"\n",
        "    with open(segment_list_file, \"w\") as f:\n",
        "        # Add the first segment before loop\n",
        "        f.write(f\"file '{input_file}'\\n\")\n",
        "        f.write(f\"inpoint 0.0\\n\")\n",
        "        f.write(f\"outpoint {segments_to_remove[0][0]}\\n\")\n",
        "\n",
        "        # Create entry for the remaining segments\n",
        "        for i in range(len(segments_to_remove) -1 ):\n",
        "            f.write(f\"file '{input_file}'\\n\")\n",
        "            f.write(f\"inpoint {segments_to_remove[i][1]}\\n\")  # Start at the previous segment's end\n",
        "            f.write(f\"outpoint {segments_to_remove[i+1][0]}\\n\")  # End at the next segment's start\n",
        "\n",
        "        # Create entry for the last segment\n",
        "        f.write(f\"file '{input_file}'\\n\")\n",
        "        f.write(f\"inpoint {segments_to_remove[-1][1]}\\n\") # Previous segment end\n",
        "        f.write(f\"outpoint -1\\n\") # continue to end of file\n",
        "\n",
        "    !cat segments.txt\n",
        "\n",
        "    # Execute ffmpeg command using the segment list file\n",
        "    # cmd = f\"ffmpeg -f concat -safe 0 -i {segment_list_file} -c copy -t 30 {output_file}\"\n",
        "    cmd = f\"ffmpeg -f concat -safe 0 -i {segment_list_file} -c copy {output_file}\"\n",
        "    os.system(cmd)\n",
        "\n",
        "    # Remove the temporary segment list file\n",
        "    # os.remove(segment_list_file)"
      ],
      "metadata": {
        "id": "NfISPooMSZts"
      },
      "execution_count": 128,
      "outputs": []
    },
    {
      "cell_type": "code",
      "source": [
        "# timestamps_to_trim = [('00:00:00.00','00:00:01.25'), ('00:00:08.766', '00:00:11.042')]\n",
        "timestamps_to_trim = [('00:00:08.766', '00:00:11.042')]\n",
        "timestamps = list(map(lambda x: (ts_to_s(x[0]), ts_to_s(x[1])), timestamps_to_trim))\n",
        "# timestamps_ms = list(map(lambda x: (x[0] / 1000, x[1] / 1000), timestamps_ms))\n",
        "print(timestamps)"
      ],
      "metadata": {
        "id": "v0Ep0aI4utT6",
        "colab": {
          "base_uri": "https://localhost:8080/"
        },
        "outputId": "bce80b8b-4e7a-4d1d-aaf7-ef02f00d6137"
      },
      "execution_count": 119,
      "outputs": [
        {
          "output_type": "stream",
          "name": "stdout",
          "text": [
            "[(8.766, 11.042)]\n"
          ]
        }
      ]
    },
    {
      "cell_type": "code",
      "source": [
        "print(video_output_skimmed)"
      ],
      "metadata": {
        "colab": {
          "base_uri": "https://localhost:8080/"
        },
        "id": "10w7t9CFCxsZ",
        "outputId": "272e8733-2677-4b01-abc2-725a1c193a8e"
      },
      "execution_count": 120,
      "outputs": [
        {
          "output_type": "stream",
          "name": "stdout",
          "text": [
            "dataset/teamwork in the classroom_skimmed.mov\n"
          ]
        }
      ]
    },
    {
      "cell_type": "code",
      "source": [
        "# Skim Videob\n",
        "trim_and_concat_with_segment_list(video_input, \"skimmed.mov\", timestamps)\n",
        "files.download(\"skimmed.mov\")\n",
        "# print(f\"Skimmed video length: {skimmed_video.duration}s\")\n",
        "\n",
        "# if dev_mode:\n",
        "#   skimmed_video = skimmed_video.subclip(dev_media_output_start_s, dev_media_output_end_s)\n",
        "#   print(f\"Output Video Length (Dev Mode): {skimmed_video.duration}s\")\n",
        "\n",
        "# # Export Video\n",
        "# skimmed_video.write_videofile(\n",
        "#     video_output_skimmed,\n",
        "#     codec=\"copy\",\n",
        "#     preset=\"ultrafast\",\n",
        "#     threads=os.cpu_count()\n",
        "# )"
      ],
      "metadata": {
        "id": "UI8mxQGpSqH1",
        "outputId": "f41ce4cf-68c5-49eb-d8d1-d036e35006a5",
        "colab": {
          "base_uri": "https://localhost:8080/"
        }
      },
      "execution_count": 129,
      "outputs": [
        {
          "output_type": "stream",
          "name": "stdout",
          "text": [
            "file 'dataset/teamwork in the classroom.mov'\n",
            "inpoint 0.0\n",
            "outpoint 8.766\n",
            "file 'dataset/teamwork in the classroom.mov'\n",
            "inpoint 11.042\n",
            "outpoint -1\n"
          ]
        }
      ]
    },
    {
      "cell_type": "code",
      "source": [
        "# # Skim Audio\n",
        "# skimmed_audio = trim_audio_multiple(audio_output, timestamps)\n",
        "\n",
        "# if develop_mode:\n",
        "#   skimmed_audio = skimmed_audio[develop_mode_sample_start_ms:develop_mode_sample_end_ms]\n",
        "\n",
        "# # Export Audio\n",
        "# skimmed_audio.export(audio_output_skimmed, format=\"wav\")"
      ],
      "metadata": {
        "id": "3M-BqJr7uwI8"
      },
      "execution_count": 122,
      "outputs": []
    },
    {
      "cell_type": "code",
      "source": [
        "# Download\n",
        "# files.download(audio_output_skimmed)\n",
        "# files.download(\"skimmed.mov\")"
      ],
      "metadata": {
        "id": "baD3LUsYJkTd",
        "outputId": "59f5b847-35bf-4f18-fe83-baeb0d3c356c",
        "colab": {
          "base_uri": "https://localhost:8080/",
          "height": 17
        }
      },
      "execution_count": 123,
      "outputs": [
        {
          "output_type": "display_data",
          "data": {
            "text/plain": [
              "<IPython.core.display.Javascript object>"
            ],
            "application/javascript": [
              "\n",
              "    async function download(id, filename, size) {\n",
              "      if (!google.colab.kernel.accessAllowed) {\n",
              "        return;\n",
              "      }\n",
              "      const div = document.createElement('div');\n",
              "      const label = document.createElement('label');\n",
              "      label.textContent = `Downloading \"${filename}\": `;\n",
              "      div.appendChild(label);\n",
              "      const progress = document.createElement('progress');\n",
              "      progress.max = size;\n",
              "      div.appendChild(progress);\n",
              "      document.body.appendChild(div);\n",
              "\n",
              "      const buffers = [];\n",
              "      let downloaded = 0;\n",
              "\n",
              "      const channel = await google.colab.kernel.comms.open(id);\n",
              "      // Send a message to notify the kernel that we're ready.\n",
              "      channel.send({})\n",
              "\n",
              "      for await (const message of channel.messages) {\n",
              "        // Send a message to notify the kernel that we're ready.\n",
              "        channel.send({})\n",
              "        if (message.buffers) {\n",
              "          for (const buffer of message.buffers) {\n",
              "            buffers.push(buffer);\n",
              "            downloaded += buffer.byteLength;\n",
              "            progress.value = downloaded;\n",
              "          }\n",
              "        }\n",
              "      }\n",
              "      const blob = new Blob(buffers, {type: 'application/binary'});\n",
              "      const a = document.createElement('a');\n",
              "      a.href = window.URL.createObjectURL(blob);\n",
              "      a.download = filename;\n",
              "      div.appendChild(a);\n",
              "      a.click();\n",
              "      div.remove();\n",
              "    }\n",
              "  "
            ]
          },
          "metadata": {}
        },
        {
          "output_type": "display_data",
          "data": {
            "text/plain": [
              "<IPython.core.display.Javascript object>"
            ],
            "application/javascript": [
              "download(\"download_b3275fa0-3c84-463f-b6e7-d009ccf394c2\", \"skimmed.mov\", 9708490)"
            ]
          },
          "metadata": {}
        }
      ]
    }
  ]
}